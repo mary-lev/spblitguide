{
  "cells": [
    {
      "cell_type": "markdown",
      "metadata": {
        "id": "view-in-github",
        "colab_type": "text"
      },
      "source": [
        "<a href=\"https://colab.research.google.com/github/mary-lev/spblitguide/blob/main/SPbLitGuide_DataProcessing.ipynb\" target=\"_parent\"><img src=\"https://colab.research.google.com/assets/colab-badge.svg\" alt=\"Open In Colab\"/></a>"
      ]
    },
    {
      "cell_type": "markdown",
      "metadata": {
        "id": "LO9UXKTcDu27"
      },
      "source": [
        "# Data Extraction and Processing"
      ]
    },
    {
      "cell_type": "code",
      "execution_count": 1,
      "metadata": {
        "colab": {
          "base_uri": "https://localhost:8080/"
        },
        "id": "0wXznzZsl4iH",
        "outputId": "204fea26-7eca-473c-a7ee-d341f78ae826"
      },
      "outputs": [
        {
          "output_type": "stream",
          "name": "stdout",
          "text": [
            "Mounted at /content/drive\n"
          ]
        }
      ],
      "source": [
        "from google.colab import drive\n",
        "drive.mount('/content/drive')"
      ]
    },
    {
      "cell_type": "code",
      "execution_count": 2,
      "metadata": {
        "id": "K87FBlEbmiqQ"
      },
      "outputs": [],
      "source": [
        "import re\n",
        "import csv\n",
        "import pandas as pd\n",
        "from IPython.display import Code\n",
        "import xml.etree.ElementTree as ET\n",
        "from bs4 import BeautifulSoup, NavigableString"
      ]
    },
    {
      "cell_type": "code",
      "execution_count": 3,
      "metadata": {
        "colab": {
          "base_uri": "https://localhost:8080/"
        },
        "id": "2Wbc79t4mlyg",
        "outputId": "1835f948-629d-4810-f1c7-1b49e32ba662"
      },
      "outputs": [
        {
          "output_type": "stream",
          "name": "stdout",
          "text": [
            "/content/drive/My Drive/data/litgid\n"
          ]
        }
      ],
      "source": [
        "%cd /content/drive/My Drive/data/litgid/"
      ]
    },
    {
      "cell_type": "markdown",
      "metadata": {
        "id": "w3r5xUFSDtGE"
      },
      "source": [
        "## WordPress post"
      ]
    },
    {
      "cell_type": "code",
      "execution_count": null,
      "metadata": {
        "id": "hTxzz8A-nH1_"
      },
      "outputs": [],
      "source": [
        "post = \"post.html\"\n",
        "with open(post, \"r\") as f:\n",
        "  text = f.read()\n"
      ]
    },
    {
      "cell_type": "code",
      "execution_count": null,
      "metadata": {
        "colab": {
          "base_uri": "https://localhost:8080/",
          "height": 265
        },
        "id": "h3pdimA3Asn2",
        "outputId": "b191f944-7ba5-4f2c-cb62-878a0005ceba"
      },
      "outputs": [
        {
          "data": {
            "text/html": [
              "<style>pre { line-height: 125%; }\n",
              "td.linenos .normal { color: inherit; background-color: transparent; padding-left: 5px; padding-right: 5px; }\n",
              "span.linenos { color: inherit; background-color: transparent; padding-left: 5px; padding-right: 5px; }\n",
              "td.linenos .special { color: #000000; background-color: #ffffc0; padding-left: 5px; padding-right: 5px; }\n",
              "span.linenos.special { color: #000000; background-color: #ffffc0; padding-left: 5px; padding-right: 5px; }\n",
              ".output_html .hll { background-color: #ffffcc }\n",
              ".output_html { background: #f8f8f8; }\n",
              ".output_html .c { color: #3D7B7B; font-style: italic } /* Comment */\n",
              ".output_html .err { border: 1px solid #FF0000 } /* Error */\n",
              ".output_html .k { color: #008000; font-weight: bold } /* Keyword */\n",
              ".output_html .o { color: #666666 } /* Operator */\n",
              ".output_html .ch { color: #3D7B7B; font-style: italic } /* Comment.Hashbang */\n",
              ".output_html .cm { color: #3D7B7B; font-style: italic } /* Comment.Multiline */\n",
              ".output_html .cp { color: #9C6500 } /* Comment.Preproc */\n",
              ".output_html .cpf { color: #3D7B7B; font-style: italic } /* Comment.PreprocFile */\n",
              ".output_html .c1 { color: #3D7B7B; font-style: italic } /* Comment.Single */\n",
              ".output_html .cs { color: #3D7B7B; font-style: italic } /* Comment.Special */\n",
              ".output_html .gd { color: #A00000 } /* Generic.Deleted */\n",
              ".output_html .ge { font-style: italic } /* Generic.Emph */\n",
              ".output_html .ges { font-weight: bold; font-style: italic } /* Generic.EmphStrong */\n",
              ".output_html .gr { color: #E40000 } /* Generic.Error */\n",
              ".output_html .gh { color: #000080; font-weight: bold } /* Generic.Heading */\n",
              ".output_html .gi { color: #008400 } /* Generic.Inserted */\n",
              ".output_html .go { color: #717171 } /* Generic.Output */\n",
              ".output_html .gp { color: #000080; font-weight: bold } /* Generic.Prompt */\n",
              ".output_html .gs { font-weight: bold } /* Generic.Strong */\n",
              ".output_html .gu { color: #800080; font-weight: bold } /* Generic.Subheading */\n",
              ".output_html .gt { color: #0044DD } /* Generic.Traceback */\n",
              ".output_html .kc { color: #008000; font-weight: bold } /* Keyword.Constant */\n",
              ".output_html .kd { color: #008000; font-weight: bold } /* Keyword.Declaration */\n",
              ".output_html .kn { color: #008000; font-weight: bold } /* Keyword.Namespace */\n",
              ".output_html .kp { color: #008000 } /* Keyword.Pseudo */\n",
              ".output_html .kr { color: #008000; font-weight: bold } /* Keyword.Reserved */\n",
              ".output_html .kt { color: #B00040 } /* Keyword.Type */\n",
              ".output_html .m { color: #666666 } /* Literal.Number */\n",
              ".output_html .s { color: #BA2121 } /* Literal.String */\n",
              ".output_html .na { color: #687822 } /* Name.Attribute */\n",
              ".output_html .nb { color: #008000 } /* Name.Builtin */\n",
              ".output_html .nc { color: #0000FF; font-weight: bold } /* Name.Class */\n",
              ".output_html .no { color: #880000 } /* Name.Constant */\n",
              ".output_html .nd { color: #AA22FF } /* Name.Decorator */\n",
              ".output_html .ni { color: #717171; font-weight: bold } /* Name.Entity */\n",
              ".output_html .ne { color: #CB3F38; font-weight: bold } /* Name.Exception */\n",
              ".output_html .nf { color: #0000FF } /* Name.Function */\n",
              ".output_html .nl { color: #767600 } /* Name.Label */\n",
              ".output_html .nn { color: #0000FF; font-weight: bold } /* Name.Namespace */\n",
              ".output_html .nt { color: #008000; font-weight: bold } /* Name.Tag */\n",
              ".output_html .nv { color: #19177C } /* Name.Variable */\n",
              ".output_html .ow { color: #AA22FF; font-weight: bold } /* Operator.Word */\n",
              ".output_html .w { color: #bbbbbb } /* Text.Whitespace */\n",
              ".output_html .mb { color: #666666 } /* Literal.Number.Bin */\n",
              ".output_html .mf { color: #666666 } /* Literal.Number.Float */\n",
              ".output_html .mh { color: #666666 } /* Literal.Number.Hex */\n",
              ".output_html .mi { color: #666666 } /* Literal.Number.Integer */\n",
              ".output_html .mo { color: #666666 } /* Literal.Number.Oct */\n",
              ".output_html .sa { color: #BA2121 } /* Literal.String.Affix */\n",
              ".output_html .sb { color: #BA2121 } /* Literal.String.Backtick */\n",
              ".output_html .sc { color: #BA2121 } /* Literal.String.Char */\n",
              ".output_html .dl { color: #BA2121 } /* Literal.String.Delimiter */\n",
              ".output_html .sd { color: #BA2121; font-style: italic } /* Literal.String.Doc */\n",
              ".output_html .s2 { color: #BA2121 } /* Literal.String.Double */\n",
              ".output_html .se { color: #AA5D1F; font-weight: bold } /* Literal.String.Escape */\n",
              ".output_html .sh { color: #BA2121 } /* Literal.String.Heredoc */\n",
              ".output_html .si { color: #A45A77; font-weight: bold } /* Literal.String.Interpol */\n",
              ".output_html .sx { color: #008000 } /* Literal.String.Other */\n",
              ".output_html .sr { color: #A45A77 } /* Literal.String.Regex */\n",
              ".output_html .s1 { color: #BA2121 } /* Literal.String.Single */\n",
              ".output_html .ss { color: #19177C } /* Literal.String.Symbol */\n",
              ".output_html .bp { color: #008000 } /* Name.Builtin.Pseudo */\n",
              ".output_html .fm { color: #0000FF } /* Name.Function.Magic */\n",
              ".output_html .vc { color: #19177C } /* Name.Variable.Class */\n",
              ".output_html .vg { color: #19177C } /* Name.Variable.Global */\n",
              ".output_html .vi { color: #19177C } /* Name.Variable.Instance */\n",
              ".output_html .vm { color: #19177C } /* Name.Variable.Magic */\n",
              ".output_html .il { color: #666666 } /* Literal.Number.Integer.Long */</style><div class=\"highlight\"><pre><span></span><span class=\"nt\">&lt;post&gt;</span>\n",
              "<span class=\"w\">\t\t</span><span class=\"nt\">&lt;id&gt;</span>1<span class=\"nt\">&lt;/id&gt;</span>\n",
              "<span class=\"w\">\t\t</span><span class=\"nt\">&lt;Title&gt;</span>SPbLitGuide<span class=\"w\"> </span>15-03-1<span class=\"nt\">&lt;/Title&gt;</span>\n",
              "<span class=\"w\">\t\t</span><span class=\"nt\">&lt;Content&gt;</span><span class=\"cp\">&lt;![CDATA[&lt;b&gt;</span><span class=\"nt\">&lt;i&gt;</span>05.03.15<span class=\"w\"> </span>четверг<span class=\"w\"> </span>19.00<span class=\"w\"> </span>Галерея<span class=\"w\"> </span>&quot;АРТ-ЛИГА&quot;<span class=\"w\"> </span>(<span class=\"nt\">&lt;span</span><span class=\"w\"> </span><span class=\"na\">class=</span><span class=\"s\">&quot;js-extracted-address daria-action mail-message-map-link&quot;</span><span class=\"w\"> </span><span class=\"na\">data-action=</span><span class=\"s\">&quot;map-up.showAddress&quot;</span><span class=\"w\"> </span><span class=\"na\">data-params=</span><span class=\"s\">&quot;address=Пушкинская 10&amp;amp;ids=2060000005087047874&quot;</span><span class=\"nt\">&gt;</span>Пушкинская<span class=\"w\"> </span><span class=\"nt\">&lt;span</span><span class=\"w\"> </span><span class=\"na\">class=</span><span class=\"s\">&quot;mail-message-map-nobreak&quot;</span><span class=\"nt\">&gt;</span>10<span class=\"nt\">&lt;/span&gt;&lt;/span&gt;</span>,<span class=\"w\"> </span>вход<span class=\"w\"> </span>с<span class=\"w\"> </span><span class=\"nt\">&lt;span</span><span class=\"w\"> </span><span class=\"na\">class=</span><span class=\"s\">&quot;js-extracted-address daria-action mail-message-map-link&quot;</span><span class=\"w\"> </span><span class=\"na\">data-action=</span><span class=\"s\">&quot;map-up.showAddress&quot;</span><span class=\"w\"> </span><span class=\"na\">data-params=</span><span class=\"s\">&quot;address=Лиговского, 53&amp;amp;ids=2060000005087047874&quot;</span><span class=\"nt\">&gt;</span>Лиговского,<span class=\"w\"> </span><span class=\"nt\">&lt;span</span><span class=\"w\"> </span><span class=\"na\">class=</span><span class=\"s\">&quot;mail-message-map-nobreak&quot;</span><span class=\"nt\">&gt;</span>53<span class=\"nt\">&lt;/span&gt;&lt;/span&gt;</span>,<span class=\"w\"> </span>парадная<span class=\"w\"> </span>налево,<span class=\"w\"> </span>7<span class=\"w\"> </span>этаж)<span class=\"nt\">&lt;/i&gt;&lt;/b&gt;</span>\n",
              "Большой<span class=\"w\"> </span>поэтический<span class=\"w\"> </span>вечер<span class=\"w\"> </span>в<span class=\"w\"> </span>самом<span class=\"w\"> </span>начале<span class=\"w\"> </span>весны!<span class=\"w\"> </span>Дмитрий<span class=\"w\"> </span>Артис,<span class=\"w\"> </span>Борис<span class=\"w\"> </span>Кутенков<span class=\"w\"> </span>(Москва),Дмитрий<span class=\"w\"> </span>Шабанов,<span class=\"w\"> </span>Рахман<span class=\"w\"> </span>Кусимов,<span class=\"w\"> </span>Серафима<span class=\"w\"> </span>Сапрыкина,<span class=\"w\"> </span>Ася<span class=\"w\"> </span>Анистратенко.\n",
              "[соб.<span class=\"w\"> </span>инф.]\n",
              "\n",
              "<span class=\"nt\">&lt;b&gt;&lt;i&gt;</span>05.03.15<span class=\"w\"> </span>четверг<span class=\"w\"> </span>19.00<span class=\"w\"> </span>Библиотека<span class=\"w\"> </span>Лермонтова<span class=\"w\"> </span>(<span class=\"nt\">&lt;span</span><span class=\"w\"> </span><span class=\"na\">class=</span><span class=\"s\">&quot;js-extracted-address daria-action mail-message-map-link&quot;</span><span class=\"w\"> </span><span class=\"na\">data-action=</span><span class=\"s\">&quot;map-up.showAddress&quot;</span><span class=\"w\"> </span><span class=\"na\">data-params=</span><span class=\"s\">&quot;address=Литейный пр., 19&amp;amp;ids=2060000005087047874&quot;</span><span class=\"nt\">&gt;</span>Литейный<span class=\"w\"> </span>пр.,<span class=\"w\"> </span><span class=\"nt\">&lt;span</span><span class=\"w\"> </span><span class=\"na\">class=</span><span class=\"s\">&quot;mail-message-map-nobreak&quot;</span><span class=\"nt\">&gt;</span>19<span class=\"nt\">&lt;/span&gt;&lt;/span&gt;</span>)<span class=\"nt\">&lt;/i&gt;&lt;/b&gt;</span>\n",
              "&quot;Наполеоновские<span class=\"w\"> </span>войны<span class=\"w\"> </span>и<span class=\"w\"> </span>Кавказ<span class=\"w\"> </span>-<span class=\"w\"> </span>взглядом<span class=\"w\"> </span>Ермолова&quot;.<span class=\"w\"> </span>Читает<span class=\"w\"> </span>историк,<span class=\"w\"> </span>публицист,<span class=\"w\"> </span>главный<span class=\"w\"> </span>редактор<span class=\"w\"> </span>журнала<span class=\"w\"> </span>«Звезда»<span class=\"w\"> </span>-<span class=\"w\"> </span>Яков<span class=\"w\"> </span>Аркадьевич<span class=\"w\"> </span>Гордин.<span class=\"w\"> </span>Герой<span class=\"w\"> </span>Наполеоновских<span class=\"w\"> </span>войн,<span class=\"w\"> </span>проконсул<span class=\"w\"> </span>Кавказа,<span class=\"w\"> </span>генерал<span class=\"w\"> </span>от<span class=\"w\"> </span>инфантерии<span class=\"w\"> </span>и<span class=\"w\"> </span>артиллерии<span class=\"w\"> </span>Алексей<span class=\"w\"> </span>Петрович<span class=\"w\"> </span>Ермолов<span class=\"w\"> </span>оставил<span class=\"w\"> </span>обширную<span class=\"w\"> </span>переписку.<span class=\"w\"> </span>Письма<span class=\"w\"> </span>Ермолова<span class=\"w\"> </span>—<span class=\"w\"> </span>неисчерпаемый<span class=\"w\"> </span>источник<span class=\"w\"> </span>сведений<span class=\"w\"> </span>о<span class=\"w\"> </span>его<span class=\"w\"> </span>взглядах<span class=\"w\"> </span>и<span class=\"w\"> </span>планах,<span class=\"w\"> </span>которые<span class=\"w\"> </span>были<span class=\"w\"> </span>осуществлены<span class=\"w\"> </span>или<span class=\"w\"> </span>остались<span class=\"w\"> </span>лишь<span class=\"w\"> </span>намерениями,<span class=\"w\"> </span>они<span class=\"w\"> </span>дают<span class=\"w\"> </span>возможность<span class=\"w\"> </span>приблизиться<span class=\"w\"> </span>к<span class=\"w\"> </span>пониманию<span class=\"w\"> </span>масштабности<span class=\"w\"> </span>фигуры<span class=\"w\"> </span>их<span class=\"w\"> </span>автора<span class=\"w\"> </span>и<span class=\"w\"> </span>проникнуть<span class=\"w\"> </span>в<span class=\"w\"> </span>психологический<span class=\"w\"> </span>климат<span class=\"w\"> </span>«ермоловской<span class=\"w\"> </span>эпохи»,<span class=\"w\"> </span>помогают<span class=\"w\"> </span>пролить<span class=\"w\"> </span>свет<span class=\"w\"> </span>на<span class=\"w\"> </span>многие<span class=\"w\"> </span>сюжеты<span class=\"w\"> </span>истории.<span class=\"w\"> </span>Эпистолярное<span class=\"w\"> </span>наследие<span class=\"w\"> </span>Ермолова<span class=\"w\"> </span>является<span class=\"w\"> </span>объектом<span class=\"w\"> </span>многолетней<span class=\"w\"> </span>исследовательской<span class=\"w\"> </span>работы<span class=\"w\"> </span>Я.<span class=\"w\"> </span>А.<span class=\"w\"> </span>Гордина.<span class=\"w\"> </span>Яков<span class=\"w\"> </span>Аркадьевич<span class=\"w\"> </span>Гордин<span class=\"w\"> </span>известен<span class=\"w\"> </span>независимыми<span class=\"w\"> </span>историческими<span class=\"w\"> </span>исследованиями<span class=\"w\"> </span>и<span class=\"w\"> </span>специализируется<span class=\"w\"> </span>на<span class=\"w\"> </span>кризисных<span class=\"w\"> </span>ситуациях<span class=\"w\"> </span>русской<span class=\"w\"> </span>политической<span class=\"w\"> </span>истории<span class=\"w\"> </span>XVIII—XIX<span class=\"w\"> </span>веков;<span class=\"w\"> </span>автор<span class=\"w\"> </span>многих<span class=\"w\"> </span>статей<span class=\"w\"> </span>и<span class=\"w\"> </span>ряда<span class=\"w\"> </span>книг,<span class=\"w\"> </span>в<span class=\"w\"> </span>том<span class=\"w\"> </span>числе<span class=\"w\"> </span>«Ермолов»,<span class=\"w\"> </span>«Алексей<span class=\"w\"> </span>Ермолов.<span class=\"w\"> </span>Солдат<span class=\"w\"> </span>и<span class=\"w\"> </span>его<span class=\"w\"> </span>империя»,<span class=\"w\"> </span>&quot;Гибель<span class=\"w\"> </span>Пушкина&quot;,<span class=\"w\"> </span>&quot;Между<span class=\"w\"> </span>рабством<span class=\"w\"> </span>и<span class=\"w\"> </span>свободой&quot;,<span class=\"w\"> </span>&quot;Дуэли<span class=\"w\"> </span>и<span class=\"w\"> </span>дуэлянты&quot;,<span class=\"w\"> </span>&quot;Мятеж<span class=\"w\"> </span>реформаторов&quot;.<span class=\"w\"> </span>Историческая<span class=\"w\"> </span>беллетристика<span class=\"w\"> </span>с<span class=\"w\"> </span>документальной<span class=\"w\"> </span>основой<span class=\"w\"> </span>и<span class=\"w\"> </span>эссеистика<span class=\"w\"> </span>на<span class=\"w\"> </span>исторические<span class=\"w\"> </span>темы<span class=\"w\"> </span>–<span class=\"w\"> </span>основные<span class=\"w\"> </span>жанры<span class=\"w\"> </span>творчества<span class=\"w\"> </span>Я.<span class=\"w\"> </span>А.<span class=\"w\"> </span>Гордина<span class=\"w\"> </span>с<span class=\"w\"> </span>середины<span class=\"w\"> </span>1970-х<span class=\"w\"> </span>гг.<span class=\"w\"> </span>Яков<span class=\"w\"> </span>Аркадьевич<span class=\"w\"> </span>Гордин<span class=\"w\"> </span>за<span class=\"w\"> </span>многие<span class=\"w\"> </span>годы<span class=\"w\"> </span>литературного<span class=\"w\"> </span>и<span class=\"w\"> </span>просветительского<span class=\"w\"> </span>труда<span class=\"w\"> </span>внёс<span class=\"w\"> </span>неоценимый<span class=\"w\"> </span>вклад<span class=\"w\"> </span>в<span class=\"w\"> </span>развитие<span class=\"w\"> </span>просветительской<span class=\"w\"> </span>мысли.\n",
              "[лермонтовка]\n",
              "\n",
              "<span class=\"nt\">&lt;b&gt;&lt;i&gt;</span>05.03.15<span class=\"w\"> </span>четверг<span class=\"w\"> </span>19.30<span class=\"w\"> </span>Антикафе<span class=\"w\"> </span>&quot;О&#39;Лень&quot;<span class=\"w\"> </span>(БЦ<span class=\"w\"> </span>«Остров»,<span class=\"w\"> </span><span class=\"nt\">&lt;span</span><span class=\"w\"> </span><span class=\"na\">class=</span><span class=\"s\">&quot;js-extracted-address daria-action mail-message-map-link&quot;</span><span class=\"w\"> </span><span class=\"na\">data-action=</span><span class=\"s\">&quot;map-up.showAddress&quot;</span><span class=\"w\"> </span><span class=\"na\">data-params=</span><span class=\"s\">&quot;address=Средний пр В.О. 36/40&amp;amp;ids=2060000005087047874&quot;</span><span class=\"nt\">&gt;</span>Средний<span class=\"w\"> </span>пр<span class=\"w\"> </span>В.О.<span class=\"w\"> </span><span class=\"nt\">&lt;span</span><span class=\"w\"> </span><span class=\"na\">class=</span><span class=\"s\">&quot;mail-message-map-nobreak&quot;</span><span class=\"nt\">&gt;</span>36/40<span class=\"nt\">&lt;/span&gt;&lt;/span&gt;</span>,<span class=\"w\"> </span>угол<span class=\"w\"> </span>Среднего<span class=\"w\"> </span>и<span class=\"w\"> </span>9й<span class=\"w\"> </span>линии,<span class=\"w\"> </span>3<span class=\"w\"> </span>этаж<span class=\"w\"> </span>)<span class=\"w\"> </span>тариф<span class=\"w\"> </span>антикафе<span class=\"w\"> </span>2р./мин<span class=\"nt\">&lt;/i&gt;&lt;/b&gt;</span>\n",
              "Космическо-эзотерическо-п<span class=\"nt\">&lt;wbr</span><span class=\"w\"> </span><span class=\"nt\">/&gt;</span>оэтический<span class=\"w\"> </span>вечер<span class=\"w\"> </span>Мари<span class=\"w\"> </span>Stell<span class=\"w\"> </span>&quot;Трансцендентность&quot;.<span class=\"w\"> </span>Погружение<span class=\"w\"> </span>в<span class=\"w\"> </span>мир<span class=\"w\"> </span>таинственных<span class=\"w\"> </span>образов<span class=\"w\"> </span>и<span class=\"w\"> </span>чувственных<span class=\"w\"> </span>переживаний,<span class=\"w\"> </span>не<span class=\"w\"> </span>поддающихся<span class=\"w\"> </span>контролю<span class=\"w\"> </span>форм\n",
              "</pre></div>\n"
            ],
            "text/latex": "\\begin{Verbatim}[commandchars=\\\\\\{\\}]\n\\PY{n+nt}{\\PYZlt{}post}\\PY{n+nt}{\\PYZgt{}}\n\\PY{+w}{\t\t}\\PY{n+nt}{\\PYZlt{}id}\\PY{n+nt}{\\PYZgt{}}1\\PY{n+nt}{\\PYZlt{}/id\\PYZgt{}}\n\\PY{+w}{\t\t}\\PY{n+nt}{\\PYZlt{}Title}\\PY{n+nt}{\\PYZgt{}}SPbLitGuide\\PY{+w}{ }15\\PYZhy{}03\\PYZhy{}1\\PY{n+nt}{\\PYZlt{}/Title\\PYZgt{}}\n\\PY{+w}{\t\t}\\PY{n+nt}{\\PYZlt{}Content}\\PY{n+nt}{\\PYZgt{}}\\PY{c+cp}{\\PYZlt{}![CDATA[\\PYZlt{}b\\PYZgt{}}\\PY{n+nt}{\\PYZlt{}i}\\PY{n+nt}{\\PYZgt{}}05.03.15\\PY{+w}{ }четверг\\PY{+w}{ }19.00\\PY{+w}{ }Галерея\\PY{+w}{ }\\PYZdq{}АРТ\\PYZhy{}ЛИГА\\PYZdq{}\\PY{+w}{ }(\\PY{n+nt}{\\PYZlt{}span}\\PY{+w}{ }\\PY{n+na}{class=}\\PY{l+s}{\\PYZdq{}js\\PYZhy{}extracted\\PYZhy{}address daria\\PYZhy{}action mail\\PYZhy{}message\\PYZhy{}map\\PYZhy{}link\\PYZdq{}}\\PY{+w}{ }\\PY{n+na}{data\\PYZhy{}action=}\\PY{l+s}{\\PYZdq{}map\\PYZhy{}up.showAddress\\PYZdq{}}\\PY{+w}{ }\\PY{n+na}{data\\PYZhy{}params=}\\PY{l+s}{\\PYZdq{}address=Пушкинская 10\\PYZam{}amp;ids=2060000005087047874\\PYZdq{}}\\PY{n+nt}{\\PYZgt{}}Пушкинская\\PY{+w}{ }\\PY{n+nt}{\\PYZlt{}span}\\PY{+w}{ }\\PY{n+na}{class=}\\PY{l+s}{\\PYZdq{}mail\\PYZhy{}message\\PYZhy{}map\\PYZhy{}nobreak\\PYZdq{}}\\PY{n+nt}{\\PYZgt{}}10\\PY{n+nt}{\\PYZlt{}/span\\PYZgt{}}\\PY{n+nt}{\\PYZlt{}/span\\PYZgt{}},\\PY{+w}{ }вход\\PY{+w}{ }с\\PY{+w}{ }\\PY{n+nt}{\\PYZlt{}span}\\PY{+w}{ }\\PY{n+na}{class=}\\PY{l+s}{\\PYZdq{}js\\PYZhy{}extracted\\PYZhy{}address daria\\PYZhy{}action mail\\PYZhy{}message\\PYZhy{}map\\PYZhy{}link\\PYZdq{}}\\PY{+w}{ }\\PY{n+na}{data\\PYZhy{}action=}\\PY{l+s}{\\PYZdq{}map\\PYZhy{}up.showAddress\\PYZdq{}}\\PY{+w}{ }\\PY{n+na}{data\\PYZhy{}params=}\\PY{l+s}{\\PYZdq{}address=Лиговского, 53\\PYZam{}amp;ids=2060000005087047874\\PYZdq{}}\\PY{n+nt}{\\PYZgt{}}Лиговского,\\PY{+w}{ }\\PY{n+nt}{\\PYZlt{}span}\\PY{+w}{ }\\PY{n+na}{class=}\\PY{l+s}{\\PYZdq{}mail\\PYZhy{}message\\PYZhy{}map\\PYZhy{}nobreak\\PYZdq{}}\\PY{n+nt}{\\PYZgt{}}53\\PY{n+nt}{\\PYZlt{}/span\\PYZgt{}}\\PY{n+nt}{\\PYZlt{}/span\\PYZgt{}},\\PY{+w}{ }парадная\\PY{+w}{ }налево,\\PY{+w}{ }7\\PY{+w}{ }этаж)\\PY{n+nt}{\\PYZlt{}/i\\PYZgt{}}\\PY{n+nt}{\\PYZlt{}/b\\PYZgt{}}\nБольшой\\PY{+w}{ }поэтический\\PY{+w}{ }вечер\\PY{+w}{ }в\\PY{+w}{ }самом\\PY{+w}{ }начале\\PY{+w}{ }весны!\\PY{+w}{ }Дмитрий\\PY{+w}{ }Артис,\\PY{+w}{ }Борис\\PY{+w}{ }Кутенков\\PY{+w}{ }(Москва),Дмитрий\\PY{+w}{ }Шабанов,\\PY{+w}{ }Рахман\\PY{+w}{ }Кусимов,\\PY{+w}{ }Серафима\\PY{+w}{ }Сапрыкина,\\PY{+w}{ }Ася\\PY{+w}{ }Анистратенко.\n[соб.\\PY{+w}{ }инф.]\n\n\\PY{n+nt}{\\PYZlt{}b}\\PY{n+nt}{\\PYZgt{}}\\PY{n+nt}{\\PYZlt{}i}\\PY{n+nt}{\\PYZgt{}}05.03.15\\PY{+w}{ }четверг\\PY{+w}{ }19.00\\PY{+w}{ }Библиотека\\PY{+w}{ }Лермонтова\\PY{+w}{ }(\\PY{n+nt}{\\PYZlt{}span}\\PY{+w}{ }\\PY{n+na}{class=}\\PY{l+s}{\\PYZdq{}js\\PYZhy{}extracted\\PYZhy{}address daria\\PYZhy{}action mail\\PYZhy{}message\\PYZhy{}map\\PYZhy{}link\\PYZdq{}}\\PY{+w}{ }\\PY{n+na}{data\\PYZhy{}action=}\\PY{l+s}{\\PYZdq{}map\\PYZhy{}up.showAddress\\PYZdq{}}\\PY{+w}{ }\\PY{n+na}{data\\PYZhy{}params=}\\PY{l+s}{\\PYZdq{}address=Литейный пр., 19\\PYZam{}amp;ids=2060000005087047874\\PYZdq{}}\\PY{n+nt}{\\PYZgt{}}Литейный\\PY{+w}{ }пр.,\\PY{+w}{ }\\PY{n+nt}{\\PYZlt{}span}\\PY{+w}{ }\\PY{n+na}{class=}\\PY{l+s}{\\PYZdq{}mail\\PYZhy{}message\\PYZhy{}map\\PYZhy{}nobreak\\PYZdq{}}\\PY{n+nt}{\\PYZgt{}}19\\PY{n+nt}{\\PYZlt{}/span\\PYZgt{}}\\PY{n+nt}{\\PYZlt{}/span\\PYZgt{}})\\PY{n+nt}{\\PYZlt{}/i\\PYZgt{}}\\PY{n+nt}{\\PYZlt{}/b\\PYZgt{}}\n\\PYZdq{}Наполеоновские\\PY{+w}{ }войны\\PY{+w}{ }и\\PY{+w}{ }Кавказ\\PY{+w}{ }\\PYZhy{}\\PY{+w}{ }взглядом\\PY{+w}{ }Ермолова\\PYZdq{}.\\PY{+w}{ }Читает\\PY{+w}{ }историк,\\PY{+w}{ }публицист,\\PY{+w}{ }главный\\PY{+w}{ }редактор\\PY{+w}{ }журнала\\PY{+w}{ }«Звезда»\\PY{+w}{ }\\PYZhy{}\\PY{+w}{ }Яков\\PY{+w}{ }Аркадьевич\\PY{+w}{ }Гордин.\\PY{+w}{ }Герой\\PY{+w}{ }Наполеоновских\\PY{+w}{ }войн,\\PY{+w}{ }проконсул\\PY{+w}{ }Кавказа,\\PY{+w}{ }генерал\\PY{+w}{ }от\\PY{+w}{ }инфантерии\\PY{+w}{ }и\\PY{+w}{ }артиллерии\\PY{+w}{ }Алексей\\PY{+w}{ }Петрович\\PY{+w}{ }Ермолов\\PY{+w}{ }оставил\\PY{+w}{ }обширную\\PY{+w}{ }переписку.\\PY{+w}{ }Письма\\PY{+w}{ }Ермолова\\PY{+w}{ }—\\PY{+w}{ }неисчерпаемый\\PY{+w}{ }источник\\PY{+w}{ }сведений\\PY{+w}{ }о\\PY{+w}{ }его\\PY{+w}{ }взглядах\\PY{+w}{ }и\\PY{+w}{ }планах,\\PY{+w}{ }которые\\PY{+w}{ }были\\PY{+w}{ }осуществлены\\PY{+w}{ }или\\PY{+w}{ }остались\\PY{+w}{ }лишь\\PY{+w}{ }намерениями,\\PY{+w}{ }они\\PY{+w}{ }дают\\PY{+w}{ }возможность\\PY{+w}{ }приблизиться\\PY{+w}{ }к\\PY{+w}{ }пониманию\\PY{+w}{ }масштабности\\PY{+w}{ }фигуры\\PY{+w}{ }их\\PY{+w}{ }автора\\PY{+w}{ }и\\PY{+w}{ }проникнуть\\PY{+w}{ }в\\PY{+w}{ }психологический\\PY{+w}{ }климат\\PY{+w}{ }«ермоловской\\PY{+w}{ }эпохи»,\\PY{+w}{ }помогают\\PY{+w}{ }пролить\\PY{+w}{ }свет\\PY{+w}{ }на\\PY{+w}{ }многие\\PY{+w}{ }сюжеты\\PY{+w}{ }истории.\\PY{+w}{ }Эпистолярное\\PY{+w}{ }наследие\\PY{+w}{ }Ермолова\\PY{+w}{ }является\\PY{+w}{ }объектом\\PY{+w}{ }многолетней\\PY{+w}{ }исследовательской\\PY{+w}{ }работы\\PY{+w}{ }Я.\\PY{+w}{ }А.\\PY{+w}{ }Гордина.\\PY{+w}{ }Яков\\PY{+w}{ }Аркадьевич\\PY{+w}{ }Гордин\\PY{+w}{ }известен\\PY{+w}{ }независимыми\\PY{+w}{ }историческими\\PY{+w}{ }исследованиями\\PY{+w}{ }и\\PY{+w}{ }специализируется\\PY{+w}{ }на\\PY{+w}{ }кризисных\\PY{+w}{ }ситуациях\\PY{+w}{ }русской\\PY{+w}{ }политической\\PY{+w}{ }истории\\PY{+w}{ }XVIII—XIX\\PY{+w}{ }веков;\\PY{+w}{ }автор\\PY{+w}{ }многих\\PY{+w}{ }статей\\PY{+w}{ }и\\PY{+w}{ }ряда\\PY{+w}{ }книг,\\PY{+w}{ }в\\PY{+w}{ }том\\PY{+w}{ }числе\\PY{+w}{ }«Ермолов»,\\PY{+w}{ }«Алексей\\PY{+w}{ }Ермолов.\\PY{+w}{ }Солдат\\PY{+w}{ }и\\PY{+w}{ }его\\PY{+w}{ }империя»,\\PY{+w}{ }\\PYZdq{}Гибель\\PY{+w}{ }Пушкина\\PYZdq{},\\PY{+w}{ }\\PYZdq{}Между\\PY{+w}{ }рабством\\PY{+w}{ }и\\PY{+w}{ }свободой\\PYZdq{},\\PY{+w}{ }\\PYZdq{}Дуэли\\PY{+w}{ }и\\PY{+w}{ }дуэлянты\\PYZdq{},\\PY{+w}{ }\\PYZdq{}Мятеж\\PY{+w}{ }реформаторов\\PYZdq{}.\\PY{+w}{ }Историческая\\PY{+w}{ }беллетристика\\PY{+w}{ }с\\PY{+w}{ }документальной\\PY{+w}{ }основой\\PY{+w}{ }и\\PY{+w}{ }эссеистика\\PY{+w}{ }на\\PY{+w}{ }исторические\\PY{+w}{ }темы\\PY{+w}{ }–\\PY{+w}{ }основные\\PY{+w}{ }жанры\\PY{+w}{ }творчества\\PY{+w}{ }Я.\\PY{+w}{ }А.\\PY{+w}{ }Гордина\\PY{+w}{ }с\\PY{+w}{ }середины\\PY{+w}{ }1970\\PYZhy{}х\\PY{+w}{ }гг.\\PY{+w}{ }Яков\\PY{+w}{ }Аркадьевич\\PY{+w}{ }Гордин\\PY{+w}{ }за\\PY{+w}{ }многие\\PY{+w}{ }годы\\PY{+w}{ }литературного\\PY{+w}{ }и\\PY{+w}{ }просветительского\\PY{+w}{ }труда\\PY{+w}{ }внёс\\PY{+w}{ }неоценимый\\PY{+w}{ }вклад\\PY{+w}{ }в\\PY{+w}{ }развитие\\PY{+w}{ }просветительской\\PY{+w}{ }мысли.\n[лермонтовка]\n\n\\PY{n+nt}{\\PYZlt{}b}\\PY{n+nt}{\\PYZgt{}}\\PY{n+nt}{\\PYZlt{}i}\\PY{n+nt}{\\PYZgt{}}05.03.15\\PY{+w}{ }четверг\\PY{+w}{ }19.30\\PY{+w}{ }Антикафе\\PY{+w}{ }\\PYZdq{}О\\PYZsq{}Лень\\PYZdq{}\\PY{+w}{ }(БЦ\\PY{+w}{ }«Остров»,\\PY{+w}{ }\\PY{n+nt}{\\PYZlt{}span}\\PY{+w}{ }\\PY{n+na}{class=}\\PY{l+s}{\\PYZdq{}js\\PYZhy{}extracted\\PYZhy{}address daria\\PYZhy{}action mail\\PYZhy{}message\\PYZhy{}map\\PYZhy{}link\\PYZdq{}}\\PY{+w}{ }\\PY{n+na}{data\\PYZhy{}action=}\\PY{l+s}{\\PYZdq{}map\\PYZhy{}up.showAddress\\PYZdq{}}\\PY{+w}{ }\\PY{n+na}{data\\PYZhy{}params=}\\PY{l+s}{\\PYZdq{}address=Средний пр В.О. 36/40\\PYZam{}amp;ids=2060000005087047874\\PYZdq{}}\\PY{n+nt}{\\PYZgt{}}Средний\\PY{+w}{ }пр\\PY{+w}{ }В.О.\\PY{+w}{ }\\PY{n+nt}{\\PYZlt{}span}\\PY{+w}{ }\\PY{n+na}{class=}\\PY{l+s}{\\PYZdq{}mail\\PYZhy{}message\\PYZhy{}map\\PYZhy{}nobreak\\PYZdq{}}\\PY{n+nt}{\\PYZgt{}}36/40\\PY{n+nt}{\\PYZlt{}/span\\PYZgt{}}\\PY{n+nt}{\\PYZlt{}/span\\PYZgt{}},\\PY{+w}{ }угол\\PY{+w}{ }Среднего\\PY{+w}{ }и\\PY{+w}{ }9й\\PY{+w}{ }линии,\\PY{+w}{ }3\\PY{+w}{ }этаж\\PY{+w}{ })\\PY{+w}{ }тариф\\PY{+w}{ }антикафе\\PY{+w}{ }2р./мин\\PY{n+nt}{\\PYZlt{}/i\\PYZgt{}}\\PY{n+nt}{\\PYZlt{}/b\\PYZgt{}}\nКосмическо\\PYZhy{}эзотерическо\\PYZhy{}п\\PY{n+nt}{\\PYZlt{}wbr}\\PY{+w}{ }\\PY{n+nt}{/\\PYZgt{}}оэтический\\PY{+w}{ }вечер\\PY{+w}{ }Мари\\PY{+w}{ }Stell\\PY{+w}{ }\\PYZdq{}Трансцендентность\\PYZdq{}.\\PY{+w}{ }Погружение\\PY{+w}{ }в\\PY{+w}{ }мир\\PY{+w}{ }таинственных\\PY{+w}{ }образов\\PY{+w}{ }и\\PY{+w}{ }чувственных\\PY{+w}{ }переживаний,\\PY{+w}{ }не\\PY{+w}{ }поддающихся\\PY{+w}{ }контролю\\PY{+w}{ }форм\n\\end{Verbatim}\n",
            "text/plain": [
              "<post>\n",
              "\t\t<id>1</id>\n",
              "\t\t<Title>SPbLitGuide 15-03-1</Title>\n",
              "\t\t<Content><![CDATA[<b><i>05.03.15 четверг 19.00 Галерея \"АРТ-ЛИГА\" (<span class=\"js-extracted-address daria-action mail-message-map-link\" data-action=\"map-up.showAddress\" data-params=\"address=Пушкинская 10&amp;ids=2060000005087047874\">Пушкинская <span class=\"mail-message-map-nobreak\">10</span></span>, вход с <span class=\"js-extracted-address daria-action mail-message-map-link\" data-action=\"map-up.showAddress\" data-params=\"address=Лиговского, 53&amp;ids=2060000005087047874\">Лиговского, <span class=\"mail-message-map-nobreak\">53</span></span>, парадная налево, 7 этаж)</i></b>\n",
              "Большой поэтический вечер в самом начале весны! Дмитрий Артис, Борис Кутенков (Москва),Дмитрий Шабанов, Рахман Кусимов, Серафима Сапрыкина, Ася Анистратенко.\n",
              "[соб. инф.]\n",
              "\n",
              "<b><i>05.03.15 четверг 19.00 Библиотека Лермонтова (<span class=\"js-extracted-address daria-action mail-message-map-link\" data-action=\"map-up.showAddress\" data-params=\"address=Литейный пр., 19&amp;ids=2060000005087047874\">Литейный пр., <span class=\"mail-message-map-nobreak\">19</span></span>)</i></b>\n",
              "\"Наполеоновские войны и Кавказ - взглядом Ермолова\". Читает историк, публицист, главный редактор журнала «Звезда» - Яков Аркадьевич Гордин. Герой Наполеоновских войн, проконсул Кавказа, генерал от инфантерии и артиллерии Алексей Петрович Ермолов оставил обширную переписку. Письма Ермолова — неисчерпаемый источник сведений о его взглядах и планах, которые были осуществлены или остались лишь намерениями, они дают возможность приблизиться к пониманию масштабности фигуры их автора и проникнуть в психологический климат «ермоловской эпохи», помогают пролить свет на многие сюжеты истории. Эпистолярное наследие Ермолова является объектом многолетней исследовательской работы Я. А. Гордина. Яков Аркадьевич Гордин известен независимыми историческими исследованиями и специализируется на кризисных ситуациях русской политической истории XVIII—XIX веков; автор многих статей и ряда книг, в том числе «Ермолов», «Алексей Ермолов. Солдат и его империя», \"Гибель Пушкина\", \"Между рабством и свободой\", \"Дуэли и дуэлянты\", \"Мятеж реформаторов\". Историческая беллетристика с документальной основой и эссеистика на исторические темы – основные жанры творчества Я. А. Гордина с середины 1970-х гг. Яков Аркадьевич Гордин за многие годы литературного и просветительского труда внёс неоценимый вклад в развитие просветительской мысли.\n",
              "[лермонтовка]\n",
              "\n",
              "<b><i>05.03.15 четверг 19.30 Антикафе \"О'Лень\" (БЦ «Остров», <span class=\"js-extracted-address daria-action mail-message-map-link\" data-action=\"map-up.showAddress\" data-params=\"address=Средний пр В.О. 36/40&amp;ids=2060000005087047874\">Средний пр В.О. <span class=\"mail-message-map-nobreak\">36/40</span></span>, угол Среднего и 9й линии, 3 этаж ) тариф антикафе 2р./мин</i></b>\n",
              "Космическо-эзотерическо-п<wbr />оэтический вечер Мари Stell \"Трансцендентность\". Погружение в мир таинственных образов и чувственных переживаний, не поддающихся контролю форм"
            ]
          },
          "execution_count": 11,
          "metadata": {},
          "output_type": "execute_result"
        }
      ],
      "source": [
        "Code(text[:3000])"
      ]
    },
    {
      "cell_type": "markdown",
      "metadata": {
        "id": "MARnOjIgD1mM"
      },
      "source": [
        "## XML Export from WordPress database"
      ]
    },
    {
      "cell_type": "code",
      "execution_count": null,
      "metadata": {
        "colab": {
          "base_uri": "https://localhost:8080/"
        },
        "id": "LuuvcdbPAsn5",
        "outputId": "c61a034c-ebbf-4ba9-8b77-87db03ff2423"
      },
      "outputs": [
        {
          "name": "stderr",
          "output_type": "stream",
          "text": [
            "<ipython-input-14-6100d3c24a93>:32: MarkupResemblesLocatorWarning: The input looks more like a filename than markup. You may want to open this file and pass the filehandle into Beautiful Soup.\n",
            "  soup = BeautifulSoup(match, 'html.parser')\n"
          ]
        }
      ],
      "source": [
        "# Regular expression patterns\n",
        "#date_pattern = re.compile(r'\\d{2}\\.\\d{2}\\.\\d{2}')\n",
        "date_pattern = re.compile(r'^\\d{2}\\.\\d{2}\\.\\d{2}', re.MULTILINE)\n",
        "date_full_pattern = re.compile(r'\\d{2}\\.\\d{2}\\.\\d{2} [а-яА-Я]+ \\d{2}\\.\\d{2}')\n",
        "record_pattern = re.compile(r'((?:<[^>]+>)*\\d{2}\\.\\d{2}\\.\\d{2}.*?)(?=\\n(?:<[^>]+>)*\\d{2}\\.\\d{2}\\.\\d{2}|\\Z)', re.DOTALL)\n",
        "info_source_pattern = re.compile(r'\\[(.*?)\\]')\n",
        "remove_places_pattern = re.compile(r'<b>МЕСТА</b>.*', re.DOTALL)\n",
        "\n",
        "# Path to your XML file\n",
        "xml_file = \"Export-2023-November-16-2231.xml\"\n",
        "\n",
        "# Parse the XML file\n",
        "tree = ET.parse(xml_file)\n",
        "root = tree.getroot()\n",
        "\n",
        "events = []\n",
        "count = 0\n",
        "\n",
        "# Iterate over the posts\n",
        "for post in root.findall('post'):\n",
        "    title = post.find(\"Title\").text\n",
        "    permalink = post.find(\"Permalink\").text\n",
        "    publication_date = post.find(\"Date\").text\n",
        "    content = post.find('Content').text.replace(\"<wbr />\", '').replace(\"</em></strong><strong><em>\", \"\")\n",
        "    content = remove_places_pattern.sub('', content)\n",
        "\n",
        "    # Find all matches of the record pattern in the content\n",
        "    matches = record_pattern.findall(content)\n",
        "\n",
        "    for match in matches:\n",
        "        # Process each match as a separate record\n",
        "        soup = BeautifulSoup(match, 'html.parser')\n",
        "        text = soup.get_text(strip=True)\n",
        "\n",
        "        # Check if the text starts with a date\n",
        "        if date_pattern.match(text):\n",
        "            info_source = \"\"\n",
        "\n",
        "            tag = soup.find_all(['b', 'strong'])\n",
        "            if tag:\n",
        "                event_data = tag[0].get_text(strip=True)\n",
        "                event_description = text.replace(event_data, \"\")\n",
        "            else:\n",
        "                try:\n",
        "                    event_data, event_description = text.split(\"\\n\", 1)\n",
        "                except:\n",
        "                    if date_full_pattern.match(text):\n",
        "                        print(text)\n",
        "                        count += 1\n",
        "\n",
        "            # Extract info source if present\n",
        "            info_source_match = info_source_pattern.search(text)\n",
        "            if info_source_match:\n",
        "                info_source = info_source_match.group(1)\n",
        "                event_description = info_source_pattern.sub('', event_description).strip()\n",
        "\n",
        "            events.append({\n",
        "                \"Event Data\": event_data.replace(\"\\n\", \"\"),\n",
        "                \"Event Description\": event_description.replace(\"\\n\", \"\"),\n",
        "                \"Info Source\": info_source,\n",
        "                \"Issue\": title,\n",
        "                \"Permalink\": permalink,\n",
        "                \"Publication Date\": publication_date,\n",
        "            })\n",
        "\n",
        "# Creating a DataFrame\n",
        "df_events = pd.DataFrame(events)\n"
      ]
    },
    {
      "cell_type": "code",
      "execution_count": null,
      "metadata": {
        "id": "KLfrgRNGAsn6"
      },
      "outputs": [],
      "source": [
        "df_events.to_csv(\"exported_from_2023_xml.csv\",\n",
        "                 sep='\\t',  # Tab as delimiter\n",
        "                 index=False,\n",
        "                 encoding='utf-8',\n",
        "                 quoting=csv.QUOTE_NONNUMERIC,\n",
        "                 escapechar='\\\\',\n",
        "                 )"
      ]
    },
    {
      "cell_type": "markdown",
      "metadata": {
        "id": "JoiL87eUFTxq"
      },
      "source": [
        "## Named Entity Recognition with DeepPavlov"
      ]
    },
    {
      "cell_type": "code",
      "execution_count": 4,
      "metadata": {
        "colab": {
          "base_uri": "https://localhost:8080/"
        },
        "id": "7_vBKgYYFYDM",
        "outputId": "3e8fd1c7-dd72-4301-e18f-9372e29f0dc0"
      },
      "outputs": [
        {
          "output_type": "stream",
          "name": "stdout",
          "text": [
            "\u001b[2K     \u001b[90m━━━━━━━━━━━━━━━━━━━━━━━━━━━━━━━━━━━━━━━━\u001b[0m \u001b[32m489.2/489.2 kB\u001b[0m \u001b[31m5.3 MB/s\u001b[0m eta \u001b[36m0:00:00\u001b[0m\n",
            "\u001b[2K     \u001b[90m━━━━━━━━━━━━━━━━━━━━━━━━━━━━━━━━━━━━━━━━\u001b[0m \u001b[32m55.8/55.8 kB\u001b[0m \u001b[31m5.1 MB/s\u001b[0m eta \u001b[36m0:00:00\u001b[0m\n",
            "\u001b[2K     \u001b[90m━━━━━━━━━━━━━━━━━━━━━━━━━━━━━━━━━━━━━━━━\u001b[0m \u001b[32m222.4/222.4 kB\u001b[0m \u001b[31m11.3 MB/s\u001b[0m eta \u001b[36m0:00:00\u001b[0m\n",
            "\u001b[2K     \u001b[90m━━━━━━━━━━━━━━━━━━━━━━━━━━━━━━━━━━━━━━━━\u001b[0m \u001b[32m26.5/26.5 MB\u001b[0m \u001b[31m36.5 MB/s\u001b[0m eta \u001b[36m0:00:00\u001b[0m\n",
            "\u001b[2K     \u001b[90m━━━━━━━━━━━━━━━━━━━━━━━━━━━━━━━━━━━━━━━━\u001b[0m \u001b[32m78.5/78.5 kB\u001b[0m \u001b[31m6.5 MB/s\u001b[0m eta \u001b[36m0:00:00\u001b[0m\n",
            "\u001b[2K     \u001b[90m━━━━━━━━━━━━━━━━━━━━━━━━━━━━━━━━━━━━━━━━\u001b[0m \u001b[32m57.4/57.4 kB\u001b[0m \u001b[31m4.7 MB/s\u001b[0m eta \u001b[36m0:00:00\u001b[0m\n",
            "\u001b[2K     \u001b[90m━━━━━━━━━━━━━━━━━━━━━━━━━━━━━━━━━━━━━━━━\u001b[0m \u001b[32m34.4/34.4 MB\u001b[0m \u001b[31m16.7 MB/s\u001b[0m eta \u001b[36m0:00:00\u001b[0m\n",
            "\u001b[2K     \u001b[90m━━━━━━━━━━━━━━━━━━━━━━━━━━━━━━━━━━━━━━━━\u001b[0m \u001b[32m64.3/64.3 kB\u001b[0m \u001b[31m6.5 MB/s\u001b[0m eta \u001b[36m0:00:00\u001b[0m\n",
            "\u001b[2K     \u001b[90m━━━━━━━━━━━━━━━━━━━━━━━━━━━━━━━━━━━━━━━━\u001b[0m \u001b[32m58.3/58.3 kB\u001b[0m \u001b[31m4.9 MB/s\u001b[0m eta \u001b[36m0:00:00\u001b[0m\n",
            "\u001b[?25h\u001b[31mERROR: pip's dependency resolver does not currently take into account all the packages that are installed. This behaviour is the source of the following dependency conflicts.\n",
            "lida 0.0.10 requires kaleido, which is not installed.\n",
            "lida 0.0.10 requires python-multipart, which is not installed.\n",
            "bigframes 0.13.0 requires scikit-learn>=1.2.2, but you have scikit-learn 1.0.2 which is incompatible.\u001b[0m\u001b[31m\n",
            "\u001b[0m"
          ]
        }
      ],
      "source": [
        "!pip install -q deeppavlov"
      ]
    },
    {
      "cell_type": "code",
      "execution_count": null,
      "metadata": {
        "id": "SXT54mZGF024"
      },
      "outputs": [],
      "source": [
        "!python -m deeppavlov install ner_ontonotes_bert"
      ]
    },
    {
      "cell_type": "code",
      "execution_count": 6,
      "metadata": {
        "colab": {
          "base_uri": "https://localhost:8080/",
          "height": 405,
          "referenced_widgets": [
            "527d62ef3e6b4cabafdce5ea1f9bb130",
            "d45fe98cb5ac4c4da75309946bd4e397",
            "a16aab7a52a949dfa1eb97aaac1754f9",
            "1b2c6d353bdb41b49757dcdee5f05860",
            "9b9fbd841f4945d28c0fb5c32d25608b",
            "28939ef9545d48ac9689f75c5552b7c2",
            "0610e4be85044f03a326acb2bba318d5",
            "a643ccb0a4704a809e22883ec6625307",
            "9b1e2de4cd8a44a0813b91b5b2aac9e0",
            "18c145a6142a4a48b57c349dd515fd2d",
            "3f84ad761db64089a0eddd8c6cfab727",
            "a57fbcee1b9f4c979ef84dbd1360e5fc",
            "af31d9e0d7ac4131a57d5f91632dda42",
            "bb351c2df5d94be0b4d9299fff30f972",
            "55026081840542e1970e83e832c6001e",
            "980f468a5abe461c8ef72542d3f2a9c0",
            "31338c9f8d10439d8000d719bcbf39fd",
            "72ff244388e94f29b3108d2fc5b348ef",
            "1c924a25e6654edb912aa5d50556a966",
            "3aa529e49b8b48719b37df039899086b",
            "da1d4036b7074a0e9b56f56f3b44c454",
            "67b4cbd9753f4c1296ee9a7c91abb7e6",
            "abacbac23e4d4c548b644cd88e58a93b",
            "cb735772359c4fc0ae1482a72f87761a",
            "f4aac76c86464a258a54c436d0dfa9bb",
            "38b38500d19845cc94a781f30dfbe3a6",
            "32af22d2ef7b4f9a847f82b3d10e9d57",
            "d20b0d72374b4653b7fa3aabb3b90c2b",
            "65104f90259f4eb4b7432caea3c84ebf",
            "3acb874c1bc14577b00a14d2981237ae",
            "fec4d4ab9e514770844448ff62ad263f",
            "6191fbab519743819ecc40b28e5578d6",
            "47cbcf3a81c642179f0c23ebce91e5fa",
            "a46706ab1c654d138202f36b515401c8",
            "ba73501c4e8748dfb1af904210f2c86f",
            "218b5c4f38af488db34251788e254487",
            "8fc0f9ba78b44e3ea81ea2da604f36e1",
            "ce95f1e92018400ea16ece2397703c58",
            "096524cec61247d19a901a14ce7dc8e2",
            "215ae2de702a4df98a52985edd5ff0c9",
            "9b3aa6d4f17142d08555a47681f2ff68",
            "b332a6369a8b4813850833e5d767fc2b",
            "2c32ad164e614845a23417af7c0cb914",
            "3cff3ab922d34daaaf7b29b09d433a0a",
            "23e71d320be5456393a95fe036b57367",
            "7375d93c777c4fe7b08b4b8e5bc3c61e",
            "174194dc32124d12863bf67b4b10686d",
            "559df0defbd142429ed163ea45e39149",
            "f82c9af4243b42f7970b0c3c7eb823d8",
            "ab2994f61e374f92b6b4cf9dad27789b",
            "1e39087ea64c42eeb8ac45434d0b32f0",
            "eb2b0e5236f1413381229444b66f6060",
            "4a419c2c51b741a385bda57379935562",
            "6f32a888792b4ddfbbe60bafb70040ea",
            "94ce21a221884e7cbd6fd221d3197a6d"
          ]
        },
        "id": "E_87moSvF8v3",
        "outputId": "14559905-d671-44c3-c506-d08dc558e9f6"
      },
      "outputs": [
        {
          "output_type": "stream",
          "name": "stderr",
          "text": [
            "2023-11-18 21:26:57.889 INFO in 'deeppavlov.core.data.utils'['utils'] at line 95: Downloading from http://files.deeppavlov.ai/v1/ner/ner_ontonotes_bert_torch_crf.tar.gz to /root/.deeppavlov/models/ner_ontonotes_bert_torch_crf.tar.gz\n",
            "INFO:deeppavlov.core.data.utils:Downloading from http://files.deeppavlov.ai/v1/ner/ner_ontonotes_bert_torch_crf.tar.gz to /root/.deeppavlov/models/ner_ontonotes_bert_torch_crf.tar.gz\n",
            "100%|██████████| 1.13G/1.13G [00:41<00:00, 27.6MB/s]\n",
            "2023-11-18 21:27:39.934 INFO in 'deeppavlov.core.data.utils'['utils'] at line 276: Extracting /root/.deeppavlov/models/ner_ontonotes_bert_torch_crf.tar.gz archive into /root/.deeppavlov/models/ner_ontonotes_bert_torch_crf\n",
            "INFO:deeppavlov.core.data.utils:Extracting /root/.deeppavlov/models/ner_ontonotes_bert_torch_crf.tar.gz archive into /root/.deeppavlov/models/ner_ontonotes_bert_torch_crf\n"
          ]
        },
        {
          "output_type": "display_data",
          "data": {
            "text/plain": [
              "tokenizer_config.json:   0%|          | 0.00/29.0 [00:00<?, ?B/s]"
            ],
            "application/vnd.jupyter.widget-view+json": {
              "version_major": 2,
              "version_minor": 0,
              "model_id": "527d62ef3e6b4cabafdce5ea1f9bb130"
            }
          },
          "metadata": {}
        },
        {
          "output_type": "display_data",
          "data": {
            "text/plain": [
              "config.json:   0%|          | 0.00/570 [00:00<?, ?B/s]"
            ],
            "application/vnd.jupyter.widget-view+json": {
              "version_major": 2,
              "version_minor": 0,
              "model_id": "a57fbcee1b9f4c979ef84dbd1360e5fc"
            }
          },
          "metadata": {}
        },
        {
          "output_type": "display_data",
          "data": {
            "text/plain": [
              "vocab.txt:   0%|          | 0.00/213k [00:00<?, ?B/s]"
            ],
            "application/vnd.jupyter.widget-view+json": {
              "version_major": 2,
              "version_minor": 0,
              "model_id": "abacbac23e4d4c548b644cd88e58a93b"
            }
          },
          "metadata": {}
        },
        {
          "output_type": "display_data",
          "data": {
            "text/plain": [
              "tokenizer.json:   0%|          | 0.00/436k [00:00<?, ?B/s]"
            ],
            "application/vnd.jupyter.widget-view+json": {
              "version_major": 2,
              "version_minor": 0,
              "model_id": "a46706ab1c654d138202f36b515401c8"
            }
          },
          "metadata": {}
        },
        {
          "output_type": "display_data",
          "data": {
            "text/plain": [
              "model.safetensors:   0%|          | 0.00/436M [00:00<?, ?B/s]"
            ],
            "application/vnd.jupyter.widget-view+json": {
              "version_major": 2,
              "version_minor": 0,
              "model_id": "23e71d320be5456393a95fe036b57367"
            }
          },
          "metadata": {}
        },
        {
          "output_type": "stream",
          "name": "stderr",
          "text": [
            "Some weights of the model checkpoint at bert-base-cased were not used when initializing BertForTokenClassification: ['cls.predictions.transform.LayerNorm.weight', 'cls.seq_relationship.bias', 'cls.seq_relationship.weight', 'cls.predictions.bias', 'cls.predictions.transform.LayerNorm.bias', 'cls.predictions.transform.dense.weight', 'cls.predictions.transform.dense.bias']\n",
            "- This IS expected if you are initializing BertForTokenClassification from the checkpoint of a model trained on another task or with another architecture (e.g. initializing a BertForSequenceClassification model from a BertForPreTraining model).\n",
            "- This IS NOT expected if you are initializing BertForTokenClassification from the checkpoint of a model that you expect to be exactly identical (initializing a BertForSequenceClassification model from a BertForSequenceClassification model).\n",
            "Some weights of BertForTokenClassification were not initialized from the model checkpoint at bert-base-cased and are newly initialized: ['classifier.weight', 'classifier.bias']\n",
            "You should probably TRAIN this model on a down-stream task to be able to use it for predictions and inference.\n",
            "2023-11-18 21:28:13.965 WARNING in 'deeppavlov.core.models.torch_model'['torch_model'] at line 96: Unable to place component TorchTransformersSequenceTagger on GPU, since no CUDA GPUs are available. Using CPU.\n",
            "WARNING:deeppavlov.core.models.torch_model:Unable to place component TorchTransformersSequenceTagger on GPU, since no CUDA GPUs are available. Using CPU.\n"
          ]
        }
      ],
      "source": [
        "from deeppavlov import build_model\n",
        "\n",
        "ner_model = build_model('ner_ontonotes_bert', download=True, install=True)"
      ]
    },
    {
      "cell_type": "code",
      "execution_count": 10,
      "metadata": {
        "colab": {
          "base_uri": "https://localhost:8080/"
        },
        "id": "L1Z6XcXNGw-B",
        "outputId": "244d1faa-b952-4028-db39-416a0db784f7"
      },
      "outputs": [
        {
          "output_type": "stream",
          "name": "stdout",
          "text": [
            "Collecting ipymarkup\n",
            "  Downloading ipymarkup-0.9.0-py3-none-any.whl (14 kB)\n",
            "Collecting intervaltree>=3 (from ipymarkup)\n",
            "  Downloading intervaltree-3.1.0.tar.gz (32 kB)\n",
            "  Preparing metadata (setup.py) ... \u001b[?25l\u001b[?25hdone\n",
            "Requirement already satisfied: sortedcontainers<3.0,>=2.0 in /usr/local/lib/python3.10/dist-packages (from intervaltree>=3->ipymarkup) (2.4.0)\n",
            "Building wheels for collected packages: intervaltree\n",
            "  Building wheel for intervaltree (setup.py) ... \u001b[?25l\u001b[?25hdone\n",
            "  Created wheel for intervaltree: filename=intervaltree-3.1.0-py2.py3-none-any.whl size=26097 sha256=2711022ca1dd402fd06af27580f9ba1dd5c70d649dedb6830f6f4bb8317ac8ea\n",
            "  Stored in directory: /root/.cache/pip/wheels/fa/80/8c/43488a924a046b733b64de3fac99252674c892a4c3801c0a61\n",
            "Successfully built intervaltree\n",
            "Installing collected packages: intervaltree, ipymarkup\n",
            "Successfully installed intervaltree-3.1.0 ipymarkup-0.9.0\n"
          ]
        }
      ],
      "source": [
        "!pip install ipymarkup\n",
        "from ipymarkup import show_box_markup\n",
        "from ipymarkup.palette import palette, BLUE, RED, GREEN\n",
        "df_events = pd.read_csv(\"exported_from_2023_xml.csv\",sep='\\t')"
      ]
    },
    {
      "cell_type": "code",
      "execution_count": 8,
      "metadata": {
        "id": "J2O_KG-0Hg-t",
        "colab": {
          "base_uri": "https://localhost:8080/"
        },
        "outputId": "9770d089-b103-4688-f6a5-5287e6910c6f"
      },
      "outputs": [
        {
          "output_type": "stream",
          "name": "stdout",
          "text": [
            "Большой поэтический вечер в самом начале весны! Дмитрий Артис, Борис Кутенков (Москва),Дмитрий Шабанов, Рахман Кусимов, Серафима Сапрыкина, Ася Анистратенко.\n"
          ]
        },
        {
          "output_type": "stream",
          "name": "stderr",
          "text": [
            "/usr/local/lib/python3.10/dist-packages/torchcrf/__init__.py:305: UserWarning: where received a uint8 condition tensor. This behavior is deprecated and will be removed in a future version of PyTorch. Use a boolean condition instead. (Triggered internally at ../aten/src/ATen/native/TensorCompare.cpp:413.)\n",
            "  score = torch.where(mask[i].unsqueeze(1), next_score, score)\n"
          ]
        },
        {
          "output_type": "stream",
          "name": "stdout",
          "text": [
            "[[['Большой', 'поэтический', 'вечер', 'в', 'самом', 'начале', 'весны', '!', 'Дмитрий', 'Артис', ',', 'Борис', 'Кутенков', '(', 'Москва', ')', ',', 'Дмитрий', 'Шабанов', ',', 'Рахман', 'Кусимов', ',', 'Серафима', 'Сапрыкина', ',', 'Ася', 'Анистратенко', '.']], [['O', 'O', 'O', 'O', 'O', 'O', 'O', 'O', 'B-PERSON', 'I-PERSON', 'O', 'B-PERSON', 'I-PERSON', 'O', 'B-GPE', 'O', 'O', 'B-PERSON', 'I-PERSON', 'O', 'B-PERSON', 'I-PERSON', 'O', 'B-PERSON', 'I-PERSON', 'O', 'B-PERSON', 'I-PERSON', 'O']]]\n",
            "\"Наполеоновские войны и Кавказ - взглядом Ермолова\". Читает историк, публицист, главный редактор журнала «Звезда» - Яков Аркадьевич Гордин. Герой Наполеоновских войн, проконсул Кавказа, генерал от инфантерии и артиллерии Алексей Петрович Ермолов оставил обширную переписку. Письма Ермолова — неисчерпаемый источник сведений о его взглядах и планах, которые были осуществлены или остались лишь намерениями, они дают возможность приблизиться к пониманию масштабности фигуры их автора и проникнуть в психологический климат «ермоловской эпохи», помогают пролить свет на многие сюжеты истории. Эпистолярное наследие Ермолова является объектом многолетней исследовательской работы Я. А. Гордина. Яков Аркадьевич Гордин известен независимыми историческими исследованиями и специализируется на кризисных ситуациях русской политической истории XVIII—XIX веков; автор многих статей и ряда книг, в том числе «Ермолов», «Алексей Ермолов. Солдат и его империя», \"Гибель Пушкина\", \"Между рабством и свободой\", \"Дуэли и дуэлянты\", \"Мятеж реформаторов\". Историческая беллетристика с документальной основой и эссеистика на исторические темы – основные жанры творчества Я. А. Гордина с середины 1970-х гг. Яков Аркадьевич Гордин за многие годы литературного и просветительского труда внёс неоценимый вклад в развитие просветительской мысли.\n",
            "Космическо-эзотерическо-поэтический вечер Мари Stell \"Трансцендентность\". Погружение в мир таинственных образов и чувственных переживаний, не поддающихся контролю формы. Поток сознания автора, захватывающий и уносящий в глубины внутреннего космоса.\n",
            "[[['Космическо', '-', 'эзотерическо', '-', 'поэтический', 'вечер', 'Мари', 'Stell', '\"', 'Трансцендентность', '\"', '.', 'Погружение', 'в', 'мир', 'таинственных', 'образов', 'и', 'чувственных', 'переживаний', ',', 'не', 'поддающихся', 'контролю', 'формы.', 'Поток', 'сознания', 'автора', ',', 'захватывающий', 'и', 'уносящий', 'в', 'глубины', 'внутреннего', 'космоса', '.']], [['O', 'O', 'O', 'O', 'O', 'O', 'O', 'O', 'O', 'O', 'O', 'O', 'O', 'O', 'O', 'O', 'O', 'O', 'O', 'O', 'O', 'O', 'O', 'O', 'O', 'O', 'O', 'O', 'O', 'O', 'O', 'O', 'O', 'O', 'O', 'O', 'O']]]\n",
            "«Литературный Петербург Тараса Шевченко». Тарас Григорьевич Шевченко, национальный украинский поэт, художник, прозаик и этнограф. В рамках Года литературы, приглашаем на встречу с писателями Станиславом Венгловским, Олегом Варенником и др. В программе вечера: Презентация книг: «Тарас Шевченко в Санкт-Петербурге», «Служили России» Станислава Венгловского; «Последняя любовь Т. Шевченко» Олега Вареника; Выступление чтецов Владимира Дорошенко, Светланы Ахмедовой, Елены Захарченко и др. Выступление фольклорного ансамбля «Славянка» худ. рук. Е. Захарченко; Выступления профессоров В. Ю. Тегзы, Т. М. Смирновой, поэта-песенника Н. В. Жигло, представителя «Украинцы Москвы» Н. Н. Лындюка; Выставка графики Е. Планиной по произведениям Т. Г. Шевченко.\n",
            "\"Грибоедов и Лермонтов\". В рамках проекта «М. Ю. Лермонтов: наследие» состоится литературный вечер с прозаиком, драматургом, эссеистом Б. А. Голлером «Грибоедов и Лермонтов» и приурочен к 220-летию со дня рождения А. С. Грибоедов. Литературное наследие Грибоедова по объему не столь обширно, однако это не уменьшает заслуг писателя. Комедия «Горе от ума» является важнейшим произведением в российской драматургии. Вряд ли можно найти театр в России, в репертуаре которого не значится «Горе от ума» А. С. Грибоедова. Лермонтова с Грибоедовым связывает многое. Его произведение «Горе от ума» было драматургической школой «Маскарада» Лермонтова. Ещё более важно то, что их связывала общая дружба с Александром Одоевским, который стал связующим звеном между двумя художниками слова. В заключение вечера музыкальным подарком для всех пришедших будет концерт в исполнении молодых петербургских музыкантов.\n",
            "6 марта накануне Женского дня, или Праздника Весны и Любви, в арт-салоне Невский,24 выступит поэт и музыкант Елена Афонина со своей сольной песенно-стиховой программой, куда войдут композиции из ее нового альбома «Хайдеггер» (релиз – май 2015) и стихи из альбома The Sun и Long Love. Лена выступит вместе с музыкантами Пашей Тулановым (гитара) и Катей Филиппович (скрипка). Вы услышите разные по стилю и настроению композиции - от электронных импровизаций и брит-попа до французского шансона и ритмов буги-вуги 60-х. Концерты Лены – это всегда уютная лирическая атмосфера и возможность получить прекрасные светлые эмоции.\n",
            "[[['6', 'марта', 'накануне', 'Женского', 'дня', ',', 'или', 'Праздника', 'Весны', 'и', 'Любви', ',', 'в', 'арт', '-', 'салоне', 'Невский', ',', '24', 'выступит', 'поэт', 'и', 'музыкант', 'Елена', 'Афонина', 'со', 'своей', 'сольной', 'песенно', '-', 'стиховой', 'программой', ',', 'куда', 'войдут', 'композиции', 'из', 'ее', 'нового', 'альбома', '«', 'Хайдеггер', '»', '(', 'релиз', '–', 'май', '2015', ')', 'и', 'стихи', 'из', 'альбома', 'The', 'Sun', 'и', 'Long', 'Love.', 'Лена', 'выступит', 'вместе', 'с', 'музыкантами', 'Пашей', 'Тулановым', '(', 'гитара', ')', 'и', 'Катей', 'Филиппович', '(', 'скрипка', ')', '.', 'Вы', 'услышите', 'разные', 'по', 'стилю', 'и', 'настроению', 'композиции', '-', 'от', 'электронных', 'импровизаций', 'и', 'брит', '-', 'попа', 'до', 'французского', 'шансона', 'и', 'ритмов', 'буги', '-', 'вуги', '60', '-', 'х.', 'Концерты', 'Лены', '–', 'это', 'всегда', 'уютная', 'лирическая', 'атмосфера', 'и', 'возможность', 'получить', 'прекрасные', 'светлые', 'эмоции', '.']], [['B-CARDINAL', 'O', 'O', 'O', 'O', 'O', 'O', 'O', 'O', 'O', 'O', 'O', 'O', 'O', 'O', 'O', 'O', 'O', 'B-CARDINAL', 'O', 'O', 'O', 'O', 'O', 'O', 'O', 'O', 'O', 'O', 'O', 'O', 'O', 'O', 'O', 'O', 'O', 'O', 'O', 'O', 'O', 'O', 'O', 'O', 'O', 'O', 'O', 'O', 'O', 'O', 'O', 'O', 'O', 'O', 'B-WORK_OF_ART', 'I-WORK_OF_ART', 'I-WORK_OF_ART', 'I-WORK_OF_ART', 'I-WORK_OF_ART', 'O', 'O', 'O', 'O', 'O', 'O', 'O', 'O', 'O', 'O', 'O', 'O', 'O', 'O', 'O', 'O', 'O', 'O', 'O', 'O', 'O', 'O', 'O', 'O', 'O', 'O', 'O', 'O', 'O', 'O', 'O', 'O', 'O', 'O', 'O', 'O', 'O', 'O', 'O', 'O', 'O', 'O', 'O', 'O', 'O', 'O', 'O', 'O', 'O', 'O', 'O', 'O', 'O', 'O', 'O', 'O', 'O', 'O', 'O']]]\n",
            "Концент Гриши Полухутенко.\n",
            "[[['Концент', 'Гриши', 'Полухутенко', '.']], [['B-PERSON', 'I-PERSON', 'O', 'O']]]\n",
            "Никита Елисеев родился в семье ленинградских, петербургских артистов, заслуженного артиста России Льва Елисеева и Маргариты Батаевой. В 1981 году окончил исторический факультет Ленинградского педагогического института им. А. И. Герцена. С 1983 года работает библиографом в Российской национальной библиотеке в Санкт-Петербурге. Как литературный критик и публицист печатается с 1991 года в журналах «Знамя», «Новый мир», «Звезда», «Вопросы литературы», «Новая русская книга», «Критическая масса», «Новое литературное обозрение», «Октябрь», «Нева», «Вестник Европы», «Арион», «Питерbook», «Эксперт Северо-Запад», «Век XX и мир», «Сеанс», в газете «Первое сентября», в сетевом издании «Русский журнал». В 2002 году вышел сборник эссе и критических статей «Предостережение пишущим». Член редколлегии издательства «Сеанс». Академик Академии русской современной словесности. Лауреат премии журнала «Новый мир» за 1998 год.\n",
            "Михаил ЕЛИЗАРОВ в FISH FABRIQUE NOUVELLE. Свой жанр писатель Елизаров называет «бард-панк-шансоном». «Что это такое, я и сам толком не понимаю. Во главе — текст, и его сопровождает простой, легко запоминающийся мотив. И всем вместе должно быть весело. Тут речь ни в коем случае не идет о юморе. Я пытаюсь вытащить потустороннюю изнанку веселья». \"Нос\", \"Русский Букер\", \"Национальный Бестселлер\", литературная премия Андрея Белого... Книги Елизарова получают самые престижные награды, их переводят на другие языки. Михаил Елизаров не только один из самых талантливых современных авторов, но и прекрасный музыкант. Саркастичные тексты, лиричные или разудалые мелодии, оперный баритон. «Честно говоря, на концерте Михаила Елизарова я была в первый раз, но понравилось мне на концерте прямо сразу. Как только входишь в тесный зал Фишки, и видишь все эти простые, светлые лица, то на душе сразу становится тепло. Казалось, что мы и не в клубе вовсе, а где-нибудь на скромной квартире одно из друзей Михаила.При этом все громко подпевают, не боясь соседей, пьют вино и постоянно гогочут. Впрочем, не смеяться на концерте достаточно трудно, все его песни полны жизненной иронией, при этом стиль исполнения песен бардовский, местами очень романтичный. Именно сочетание манеры исполнения и смысла текстов веселит всех окружающих. Содержание текстов песен просты – они о жизни человека, которому все надоело, ему не нравится его жизнь, а изменить что-то не хватает сил. Короче говоря, про большую часть населения нашей страны»\n",
            "Каждая женщина имеет свою историю, а истории самых знаменитых женщин иногда сохраняются на протяжении веков и обрастают легендами. Одни женщины оставили неизгладимый след в истории человечества, другие же до сих пор остаются эталоном красоты. Вечером 8 марта очень разные, но от того еще более прекрасные девушки соберутся, чтобы поделиться своими историями - поэтическими и музыкальными. Каждая участница выберет образ, подходящий к её творчеству/стилю/настроению/неожиданному порыву. Клеопатра или Шахерезада, Мерилин или Одри, Жанна Д'Арк или Королева Марго? - кто из них выйдет на сцену в этот вечер? Пока это останется тайной. Мы не любители половой дискриминации, поэтому желающие мужчины, конечно же, тоже могут поучаствовать и поздравить собравшихся девушек своим выступлением.\n"
          ]
        }
      ],
      "source": [
        "for id, event in df_events[:10].iterrows():\n",
        "  print(event[\"Event Description\"])\n",
        "  try:\n",
        "    print(ner_model([event[\"Event Description\"]]))\n",
        "  except RuntimeError:\n",
        "    continue"
      ]
    },
    {
      "cell_type": "code",
      "source": [
        "def create_spans(text, tokens, labels):\n",
        "    \"\"\"\n",
        "    Create spans of named entities from tokenized text and NER labels.\n",
        "\n",
        "    Args:\n",
        "        text (str): Original text.\n",
        "        tokens (List[str]): List of tokens.\n",
        "        labels (List[str]): Corresponding list of NER labels.\n",
        "\n",
        "    Returns:\n",
        "        List[Tuple[int, int, str]]: List of tuples (start, end, entity_type).\n",
        "    \"\"\"\n",
        "    spans = []\n",
        "    current_entity = None\n",
        "    start, end = None, None\n",
        "\n",
        "    # Calculate the start position of each token\n",
        "    positions = []\n",
        "    current_pos = 0\n",
        "    for token in tokens:\n",
        "        current_pos = text.find(token, current_pos)\n",
        "        positions.append(current_pos)\n",
        "        current_pos += len(token)\n",
        "\n",
        "    for i, (token, label) in enumerate(zip(tokens, labels)):\n",
        "        if label.startswith('B-'):\n",
        "            # Save previous entity if it exists\n",
        "            if current_entity is not None:\n",
        "                spans.append((start, positions[i], current_entity))\n",
        "\n",
        "            current_entity = label.split('-')[1]  # Get entity type\n",
        "            start = positions[i]\n",
        "\n",
        "        elif label.startswith('I-') and current_entity is not None:\n",
        "            # Continue the current entity\n",
        "            continue\n",
        "        else:\n",
        "            # End of the current entity\n",
        "            if current_entity is not None:\n",
        "                end = positions[i] if i < len(positions) else len(text)\n",
        "                spans.append((start, end, current_entity))\n",
        "                current_entity = None\n",
        "\n",
        "    return spans\n",
        "\n",
        "# Example usage\n",
        "text = \"Большой поэтический вечер в самом начале весны! Дмитрий Артис, Борис Кутенков (Москва),Дмитрий Шабанов, Рахман Кусимов, Серафима Сапрыкина, Ася Анистратенко.\"\n",
        "tokens = ['Большой', 'поэтический', 'вечер', 'в', 'самом', 'начале', 'весны', '!', 'Дмитрий', 'Артис', ',', 'Борис', 'Кутенков', '(', 'Москва', ')', ',', 'Дмитрий', 'Шабанов', ',', 'Рахман', 'Кусимов', ',', 'Серафима', 'Сапрыкина', ',', 'Ася', 'Анистратенко', '.']\n",
        "labels = ['O', 'O', 'O', 'O', 'O', 'O', 'O', 'O', 'B-PERSON', 'I-PERSON', 'O', 'B-PERSON', 'I-PERSON', 'O', 'B-GPE', 'O', 'O', 'B-PERSON', 'I-PERSON', 'O', 'B-PERSON', 'I-PERSON', 'O', 'B-PERSON', 'I-PERSON', 'O', 'B-PERSON', 'I-PERSON', 'O']\n",
        "\n",
        "spans = create_spans(text, tokens, labels)\n",
        "print(spans)\n"
      ],
      "metadata": {
        "colab": {
          "base_uri": "https://localhost:8080/"
        },
        "id": "WQuBoY6uWSfz",
        "outputId": "66f1496b-05ea-4b9b-baf0-053ae572b7b0"
      },
      "execution_count": 16,
      "outputs": [
        {
          "output_type": "stream",
          "name": "stdout",
          "text": [
            "[(48, 61, 'PERSON'), (63, 78, 'PERSON'), (79, 85, 'GPE'), (87, 102, 'PERSON'), (104, 118, 'PERSON'), (120, 138, 'PERSON'), (140, 156, 'PERSON')]\n"
          ]
        }
      ]
    },
    {
      "cell_type": "code",
      "source": [
        "show_box_markup(text, spans, palette=palette(BLUE))\n",
        ""
      ],
      "metadata": {
        "colab": {
          "base_uri": "https://localhost:8080/",
          "height": 52
        },
        "id": "wYqkqy4DZhSE",
        "outputId": "3ce8f5a0-da7e-4750-cd08-2258ac8798d5"
      },
      "execution_count": 19,
      "outputs": [
        {
          "output_type": "display_data",
          "data": {
            "text/plain": [
              "<IPython.core.display.HTML object>"
            ],
            "text/html": [
              "<div class=\"tex2jax_ignore\" style=\"white-space: pre-wrap\">Большой поэтический вечер в самом начале весны! <span style=\"padding: 2px; border-radius: 4px; border: 1px solid #bbdefb; background: #e3f2fd\">Дмитрий Артис<span style=\"vertical-align: middle; margin-left: 2px; font-size: 0.7em; color: #64b5f6;\">PERSON</span></span>, <span style=\"padding: 2px; border-radius: 4px; border: 1px solid #bbdefb; background: #e3f2fd\">Борис Кутенков <span style=\"vertical-align: middle; margin-left: 2px; font-size: 0.7em; color: #64b5f6;\">PERSON</span></span>(<span style=\"padding: 2px; border-radius: 4px; border: 1px solid #bbdefb; background: #e3f2fd\">Москва<span style=\"vertical-align: middle; margin-left: 2px; font-size: 0.7em; color: #64b5f6;\">GPE</span></span>),<span style=\"padding: 2px; border-radius: 4px; border: 1px solid #bbdefb; background: #e3f2fd\">Дмитрий Шабанов<span style=\"vertical-align: middle; margin-left: 2px; font-size: 0.7em; color: #64b5f6;\">PERSON</span></span>, <span style=\"padding: 2px; border-radius: 4px; border: 1px solid #bbdefb; background: #e3f2fd\">Рахман Кусимов<span style=\"vertical-align: middle; margin-left: 2px; font-size: 0.7em; color: #64b5f6;\">PERSON</span></span>, <span style=\"padding: 2px; border-radius: 4px; border: 1px solid #bbdefb; background: #e3f2fd\">Серафима Сапрыкина<span style=\"vertical-align: middle; margin-left: 2px; font-size: 0.7em; color: #64b5f6;\">PERSON</span></span>, <span style=\"padding: 2px; border-radius: 4px; border: 1px solid #bbdefb; background: #e3f2fd\">Ася Анистратенко<span style=\"vertical-align: middle; margin-left: 2px; font-size: 0.7em; color: #64b5f6;\">PERSON</span></span>.</div>"
            ]
          },
          "metadata": {}
        }
      ]
    },
    {
      "cell_type": "code",
      "source": [
        "text = 'публичная лекция цикла «Петербургский текст в пространстве современной литературы: Евгений Водолозкин, лауреат премии “Большая книга” (2013)». Читает кандидат филологических наук, доцент Санкт-Петербургского Гуманитарного университета профсоюзов Мария Дмитриевна АНДРИАНОВА.'\n",
        "ner = ner_model([text])\n",
        "tokens = ner[0][0]\n",
        "labels = ner[1][0]\n",
        "spans = create_spans(text, tokens, labels)\n",
        "show_box_markup(text, spans, palette=palette(BLUE))"
      ],
      "metadata": {
        "colab": {
          "base_uri": "https://localhost:8080/",
          "height": 52
        },
        "id": "83GYK7X_ZqoX",
        "outputId": "1d58dc9f-b1e5-43bb-fa47-756935a12bfd"
      },
      "execution_count": 31,
      "outputs": [
        {
          "output_type": "display_data",
          "data": {
            "text/plain": [
              "<IPython.core.display.HTML object>"
            ],
            "text/html": [
              "<div class=\"tex2jax_ignore\" style=\"white-space: pre-wrap\">публичная лекция цикла «Петербургский текст в пространстве современной литературы: Евгений Водолозкин, лауреат премии “Большая книга” (<span style=\"padding: 2px; border-radius: 4px; border: 1px solid #bbdefb; background: #e3f2fd\">2013<span style=\"vertical-align: middle; margin-left: 2px; font-size: 0.7em; color: #64b5f6;\">DATE</span></span>)». Читает кандидат филологических наук, доцент Санкт-Петербургского Гуманитарного университета профсоюзов Мария Дмитриевна АНДРИАНОВА.</div>"
            ]
          },
          "metadata": {}
        }
      ]
    },
    {
      "cell_type": "markdown",
      "source": [
        "## Named Entity Recognition with ChatGPT-4"
      ],
      "metadata": {
        "id": "GDXVYAT-seKM"
      }
    },
    {
      "cell_type": "code",
      "source": [
        "!pip install openai\n",
        "import openai\n"
      ],
      "metadata": {
        "id": "SMZU1A7wdh1r"
      },
      "execution_count": null,
      "outputs": []
    },
    {
      "cell_type": "code",
      "source": [
        "with open(\"prompt1.txt\", \"r\") as f:\n",
        "  prompt = f.read()\n"
      ],
      "metadata": {
        "id": "FT7JEmbGsp9z"
      },
      "execution_count": 67,
      "outputs": []
    },
    {
      "cell_type": "code",
      "source": [
        "from google.colab import userdata\n",
        "def extract_persons(event):\n",
        "    openai.api_key = userdata.get(\"OPENAI_KEY\")\n",
        "\n",
        "    response = openai.chat.completions.create(\n",
        "        model=\"gpt-4\",\n",
        "        #model=\"gpt-3.5-turbo\",\n",
        "        #model=\"gpt-4-1106-preview\",\n",
        "        messages=[\n",
        "            {\n",
        "            \"role\": \"system\",\n",
        "               \"content\": f\"{prompt}. This is the text to process: {event}\"\n",
        "            },\n",
        "        ],\n",
        "        temperature=1,\n",
        "        max_tokens=1000,\n",
        "        top_p=1,\n",
        "        frequency_penalty=0,\n",
        "        presence_penalty=0\n",
        "    )\n",
        "\n",
        "    return (response.choices[0].message.content)\n",
        "\n"
      ],
      "metadata": {
        "colab": {
          "base_uri": "https://localhost:8080/"
        },
        "id": "Ya6023OLszTF",
        "outputId": "1e45b6bb-f091-4170-f5d6-068635c6dc96"
      },
      "execution_count": 47,
      "outputs": [
        {
          "output_type": "stream",
          "name": "stdout",
          "text": [
            "{\"tokens\": ['публичная', 'лекция', 'цикла', '«', 'Петербургский', 'текст', 'в', 'пространстве', 'современной', 'литературы', ':', 'Евгений', 'Водолозкин', ',', 'лауреат', 'премии', '“', 'Большая', 'книга', '”', '(', '2013', ')', '»', '.', 'Читает', 'кандидат', 'филологических', 'наук', ',', 'доцент', 'Санкт-Петербургского', 'Гуманитарного', 'университета', 'профсоюзов', 'Мария', 'Дмитриевна', 'АНДРИАНОВА', '.'], \"labels\": ['O', 'O', 'O', 'O', 'O', 'O', 'O', 'O', 'O', 'O', 'O', 'B-PERSON', 'I-PERSON', 'O', 'O', 'O', 'O', 'O', 'O', 'O', 'O', 'O', 'O', 'O', 'O', 'O', 'O', 'O', 'O', 'O', 'B-ORG', 'I-ORG', 'I-ORG', 'I-ORG', 'B-PERSON', 'I-PERSON', 'I-PERSON', 'O']}\n"
          ]
        }
      ]
    },
    {
      "cell_type": "code",
      "source": [
        "text = 'публичная лекция цикла «Петербургский текст в пространстве современной литературы: Евгений Водолозкин, лауреат премии “Большая книга” (2013)». Читает кандидат филологических наук, доцент Санкт-Петербургского Гуманитарного университета профсоюзов Мария Дмитриевна АНДРИАНОВА.'\n",
        "result = extract_persons(text)\n",
        "print(result)"
      ],
      "metadata": {
        "colab": {
          "base_uri": "https://localhost:8080/"
        },
        "id": "HRNbq5B71CJU",
        "outputId": "8953250b-597a-429a-879e-c9f254fe6cae"
      },
      "execution_count": 69,
      "outputs": [
        {
          "output_type": "stream",
          "name": "stdout",
          "text": [
            "{\"tokens\": ['публичная', 'лекция', 'цикла', '«', 'Петербургский', 'текст', 'в', 'пространстве', 'современной', 'литературы', ':', 'Евгений', 'Водолозкин', ',', 'лауреат', 'премии', '“', 'Большая', 'книга', '”', '(', '2013', ')', '»', '.', 'Читает', 'кандидат', 'филологических', 'наук', ',', 'доцент', 'Санкт-Петербургского', 'Гуманитарного', 'университета', 'профсоюзов', 'Мария', 'Дмитриевна', 'АНДРИАНОВА', '.'], \"labels\": ['O', 'O', 'O', 'O', 'B-GPE', 'O', 'O', 'O', 'O', 'O', 'O', 'B-PERSON', 'I-PERSON', 'O', 'O', 'O', 'O', 'O', 'O', 'O', 'O', 'O', 'O', 'O', 'O', 'O', 'O', 'O', 'O', 'O', 'B-ORG', 'I-ORG', 'I-ORG', 'I-ORG', 'B-PERSON', 'I-PERSON', 'I-PERSON', 'O']}\n"
          ]
        }
      ]
    },
    {
      "cell_type": "code",
      "source": [
        "import ast\n",
        "import json\n",
        "unescaped_str = ast.literal_eval(result)\n",
        "\n",
        "tokens = unescaped_str[\"tokens\"]\n",
        "labels = unescaped_str[\"labels\"]\n"
      ],
      "metadata": {
        "id": "y0op3lU8zAL0"
      },
      "execution_count": 70,
      "outputs": []
    },
    {
      "cell_type": "code",
      "source": [
        "text = 'публичная лекция цикла «Петербургский текст в пространстве современной литературы: Евгений Водолозкин, лауреат премии “Большая книга” (2013)». Читает кандидат филологических наук, доцент Санкт-Петербургского Гуманитарного университета профсоюзов Мария Дмитриевна АНДРИАНОВА.'\n",
        "\n",
        "spans = create_spans(text, tokens, labels)\n",
        "\n",
        "show_box_markup(text, spans, palette=palette(BLUE))"
      ],
      "metadata": {
        "colab": {
          "base_uri": "https://localhost:8080/",
          "height": 52
        },
        "id": "S6X89k6luMb8",
        "outputId": "f91fcb83-88d8-440f-9924-650cd7fad2e2"
      },
      "execution_count": 71,
      "outputs": [
        {
          "output_type": "display_data",
          "data": {
            "text/plain": [
              "<IPython.core.display.HTML object>"
            ],
            "text/html": [
              "<div class=\"tex2jax_ignore\" style=\"white-space: pre-wrap\">публичная лекция цикла «<span style=\"padding: 2px; border-radius: 4px; border: 1px solid #bbdefb; background: #e3f2fd\">Петербургский <span style=\"vertical-align: middle; margin-left: 2px; font-size: 0.7em; color: #64b5f6;\">GPE</span></span>текст в пространстве современной литературы: <span style=\"padding: 2px; border-radius: 4px; border: 1px solid #bbdefb; background: #e3f2fd\">Евгений Водолозкин<span style=\"vertical-align: middle; margin-left: 2px; font-size: 0.7em; color: #64b5f6;\">PERSON</span></span>, лауреат премии “Большая книга” (2013)». Читает кандидат филологических наук, <span style=\"padding: 2px; border-radius: 4px; border: 1px solid #bbdefb; background: #e3f2fd\">доцент Санкт-Петербургского Гуманитарного университета <span style=\"vertical-align: middle; margin-left: 2px; font-size: 0.7em; color: #64b5f6;\">ORG</span></span><span style=\"padding: 2px; border-radius: 4px; border: 1px solid #bbdefb; background: #e3f2fd\">профсоюзов Мария Дмитриевна <span style=\"vertical-align: middle; margin-left: 2px; font-size: 0.7em; color: #64b5f6;\">PERSON</span></span>АНДРИАНОВА.</div>"
            ]
          },
          "metadata": {}
        }
      ]
    },
    {
      "cell_type": "code",
      "source": [],
      "metadata": {
        "id": "mgWE2URvw_o2"
      },
      "execution_count": null,
      "outputs": []
    }
  ],
  "metadata": {
    "colab": {
      "provenance": [],
      "toc_visible": true,
      "include_colab_link": true
    },
    "kernelspec": {
      "display_name": "Python 3",
      "name": "python3"
    },
    "language_info": {
      "codemirror_mode": {
        "name": "ipython",
        "version": 3
      },
      "file_extension": ".py",
      "mimetype": "text/x-python",
      "name": "python",
      "nbconvert_exporter": "python",
      "pygments_lexer": "ipython3",
      "version": "3.10.12"
    },
    "widgets": {
      "application/vnd.jupyter.widget-state+json": {
        "527d62ef3e6b4cabafdce5ea1f9bb130": {
          "model_module": "@jupyter-widgets/controls",
          "model_name": "HBoxModel",
          "model_module_version": "1.5.0",
          "state": {
            "_dom_classes": [],
            "_model_module": "@jupyter-widgets/controls",
            "_model_module_version": "1.5.0",
            "_model_name": "HBoxModel",
            "_view_count": null,
            "_view_module": "@jupyter-widgets/controls",
            "_view_module_version": "1.5.0",
            "_view_name": "HBoxView",
            "box_style": "",
            "children": [
              "IPY_MODEL_d45fe98cb5ac4c4da75309946bd4e397",
              "IPY_MODEL_a16aab7a52a949dfa1eb97aaac1754f9",
              "IPY_MODEL_1b2c6d353bdb41b49757dcdee5f05860"
            ],
            "layout": "IPY_MODEL_9b9fbd841f4945d28c0fb5c32d25608b"
          }
        },
        "d45fe98cb5ac4c4da75309946bd4e397": {
          "model_module": "@jupyter-widgets/controls",
          "model_name": "HTMLModel",
          "model_module_version": "1.5.0",
          "state": {
            "_dom_classes": [],
            "_model_module": "@jupyter-widgets/controls",
            "_model_module_version": "1.5.0",
            "_model_name": "HTMLModel",
            "_view_count": null,
            "_view_module": "@jupyter-widgets/controls",
            "_view_module_version": "1.5.0",
            "_view_name": "HTMLView",
            "description": "",
            "description_tooltip": null,
            "layout": "IPY_MODEL_28939ef9545d48ac9689f75c5552b7c2",
            "placeholder": "​",
            "style": "IPY_MODEL_0610e4be85044f03a326acb2bba318d5",
            "value": "tokenizer_config.json: 100%"
          }
        },
        "a16aab7a52a949dfa1eb97aaac1754f9": {
          "model_module": "@jupyter-widgets/controls",
          "model_name": "FloatProgressModel",
          "model_module_version": "1.5.0",
          "state": {
            "_dom_classes": [],
            "_model_module": "@jupyter-widgets/controls",
            "_model_module_version": "1.5.0",
            "_model_name": "FloatProgressModel",
            "_view_count": null,
            "_view_module": "@jupyter-widgets/controls",
            "_view_module_version": "1.5.0",
            "_view_name": "ProgressView",
            "bar_style": "success",
            "description": "",
            "description_tooltip": null,
            "layout": "IPY_MODEL_a643ccb0a4704a809e22883ec6625307",
            "max": 29,
            "min": 0,
            "orientation": "horizontal",
            "style": "IPY_MODEL_9b1e2de4cd8a44a0813b91b5b2aac9e0",
            "value": 29
          }
        },
        "1b2c6d353bdb41b49757dcdee5f05860": {
          "model_module": "@jupyter-widgets/controls",
          "model_name": "HTMLModel",
          "model_module_version": "1.5.0",
          "state": {
            "_dom_classes": [],
            "_model_module": "@jupyter-widgets/controls",
            "_model_module_version": "1.5.0",
            "_model_name": "HTMLModel",
            "_view_count": null,
            "_view_module": "@jupyter-widgets/controls",
            "_view_module_version": "1.5.0",
            "_view_name": "HTMLView",
            "description": "",
            "description_tooltip": null,
            "layout": "IPY_MODEL_18c145a6142a4a48b57c349dd515fd2d",
            "placeholder": "​",
            "style": "IPY_MODEL_3f84ad761db64089a0eddd8c6cfab727",
            "value": " 29.0/29.0 [00:00&lt;00:00, 1.09kB/s]"
          }
        },
        "9b9fbd841f4945d28c0fb5c32d25608b": {
          "model_module": "@jupyter-widgets/base",
          "model_name": "LayoutModel",
          "model_module_version": "1.2.0",
          "state": {
            "_model_module": "@jupyter-widgets/base",
            "_model_module_version": "1.2.0",
            "_model_name": "LayoutModel",
            "_view_count": null,
            "_view_module": "@jupyter-widgets/base",
            "_view_module_version": "1.2.0",
            "_view_name": "LayoutView",
            "align_content": null,
            "align_items": null,
            "align_self": null,
            "border": null,
            "bottom": null,
            "display": null,
            "flex": null,
            "flex_flow": null,
            "grid_area": null,
            "grid_auto_columns": null,
            "grid_auto_flow": null,
            "grid_auto_rows": null,
            "grid_column": null,
            "grid_gap": null,
            "grid_row": null,
            "grid_template_areas": null,
            "grid_template_columns": null,
            "grid_template_rows": null,
            "height": null,
            "justify_content": null,
            "justify_items": null,
            "left": null,
            "margin": null,
            "max_height": null,
            "max_width": null,
            "min_height": null,
            "min_width": null,
            "object_fit": null,
            "object_position": null,
            "order": null,
            "overflow": null,
            "overflow_x": null,
            "overflow_y": null,
            "padding": null,
            "right": null,
            "top": null,
            "visibility": null,
            "width": null
          }
        },
        "28939ef9545d48ac9689f75c5552b7c2": {
          "model_module": "@jupyter-widgets/base",
          "model_name": "LayoutModel",
          "model_module_version": "1.2.0",
          "state": {
            "_model_module": "@jupyter-widgets/base",
            "_model_module_version": "1.2.0",
            "_model_name": "LayoutModel",
            "_view_count": null,
            "_view_module": "@jupyter-widgets/base",
            "_view_module_version": "1.2.0",
            "_view_name": "LayoutView",
            "align_content": null,
            "align_items": null,
            "align_self": null,
            "border": null,
            "bottom": null,
            "display": null,
            "flex": null,
            "flex_flow": null,
            "grid_area": null,
            "grid_auto_columns": null,
            "grid_auto_flow": null,
            "grid_auto_rows": null,
            "grid_column": null,
            "grid_gap": null,
            "grid_row": null,
            "grid_template_areas": null,
            "grid_template_columns": null,
            "grid_template_rows": null,
            "height": null,
            "justify_content": null,
            "justify_items": null,
            "left": null,
            "margin": null,
            "max_height": null,
            "max_width": null,
            "min_height": null,
            "min_width": null,
            "object_fit": null,
            "object_position": null,
            "order": null,
            "overflow": null,
            "overflow_x": null,
            "overflow_y": null,
            "padding": null,
            "right": null,
            "top": null,
            "visibility": null,
            "width": null
          }
        },
        "0610e4be85044f03a326acb2bba318d5": {
          "model_module": "@jupyter-widgets/controls",
          "model_name": "DescriptionStyleModel",
          "model_module_version": "1.5.0",
          "state": {
            "_model_module": "@jupyter-widgets/controls",
            "_model_module_version": "1.5.0",
            "_model_name": "DescriptionStyleModel",
            "_view_count": null,
            "_view_module": "@jupyter-widgets/base",
            "_view_module_version": "1.2.0",
            "_view_name": "StyleView",
            "description_width": ""
          }
        },
        "a643ccb0a4704a809e22883ec6625307": {
          "model_module": "@jupyter-widgets/base",
          "model_name": "LayoutModel",
          "model_module_version": "1.2.0",
          "state": {
            "_model_module": "@jupyter-widgets/base",
            "_model_module_version": "1.2.0",
            "_model_name": "LayoutModel",
            "_view_count": null,
            "_view_module": "@jupyter-widgets/base",
            "_view_module_version": "1.2.0",
            "_view_name": "LayoutView",
            "align_content": null,
            "align_items": null,
            "align_self": null,
            "border": null,
            "bottom": null,
            "display": null,
            "flex": null,
            "flex_flow": null,
            "grid_area": null,
            "grid_auto_columns": null,
            "grid_auto_flow": null,
            "grid_auto_rows": null,
            "grid_column": null,
            "grid_gap": null,
            "grid_row": null,
            "grid_template_areas": null,
            "grid_template_columns": null,
            "grid_template_rows": null,
            "height": null,
            "justify_content": null,
            "justify_items": null,
            "left": null,
            "margin": null,
            "max_height": null,
            "max_width": null,
            "min_height": null,
            "min_width": null,
            "object_fit": null,
            "object_position": null,
            "order": null,
            "overflow": null,
            "overflow_x": null,
            "overflow_y": null,
            "padding": null,
            "right": null,
            "top": null,
            "visibility": null,
            "width": null
          }
        },
        "9b1e2de4cd8a44a0813b91b5b2aac9e0": {
          "model_module": "@jupyter-widgets/controls",
          "model_name": "ProgressStyleModel",
          "model_module_version": "1.5.0",
          "state": {
            "_model_module": "@jupyter-widgets/controls",
            "_model_module_version": "1.5.0",
            "_model_name": "ProgressStyleModel",
            "_view_count": null,
            "_view_module": "@jupyter-widgets/base",
            "_view_module_version": "1.2.0",
            "_view_name": "StyleView",
            "bar_color": null,
            "description_width": ""
          }
        },
        "18c145a6142a4a48b57c349dd515fd2d": {
          "model_module": "@jupyter-widgets/base",
          "model_name": "LayoutModel",
          "model_module_version": "1.2.0",
          "state": {
            "_model_module": "@jupyter-widgets/base",
            "_model_module_version": "1.2.0",
            "_model_name": "LayoutModel",
            "_view_count": null,
            "_view_module": "@jupyter-widgets/base",
            "_view_module_version": "1.2.0",
            "_view_name": "LayoutView",
            "align_content": null,
            "align_items": null,
            "align_self": null,
            "border": null,
            "bottom": null,
            "display": null,
            "flex": null,
            "flex_flow": null,
            "grid_area": null,
            "grid_auto_columns": null,
            "grid_auto_flow": null,
            "grid_auto_rows": null,
            "grid_column": null,
            "grid_gap": null,
            "grid_row": null,
            "grid_template_areas": null,
            "grid_template_columns": null,
            "grid_template_rows": null,
            "height": null,
            "justify_content": null,
            "justify_items": null,
            "left": null,
            "margin": null,
            "max_height": null,
            "max_width": null,
            "min_height": null,
            "min_width": null,
            "object_fit": null,
            "object_position": null,
            "order": null,
            "overflow": null,
            "overflow_x": null,
            "overflow_y": null,
            "padding": null,
            "right": null,
            "top": null,
            "visibility": null,
            "width": null
          }
        },
        "3f84ad761db64089a0eddd8c6cfab727": {
          "model_module": "@jupyter-widgets/controls",
          "model_name": "DescriptionStyleModel",
          "model_module_version": "1.5.0",
          "state": {
            "_model_module": "@jupyter-widgets/controls",
            "_model_module_version": "1.5.0",
            "_model_name": "DescriptionStyleModel",
            "_view_count": null,
            "_view_module": "@jupyter-widgets/base",
            "_view_module_version": "1.2.0",
            "_view_name": "StyleView",
            "description_width": ""
          }
        },
        "a57fbcee1b9f4c979ef84dbd1360e5fc": {
          "model_module": "@jupyter-widgets/controls",
          "model_name": "HBoxModel",
          "model_module_version": "1.5.0",
          "state": {
            "_dom_classes": [],
            "_model_module": "@jupyter-widgets/controls",
            "_model_module_version": "1.5.0",
            "_model_name": "HBoxModel",
            "_view_count": null,
            "_view_module": "@jupyter-widgets/controls",
            "_view_module_version": "1.5.0",
            "_view_name": "HBoxView",
            "box_style": "",
            "children": [
              "IPY_MODEL_af31d9e0d7ac4131a57d5f91632dda42",
              "IPY_MODEL_bb351c2df5d94be0b4d9299fff30f972",
              "IPY_MODEL_55026081840542e1970e83e832c6001e"
            ],
            "layout": "IPY_MODEL_980f468a5abe461c8ef72542d3f2a9c0"
          }
        },
        "af31d9e0d7ac4131a57d5f91632dda42": {
          "model_module": "@jupyter-widgets/controls",
          "model_name": "HTMLModel",
          "model_module_version": "1.5.0",
          "state": {
            "_dom_classes": [],
            "_model_module": "@jupyter-widgets/controls",
            "_model_module_version": "1.5.0",
            "_model_name": "HTMLModel",
            "_view_count": null,
            "_view_module": "@jupyter-widgets/controls",
            "_view_module_version": "1.5.0",
            "_view_name": "HTMLView",
            "description": "",
            "description_tooltip": null,
            "layout": "IPY_MODEL_31338c9f8d10439d8000d719bcbf39fd",
            "placeholder": "​",
            "style": "IPY_MODEL_72ff244388e94f29b3108d2fc5b348ef",
            "value": "config.json: 100%"
          }
        },
        "bb351c2df5d94be0b4d9299fff30f972": {
          "model_module": "@jupyter-widgets/controls",
          "model_name": "FloatProgressModel",
          "model_module_version": "1.5.0",
          "state": {
            "_dom_classes": [],
            "_model_module": "@jupyter-widgets/controls",
            "_model_module_version": "1.5.0",
            "_model_name": "FloatProgressModel",
            "_view_count": null,
            "_view_module": "@jupyter-widgets/controls",
            "_view_module_version": "1.5.0",
            "_view_name": "ProgressView",
            "bar_style": "success",
            "description": "",
            "description_tooltip": null,
            "layout": "IPY_MODEL_1c924a25e6654edb912aa5d50556a966",
            "max": 570,
            "min": 0,
            "orientation": "horizontal",
            "style": "IPY_MODEL_3aa529e49b8b48719b37df039899086b",
            "value": 570
          }
        },
        "55026081840542e1970e83e832c6001e": {
          "model_module": "@jupyter-widgets/controls",
          "model_name": "HTMLModel",
          "model_module_version": "1.5.0",
          "state": {
            "_dom_classes": [],
            "_model_module": "@jupyter-widgets/controls",
            "_model_module_version": "1.5.0",
            "_model_name": "HTMLModel",
            "_view_count": null,
            "_view_module": "@jupyter-widgets/controls",
            "_view_module_version": "1.5.0",
            "_view_name": "HTMLView",
            "description": "",
            "description_tooltip": null,
            "layout": "IPY_MODEL_da1d4036b7074a0e9b56f56f3b44c454",
            "placeholder": "​",
            "style": "IPY_MODEL_67b4cbd9753f4c1296ee9a7c91abb7e6",
            "value": " 570/570 [00:00&lt;00:00, 24.0kB/s]"
          }
        },
        "980f468a5abe461c8ef72542d3f2a9c0": {
          "model_module": "@jupyter-widgets/base",
          "model_name": "LayoutModel",
          "model_module_version": "1.2.0",
          "state": {
            "_model_module": "@jupyter-widgets/base",
            "_model_module_version": "1.2.0",
            "_model_name": "LayoutModel",
            "_view_count": null,
            "_view_module": "@jupyter-widgets/base",
            "_view_module_version": "1.2.0",
            "_view_name": "LayoutView",
            "align_content": null,
            "align_items": null,
            "align_self": null,
            "border": null,
            "bottom": null,
            "display": null,
            "flex": null,
            "flex_flow": null,
            "grid_area": null,
            "grid_auto_columns": null,
            "grid_auto_flow": null,
            "grid_auto_rows": null,
            "grid_column": null,
            "grid_gap": null,
            "grid_row": null,
            "grid_template_areas": null,
            "grid_template_columns": null,
            "grid_template_rows": null,
            "height": null,
            "justify_content": null,
            "justify_items": null,
            "left": null,
            "margin": null,
            "max_height": null,
            "max_width": null,
            "min_height": null,
            "min_width": null,
            "object_fit": null,
            "object_position": null,
            "order": null,
            "overflow": null,
            "overflow_x": null,
            "overflow_y": null,
            "padding": null,
            "right": null,
            "top": null,
            "visibility": null,
            "width": null
          }
        },
        "31338c9f8d10439d8000d719bcbf39fd": {
          "model_module": "@jupyter-widgets/base",
          "model_name": "LayoutModel",
          "model_module_version": "1.2.0",
          "state": {
            "_model_module": "@jupyter-widgets/base",
            "_model_module_version": "1.2.0",
            "_model_name": "LayoutModel",
            "_view_count": null,
            "_view_module": "@jupyter-widgets/base",
            "_view_module_version": "1.2.0",
            "_view_name": "LayoutView",
            "align_content": null,
            "align_items": null,
            "align_self": null,
            "border": null,
            "bottom": null,
            "display": null,
            "flex": null,
            "flex_flow": null,
            "grid_area": null,
            "grid_auto_columns": null,
            "grid_auto_flow": null,
            "grid_auto_rows": null,
            "grid_column": null,
            "grid_gap": null,
            "grid_row": null,
            "grid_template_areas": null,
            "grid_template_columns": null,
            "grid_template_rows": null,
            "height": null,
            "justify_content": null,
            "justify_items": null,
            "left": null,
            "margin": null,
            "max_height": null,
            "max_width": null,
            "min_height": null,
            "min_width": null,
            "object_fit": null,
            "object_position": null,
            "order": null,
            "overflow": null,
            "overflow_x": null,
            "overflow_y": null,
            "padding": null,
            "right": null,
            "top": null,
            "visibility": null,
            "width": null
          }
        },
        "72ff244388e94f29b3108d2fc5b348ef": {
          "model_module": "@jupyter-widgets/controls",
          "model_name": "DescriptionStyleModel",
          "model_module_version": "1.5.0",
          "state": {
            "_model_module": "@jupyter-widgets/controls",
            "_model_module_version": "1.5.0",
            "_model_name": "DescriptionStyleModel",
            "_view_count": null,
            "_view_module": "@jupyter-widgets/base",
            "_view_module_version": "1.2.0",
            "_view_name": "StyleView",
            "description_width": ""
          }
        },
        "1c924a25e6654edb912aa5d50556a966": {
          "model_module": "@jupyter-widgets/base",
          "model_name": "LayoutModel",
          "model_module_version": "1.2.0",
          "state": {
            "_model_module": "@jupyter-widgets/base",
            "_model_module_version": "1.2.0",
            "_model_name": "LayoutModel",
            "_view_count": null,
            "_view_module": "@jupyter-widgets/base",
            "_view_module_version": "1.2.0",
            "_view_name": "LayoutView",
            "align_content": null,
            "align_items": null,
            "align_self": null,
            "border": null,
            "bottom": null,
            "display": null,
            "flex": null,
            "flex_flow": null,
            "grid_area": null,
            "grid_auto_columns": null,
            "grid_auto_flow": null,
            "grid_auto_rows": null,
            "grid_column": null,
            "grid_gap": null,
            "grid_row": null,
            "grid_template_areas": null,
            "grid_template_columns": null,
            "grid_template_rows": null,
            "height": null,
            "justify_content": null,
            "justify_items": null,
            "left": null,
            "margin": null,
            "max_height": null,
            "max_width": null,
            "min_height": null,
            "min_width": null,
            "object_fit": null,
            "object_position": null,
            "order": null,
            "overflow": null,
            "overflow_x": null,
            "overflow_y": null,
            "padding": null,
            "right": null,
            "top": null,
            "visibility": null,
            "width": null
          }
        },
        "3aa529e49b8b48719b37df039899086b": {
          "model_module": "@jupyter-widgets/controls",
          "model_name": "ProgressStyleModel",
          "model_module_version": "1.5.0",
          "state": {
            "_model_module": "@jupyter-widgets/controls",
            "_model_module_version": "1.5.0",
            "_model_name": "ProgressStyleModel",
            "_view_count": null,
            "_view_module": "@jupyter-widgets/base",
            "_view_module_version": "1.2.0",
            "_view_name": "StyleView",
            "bar_color": null,
            "description_width": ""
          }
        },
        "da1d4036b7074a0e9b56f56f3b44c454": {
          "model_module": "@jupyter-widgets/base",
          "model_name": "LayoutModel",
          "model_module_version": "1.2.0",
          "state": {
            "_model_module": "@jupyter-widgets/base",
            "_model_module_version": "1.2.0",
            "_model_name": "LayoutModel",
            "_view_count": null,
            "_view_module": "@jupyter-widgets/base",
            "_view_module_version": "1.2.0",
            "_view_name": "LayoutView",
            "align_content": null,
            "align_items": null,
            "align_self": null,
            "border": null,
            "bottom": null,
            "display": null,
            "flex": null,
            "flex_flow": null,
            "grid_area": null,
            "grid_auto_columns": null,
            "grid_auto_flow": null,
            "grid_auto_rows": null,
            "grid_column": null,
            "grid_gap": null,
            "grid_row": null,
            "grid_template_areas": null,
            "grid_template_columns": null,
            "grid_template_rows": null,
            "height": null,
            "justify_content": null,
            "justify_items": null,
            "left": null,
            "margin": null,
            "max_height": null,
            "max_width": null,
            "min_height": null,
            "min_width": null,
            "object_fit": null,
            "object_position": null,
            "order": null,
            "overflow": null,
            "overflow_x": null,
            "overflow_y": null,
            "padding": null,
            "right": null,
            "top": null,
            "visibility": null,
            "width": null
          }
        },
        "67b4cbd9753f4c1296ee9a7c91abb7e6": {
          "model_module": "@jupyter-widgets/controls",
          "model_name": "DescriptionStyleModel",
          "model_module_version": "1.5.0",
          "state": {
            "_model_module": "@jupyter-widgets/controls",
            "_model_module_version": "1.5.0",
            "_model_name": "DescriptionStyleModel",
            "_view_count": null,
            "_view_module": "@jupyter-widgets/base",
            "_view_module_version": "1.2.0",
            "_view_name": "StyleView",
            "description_width": ""
          }
        },
        "abacbac23e4d4c548b644cd88e58a93b": {
          "model_module": "@jupyter-widgets/controls",
          "model_name": "HBoxModel",
          "model_module_version": "1.5.0",
          "state": {
            "_dom_classes": [],
            "_model_module": "@jupyter-widgets/controls",
            "_model_module_version": "1.5.0",
            "_model_name": "HBoxModel",
            "_view_count": null,
            "_view_module": "@jupyter-widgets/controls",
            "_view_module_version": "1.5.0",
            "_view_name": "HBoxView",
            "box_style": "",
            "children": [
              "IPY_MODEL_cb735772359c4fc0ae1482a72f87761a",
              "IPY_MODEL_f4aac76c86464a258a54c436d0dfa9bb",
              "IPY_MODEL_38b38500d19845cc94a781f30dfbe3a6"
            ],
            "layout": "IPY_MODEL_32af22d2ef7b4f9a847f82b3d10e9d57"
          }
        },
        "cb735772359c4fc0ae1482a72f87761a": {
          "model_module": "@jupyter-widgets/controls",
          "model_name": "HTMLModel",
          "model_module_version": "1.5.0",
          "state": {
            "_dom_classes": [],
            "_model_module": "@jupyter-widgets/controls",
            "_model_module_version": "1.5.0",
            "_model_name": "HTMLModel",
            "_view_count": null,
            "_view_module": "@jupyter-widgets/controls",
            "_view_module_version": "1.5.0",
            "_view_name": "HTMLView",
            "description": "",
            "description_tooltip": null,
            "layout": "IPY_MODEL_d20b0d72374b4653b7fa3aabb3b90c2b",
            "placeholder": "​",
            "style": "IPY_MODEL_65104f90259f4eb4b7432caea3c84ebf",
            "value": "vocab.txt: 100%"
          }
        },
        "f4aac76c86464a258a54c436d0dfa9bb": {
          "model_module": "@jupyter-widgets/controls",
          "model_name": "FloatProgressModel",
          "model_module_version": "1.5.0",
          "state": {
            "_dom_classes": [],
            "_model_module": "@jupyter-widgets/controls",
            "_model_module_version": "1.5.0",
            "_model_name": "FloatProgressModel",
            "_view_count": null,
            "_view_module": "@jupyter-widgets/controls",
            "_view_module_version": "1.5.0",
            "_view_name": "ProgressView",
            "bar_style": "success",
            "description": "",
            "description_tooltip": null,
            "layout": "IPY_MODEL_3acb874c1bc14577b00a14d2981237ae",
            "max": 213450,
            "min": 0,
            "orientation": "horizontal",
            "style": "IPY_MODEL_fec4d4ab9e514770844448ff62ad263f",
            "value": 213450
          }
        },
        "38b38500d19845cc94a781f30dfbe3a6": {
          "model_module": "@jupyter-widgets/controls",
          "model_name": "HTMLModel",
          "model_module_version": "1.5.0",
          "state": {
            "_dom_classes": [],
            "_model_module": "@jupyter-widgets/controls",
            "_model_module_version": "1.5.0",
            "_model_name": "HTMLModel",
            "_view_count": null,
            "_view_module": "@jupyter-widgets/controls",
            "_view_module_version": "1.5.0",
            "_view_name": "HTMLView",
            "description": "",
            "description_tooltip": null,
            "layout": "IPY_MODEL_6191fbab519743819ecc40b28e5578d6",
            "placeholder": "​",
            "style": "IPY_MODEL_47cbcf3a81c642179f0c23ebce91e5fa",
            "value": " 213k/213k [00:00&lt;00:00, 3.04MB/s]"
          }
        },
        "32af22d2ef7b4f9a847f82b3d10e9d57": {
          "model_module": "@jupyter-widgets/base",
          "model_name": "LayoutModel",
          "model_module_version": "1.2.0",
          "state": {
            "_model_module": "@jupyter-widgets/base",
            "_model_module_version": "1.2.0",
            "_model_name": "LayoutModel",
            "_view_count": null,
            "_view_module": "@jupyter-widgets/base",
            "_view_module_version": "1.2.0",
            "_view_name": "LayoutView",
            "align_content": null,
            "align_items": null,
            "align_self": null,
            "border": null,
            "bottom": null,
            "display": null,
            "flex": null,
            "flex_flow": null,
            "grid_area": null,
            "grid_auto_columns": null,
            "grid_auto_flow": null,
            "grid_auto_rows": null,
            "grid_column": null,
            "grid_gap": null,
            "grid_row": null,
            "grid_template_areas": null,
            "grid_template_columns": null,
            "grid_template_rows": null,
            "height": null,
            "justify_content": null,
            "justify_items": null,
            "left": null,
            "margin": null,
            "max_height": null,
            "max_width": null,
            "min_height": null,
            "min_width": null,
            "object_fit": null,
            "object_position": null,
            "order": null,
            "overflow": null,
            "overflow_x": null,
            "overflow_y": null,
            "padding": null,
            "right": null,
            "top": null,
            "visibility": null,
            "width": null
          }
        },
        "d20b0d72374b4653b7fa3aabb3b90c2b": {
          "model_module": "@jupyter-widgets/base",
          "model_name": "LayoutModel",
          "model_module_version": "1.2.0",
          "state": {
            "_model_module": "@jupyter-widgets/base",
            "_model_module_version": "1.2.0",
            "_model_name": "LayoutModel",
            "_view_count": null,
            "_view_module": "@jupyter-widgets/base",
            "_view_module_version": "1.2.0",
            "_view_name": "LayoutView",
            "align_content": null,
            "align_items": null,
            "align_self": null,
            "border": null,
            "bottom": null,
            "display": null,
            "flex": null,
            "flex_flow": null,
            "grid_area": null,
            "grid_auto_columns": null,
            "grid_auto_flow": null,
            "grid_auto_rows": null,
            "grid_column": null,
            "grid_gap": null,
            "grid_row": null,
            "grid_template_areas": null,
            "grid_template_columns": null,
            "grid_template_rows": null,
            "height": null,
            "justify_content": null,
            "justify_items": null,
            "left": null,
            "margin": null,
            "max_height": null,
            "max_width": null,
            "min_height": null,
            "min_width": null,
            "object_fit": null,
            "object_position": null,
            "order": null,
            "overflow": null,
            "overflow_x": null,
            "overflow_y": null,
            "padding": null,
            "right": null,
            "top": null,
            "visibility": null,
            "width": null
          }
        },
        "65104f90259f4eb4b7432caea3c84ebf": {
          "model_module": "@jupyter-widgets/controls",
          "model_name": "DescriptionStyleModel",
          "model_module_version": "1.5.0",
          "state": {
            "_model_module": "@jupyter-widgets/controls",
            "_model_module_version": "1.5.0",
            "_model_name": "DescriptionStyleModel",
            "_view_count": null,
            "_view_module": "@jupyter-widgets/base",
            "_view_module_version": "1.2.0",
            "_view_name": "StyleView",
            "description_width": ""
          }
        },
        "3acb874c1bc14577b00a14d2981237ae": {
          "model_module": "@jupyter-widgets/base",
          "model_name": "LayoutModel",
          "model_module_version": "1.2.0",
          "state": {
            "_model_module": "@jupyter-widgets/base",
            "_model_module_version": "1.2.0",
            "_model_name": "LayoutModel",
            "_view_count": null,
            "_view_module": "@jupyter-widgets/base",
            "_view_module_version": "1.2.0",
            "_view_name": "LayoutView",
            "align_content": null,
            "align_items": null,
            "align_self": null,
            "border": null,
            "bottom": null,
            "display": null,
            "flex": null,
            "flex_flow": null,
            "grid_area": null,
            "grid_auto_columns": null,
            "grid_auto_flow": null,
            "grid_auto_rows": null,
            "grid_column": null,
            "grid_gap": null,
            "grid_row": null,
            "grid_template_areas": null,
            "grid_template_columns": null,
            "grid_template_rows": null,
            "height": null,
            "justify_content": null,
            "justify_items": null,
            "left": null,
            "margin": null,
            "max_height": null,
            "max_width": null,
            "min_height": null,
            "min_width": null,
            "object_fit": null,
            "object_position": null,
            "order": null,
            "overflow": null,
            "overflow_x": null,
            "overflow_y": null,
            "padding": null,
            "right": null,
            "top": null,
            "visibility": null,
            "width": null
          }
        },
        "fec4d4ab9e514770844448ff62ad263f": {
          "model_module": "@jupyter-widgets/controls",
          "model_name": "ProgressStyleModel",
          "model_module_version": "1.5.0",
          "state": {
            "_model_module": "@jupyter-widgets/controls",
            "_model_module_version": "1.5.0",
            "_model_name": "ProgressStyleModel",
            "_view_count": null,
            "_view_module": "@jupyter-widgets/base",
            "_view_module_version": "1.2.0",
            "_view_name": "StyleView",
            "bar_color": null,
            "description_width": ""
          }
        },
        "6191fbab519743819ecc40b28e5578d6": {
          "model_module": "@jupyter-widgets/base",
          "model_name": "LayoutModel",
          "model_module_version": "1.2.0",
          "state": {
            "_model_module": "@jupyter-widgets/base",
            "_model_module_version": "1.2.0",
            "_model_name": "LayoutModel",
            "_view_count": null,
            "_view_module": "@jupyter-widgets/base",
            "_view_module_version": "1.2.0",
            "_view_name": "LayoutView",
            "align_content": null,
            "align_items": null,
            "align_self": null,
            "border": null,
            "bottom": null,
            "display": null,
            "flex": null,
            "flex_flow": null,
            "grid_area": null,
            "grid_auto_columns": null,
            "grid_auto_flow": null,
            "grid_auto_rows": null,
            "grid_column": null,
            "grid_gap": null,
            "grid_row": null,
            "grid_template_areas": null,
            "grid_template_columns": null,
            "grid_template_rows": null,
            "height": null,
            "justify_content": null,
            "justify_items": null,
            "left": null,
            "margin": null,
            "max_height": null,
            "max_width": null,
            "min_height": null,
            "min_width": null,
            "object_fit": null,
            "object_position": null,
            "order": null,
            "overflow": null,
            "overflow_x": null,
            "overflow_y": null,
            "padding": null,
            "right": null,
            "top": null,
            "visibility": null,
            "width": null
          }
        },
        "47cbcf3a81c642179f0c23ebce91e5fa": {
          "model_module": "@jupyter-widgets/controls",
          "model_name": "DescriptionStyleModel",
          "model_module_version": "1.5.0",
          "state": {
            "_model_module": "@jupyter-widgets/controls",
            "_model_module_version": "1.5.0",
            "_model_name": "DescriptionStyleModel",
            "_view_count": null,
            "_view_module": "@jupyter-widgets/base",
            "_view_module_version": "1.2.0",
            "_view_name": "StyleView",
            "description_width": ""
          }
        },
        "a46706ab1c654d138202f36b515401c8": {
          "model_module": "@jupyter-widgets/controls",
          "model_name": "HBoxModel",
          "model_module_version": "1.5.0",
          "state": {
            "_dom_classes": [],
            "_model_module": "@jupyter-widgets/controls",
            "_model_module_version": "1.5.0",
            "_model_name": "HBoxModel",
            "_view_count": null,
            "_view_module": "@jupyter-widgets/controls",
            "_view_module_version": "1.5.0",
            "_view_name": "HBoxView",
            "box_style": "",
            "children": [
              "IPY_MODEL_ba73501c4e8748dfb1af904210f2c86f",
              "IPY_MODEL_218b5c4f38af488db34251788e254487",
              "IPY_MODEL_8fc0f9ba78b44e3ea81ea2da604f36e1"
            ],
            "layout": "IPY_MODEL_ce95f1e92018400ea16ece2397703c58"
          }
        },
        "ba73501c4e8748dfb1af904210f2c86f": {
          "model_module": "@jupyter-widgets/controls",
          "model_name": "HTMLModel",
          "model_module_version": "1.5.0",
          "state": {
            "_dom_classes": [],
            "_model_module": "@jupyter-widgets/controls",
            "_model_module_version": "1.5.0",
            "_model_name": "HTMLModel",
            "_view_count": null,
            "_view_module": "@jupyter-widgets/controls",
            "_view_module_version": "1.5.0",
            "_view_name": "HTMLView",
            "description": "",
            "description_tooltip": null,
            "layout": "IPY_MODEL_096524cec61247d19a901a14ce7dc8e2",
            "placeholder": "​",
            "style": "IPY_MODEL_215ae2de702a4df98a52985edd5ff0c9",
            "value": "tokenizer.json: 100%"
          }
        },
        "218b5c4f38af488db34251788e254487": {
          "model_module": "@jupyter-widgets/controls",
          "model_name": "FloatProgressModel",
          "model_module_version": "1.5.0",
          "state": {
            "_dom_classes": [],
            "_model_module": "@jupyter-widgets/controls",
            "_model_module_version": "1.5.0",
            "_model_name": "FloatProgressModel",
            "_view_count": null,
            "_view_module": "@jupyter-widgets/controls",
            "_view_module_version": "1.5.0",
            "_view_name": "ProgressView",
            "bar_style": "success",
            "description": "",
            "description_tooltip": null,
            "layout": "IPY_MODEL_9b3aa6d4f17142d08555a47681f2ff68",
            "max": 435797,
            "min": 0,
            "orientation": "horizontal",
            "style": "IPY_MODEL_b332a6369a8b4813850833e5d767fc2b",
            "value": 435797
          }
        },
        "8fc0f9ba78b44e3ea81ea2da604f36e1": {
          "model_module": "@jupyter-widgets/controls",
          "model_name": "HTMLModel",
          "model_module_version": "1.5.0",
          "state": {
            "_dom_classes": [],
            "_model_module": "@jupyter-widgets/controls",
            "_model_module_version": "1.5.0",
            "_model_name": "HTMLModel",
            "_view_count": null,
            "_view_module": "@jupyter-widgets/controls",
            "_view_module_version": "1.5.0",
            "_view_name": "HTMLView",
            "description": "",
            "description_tooltip": null,
            "layout": "IPY_MODEL_2c32ad164e614845a23417af7c0cb914",
            "placeholder": "​",
            "style": "IPY_MODEL_3cff3ab922d34daaaf7b29b09d433a0a",
            "value": " 436k/436k [00:00&lt;00:00, 3.30MB/s]"
          }
        },
        "ce95f1e92018400ea16ece2397703c58": {
          "model_module": "@jupyter-widgets/base",
          "model_name": "LayoutModel",
          "model_module_version": "1.2.0",
          "state": {
            "_model_module": "@jupyter-widgets/base",
            "_model_module_version": "1.2.0",
            "_model_name": "LayoutModel",
            "_view_count": null,
            "_view_module": "@jupyter-widgets/base",
            "_view_module_version": "1.2.0",
            "_view_name": "LayoutView",
            "align_content": null,
            "align_items": null,
            "align_self": null,
            "border": null,
            "bottom": null,
            "display": null,
            "flex": null,
            "flex_flow": null,
            "grid_area": null,
            "grid_auto_columns": null,
            "grid_auto_flow": null,
            "grid_auto_rows": null,
            "grid_column": null,
            "grid_gap": null,
            "grid_row": null,
            "grid_template_areas": null,
            "grid_template_columns": null,
            "grid_template_rows": null,
            "height": null,
            "justify_content": null,
            "justify_items": null,
            "left": null,
            "margin": null,
            "max_height": null,
            "max_width": null,
            "min_height": null,
            "min_width": null,
            "object_fit": null,
            "object_position": null,
            "order": null,
            "overflow": null,
            "overflow_x": null,
            "overflow_y": null,
            "padding": null,
            "right": null,
            "top": null,
            "visibility": null,
            "width": null
          }
        },
        "096524cec61247d19a901a14ce7dc8e2": {
          "model_module": "@jupyter-widgets/base",
          "model_name": "LayoutModel",
          "model_module_version": "1.2.0",
          "state": {
            "_model_module": "@jupyter-widgets/base",
            "_model_module_version": "1.2.0",
            "_model_name": "LayoutModel",
            "_view_count": null,
            "_view_module": "@jupyter-widgets/base",
            "_view_module_version": "1.2.0",
            "_view_name": "LayoutView",
            "align_content": null,
            "align_items": null,
            "align_self": null,
            "border": null,
            "bottom": null,
            "display": null,
            "flex": null,
            "flex_flow": null,
            "grid_area": null,
            "grid_auto_columns": null,
            "grid_auto_flow": null,
            "grid_auto_rows": null,
            "grid_column": null,
            "grid_gap": null,
            "grid_row": null,
            "grid_template_areas": null,
            "grid_template_columns": null,
            "grid_template_rows": null,
            "height": null,
            "justify_content": null,
            "justify_items": null,
            "left": null,
            "margin": null,
            "max_height": null,
            "max_width": null,
            "min_height": null,
            "min_width": null,
            "object_fit": null,
            "object_position": null,
            "order": null,
            "overflow": null,
            "overflow_x": null,
            "overflow_y": null,
            "padding": null,
            "right": null,
            "top": null,
            "visibility": null,
            "width": null
          }
        },
        "215ae2de702a4df98a52985edd5ff0c9": {
          "model_module": "@jupyter-widgets/controls",
          "model_name": "DescriptionStyleModel",
          "model_module_version": "1.5.0",
          "state": {
            "_model_module": "@jupyter-widgets/controls",
            "_model_module_version": "1.5.0",
            "_model_name": "DescriptionStyleModel",
            "_view_count": null,
            "_view_module": "@jupyter-widgets/base",
            "_view_module_version": "1.2.0",
            "_view_name": "StyleView",
            "description_width": ""
          }
        },
        "9b3aa6d4f17142d08555a47681f2ff68": {
          "model_module": "@jupyter-widgets/base",
          "model_name": "LayoutModel",
          "model_module_version": "1.2.0",
          "state": {
            "_model_module": "@jupyter-widgets/base",
            "_model_module_version": "1.2.0",
            "_model_name": "LayoutModel",
            "_view_count": null,
            "_view_module": "@jupyter-widgets/base",
            "_view_module_version": "1.2.0",
            "_view_name": "LayoutView",
            "align_content": null,
            "align_items": null,
            "align_self": null,
            "border": null,
            "bottom": null,
            "display": null,
            "flex": null,
            "flex_flow": null,
            "grid_area": null,
            "grid_auto_columns": null,
            "grid_auto_flow": null,
            "grid_auto_rows": null,
            "grid_column": null,
            "grid_gap": null,
            "grid_row": null,
            "grid_template_areas": null,
            "grid_template_columns": null,
            "grid_template_rows": null,
            "height": null,
            "justify_content": null,
            "justify_items": null,
            "left": null,
            "margin": null,
            "max_height": null,
            "max_width": null,
            "min_height": null,
            "min_width": null,
            "object_fit": null,
            "object_position": null,
            "order": null,
            "overflow": null,
            "overflow_x": null,
            "overflow_y": null,
            "padding": null,
            "right": null,
            "top": null,
            "visibility": null,
            "width": null
          }
        },
        "b332a6369a8b4813850833e5d767fc2b": {
          "model_module": "@jupyter-widgets/controls",
          "model_name": "ProgressStyleModel",
          "model_module_version": "1.5.0",
          "state": {
            "_model_module": "@jupyter-widgets/controls",
            "_model_module_version": "1.5.0",
            "_model_name": "ProgressStyleModel",
            "_view_count": null,
            "_view_module": "@jupyter-widgets/base",
            "_view_module_version": "1.2.0",
            "_view_name": "StyleView",
            "bar_color": null,
            "description_width": ""
          }
        },
        "2c32ad164e614845a23417af7c0cb914": {
          "model_module": "@jupyter-widgets/base",
          "model_name": "LayoutModel",
          "model_module_version": "1.2.0",
          "state": {
            "_model_module": "@jupyter-widgets/base",
            "_model_module_version": "1.2.0",
            "_model_name": "LayoutModel",
            "_view_count": null,
            "_view_module": "@jupyter-widgets/base",
            "_view_module_version": "1.2.0",
            "_view_name": "LayoutView",
            "align_content": null,
            "align_items": null,
            "align_self": null,
            "border": null,
            "bottom": null,
            "display": null,
            "flex": null,
            "flex_flow": null,
            "grid_area": null,
            "grid_auto_columns": null,
            "grid_auto_flow": null,
            "grid_auto_rows": null,
            "grid_column": null,
            "grid_gap": null,
            "grid_row": null,
            "grid_template_areas": null,
            "grid_template_columns": null,
            "grid_template_rows": null,
            "height": null,
            "justify_content": null,
            "justify_items": null,
            "left": null,
            "margin": null,
            "max_height": null,
            "max_width": null,
            "min_height": null,
            "min_width": null,
            "object_fit": null,
            "object_position": null,
            "order": null,
            "overflow": null,
            "overflow_x": null,
            "overflow_y": null,
            "padding": null,
            "right": null,
            "top": null,
            "visibility": null,
            "width": null
          }
        },
        "3cff3ab922d34daaaf7b29b09d433a0a": {
          "model_module": "@jupyter-widgets/controls",
          "model_name": "DescriptionStyleModel",
          "model_module_version": "1.5.0",
          "state": {
            "_model_module": "@jupyter-widgets/controls",
            "_model_module_version": "1.5.0",
            "_model_name": "DescriptionStyleModel",
            "_view_count": null,
            "_view_module": "@jupyter-widgets/base",
            "_view_module_version": "1.2.0",
            "_view_name": "StyleView",
            "description_width": ""
          }
        },
        "23e71d320be5456393a95fe036b57367": {
          "model_module": "@jupyter-widgets/controls",
          "model_name": "HBoxModel",
          "model_module_version": "1.5.0",
          "state": {
            "_dom_classes": [],
            "_model_module": "@jupyter-widgets/controls",
            "_model_module_version": "1.5.0",
            "_model_name": "HBoxModel",
            "_view_count": null,
            "_view_module": "@jupyter-widgets/controls",
            "_view_module_version": "1.5.0",
            "_view_name": "HBoxView",
            "box_style": "",
            "children": [
              "IPY_MODEL_7375d93c777c4fe7b08b4b8e5bc3c61e",
              "IPY_MODEL_174194dc32124d12863bf67b4b10686d",
              "IPY_MODEL_559df0defbd142429ed163ea45e39149"
            ],
            "layout": "IPY_MODEL_f82c9af4243b42f7970b0c3c7eb823d8"
          }
        },
        "7375d93c777c4fe7b08b4b8e5bc3c61e": {
          "model_module": "@jupyter-widgets/controls",
          "model_name": "HTMLModel",
          "model_module_version": "1.5.0",
          "state": {
            "_dom_classes": [],
            "_model_module": "@jupyter-widgets/controls",
            "_model_module_version": "1.5.0",
            "_model_name": "HTMLModel",
            "_view_count": null,
            "_view_module": "@jupyter-widgets/controls",
            "_view_module_version": "1.5.0",
            "_view_name": "HTMLView",
            "description": "",
            "description_tooltip": null,
            "layout": "IPY_MODEL_ab2994f61e374f92b6b4cf9dad27789b",
            "placeholder": "​",
            "style": "IPY_MODEL_1e39087ea64c42eeb8ac45434d0b32f0",
            "value": "model.safetensors: 100%"
          }
        },
        "174194dc32124d12863bf67b4b10686d": {
          "model_module": "@jupyter-widgets/controls",
          "model_name": "FloatProgressModel",
          "model_module_version": "1.5.0",
          "state": {
            "_dom_classes": [],
            "_model_module": "@jupyter-widgets/controls",
            "_model_module_version": "1.5.0",
            "_model_name": "FloatProgressModel",
            "_view_count": null,
            "_view_module": "@jupyter-widgets/controls",
            "_view_module_version": "1.5.0",
            "_view_name": "ProgressView",
            "bar_style": "success",
            "description": "",
            "description_tooltip": null,
            "layout": "IPY_MODEL_eb2b0e5236f1413381229444b66f6060",
            "max": 435755784,
            "min": 0,
            "orientation": "horizontal",
            "style": "IPY_MODEL_4a419c2c51b741a385bda57379935562",
            "value": 435755784
          }
        },
        "559df0defbd142429ed163ea45e39149": {
          "model_module": "@jupyter-widgets/controls",
          "model_name": "HTMLModel",
          "model_module_version": "1.5.0",
          "state": {
            "_dom_classes": [],
            "_model_module": "@jupyter-widgets/controls",
            "_model_module_version": "1.5.0",
            "_model_name": "HTMLModel",
            "_view_count": null,
            "_view_module": "@jupyter-widgets/controls",
            "_view_module_version": "1.5.0",
            "_view_name": "HTMLView",
            "description": "",
            "description_tooltip": null,
            "layout": "IPY_MODEL_6f32a888792b4ddfbbe60bafb70040ea",
            "placeholder": "​",
            "style": "IPY_MODEL_94ce21a221884e7cbd6fd221d3197a6d",
            "value": " 436M/436M [00:03&lt;00:00, 147MB/s]"
          }
        },
        "f82c9af4243b42f7970b0c3c7eb823d8": {
          "model_module": "@jupyter-widgets/base",
          "model_name": "LayoutModel",
          "model_module_version": "1.2.0",
          "state": {
            "_model_module": "@jupyter-widgets/base",
            "_model_module_version": "1.2.0",
            "_model_name": "LayoutModel",
            "_view_count": null,
            "_view_module": "@jupyter-widgets/base",
            "_view_module_version": "1.2.0",
            "_view_name": "LayoutView",
            "align_content": null,
            "align_items": null,
            "align_self": null,
            "border": null,
            "bottom": null,
            "display": null,
            "flex": null,
            "flex_flow": null,
            "grid_area": null,
            "grid_auto_columns": null,
            "grid_auto_flow": null,
            "grid_auto_rows": null,
            "grid_column": null,
            "grid_gap": null,
            "grid_row": null,
            "grid_template_areas": null,
            "grid_template_columns": null,
            "grid_template_rows": null,
            "height": null,
            "justify_content": null,
            "justify_items": null,
            "left": null,
            "margin": null,
            "max_height": null,
            "max_width": null,
            "min_height": null,
            "min_width": null,
            "object_fit": null,
            "object_position": null,
            "order": null,
            "overflow": null,
            "overflow_x": null,
            "overflow_y": null,
            "padding": null,
            "right": null,
            "top": null,
            "visibility": null,
            "width": null
          }
        },
        "ab2994f61e374f92b6b4cf9dad27789b": {
          "model_module": "@jupyter-widgets/base",
          "model_name": "LayoutModel",
          "model_module_version": "1.2.0",
          "state": {
            "_model_module": "@jupyter-widgets/base",
            "_model_module_version": "1.2.0",
            "_model_name": "LayoutModel",
            "_view_count": null,
            "_view_module": "@jupyter-widgets/base",
            "_view_module_version": "1.2.0",
            "_view_name": "LayoutView",
            "align_content": null,
            "align_items": null,
            "align_self": null,
            "border": null,
            "bottom": null,
            "display": null,
            "flex": null,
            "flex_flow": null,
            "grid_area": null,
            "grid_auto_columns": null,
            "grid_auto_flow": null,
            "grid_auto_rows": null,
            "grid_column": null,
            "grid_gap": null,
            "grid_row": null,
            "grid_template_areas": null,
            "grid_template_columns": null,
            "grid_template_rows": null,
            "height": null,
            "justify_content": null,
            "justify_items": null,
            "left": null,
            "margin": null,
            "max_height": null,
            "max_width": null,
            "min_height": null,
            "min_width": null,
            "object_fit": null,
            "object_position": null,
            "order": null,
            "overflow": null,
            "overflow_x": null,
            "overflow_y": null,
            "padding": null,
            "right": null,
            "top": null,
            "visibility": null,
            "width": null
          }
        },
        "1e39087ea64c42eeb8ac45434d0b32f0": {
          "model_module": "@jupyter-widgets/controls",
          "model_name": "DescriptionStyleModel",
          "model_module_version": "1.5.0",
          "state": {
            "_model_module": "@jupyter-widgets/controls",
            "_model_module_version": "1.5.0",
            "_model_name": "DescriptionStyleModel",
            "_view_count": null,
            "_view_module": "@jupyter-widgets/base",
            "_view_module_version": "1.2.0",
            "_view_name": "StyleView",
            "description_width": ""
          }
        },
        "eb2b0e5236f1413381229444b66f6060": {
          "model_module": "@jupyter-widgets/base",
          "model_name": "LayoutModel",
          "model_module_version": "1.2.0",
          "state": {
            "_model_module": "@jupyter-widgets/base",
            "_model_module_version": "1.2.0",
            "_model_name": "LayoutModel",
            "_view_count": null,
            "_view_module": "@jupyter-widgets/base",
            "_view_module_version": "1.2.0",
            "_view_name": "LayoutView",
            "align_content": null,
            "align_items": null,
            "align_self": null,
            "border": null,
            "bottom": null,
            "display": null,
            "flex": null,
            "flex_flow": null,
            "grid_area": null,
            "grid_auto_columns": null,
            "grid_auto_flow": null,
            "grid_auto_rows": null,
            "grid_column": null,
            "grid_gap": null,
            "grid_row": null,
            "grid_template_areas": null,
            "grid_template_columns": null,
            "grid_template_rows": null,
            "height": null,
            "justify_content": null,
            "justify_items": null,
            "left": null,
            "margin": null,
            "max_height": null,
            "max_width": null,
            "min_height": null,
            "min_width": null,
            "object_fit": null,
            "object_position": null,
            "order": null,
            "overflow": null,
            "overflow_x": null,
            "overflow_y": null,
            "padding": null,
            "right": null,
            "top": null,
            "visibility": null,
            "width": null
          }
        },
        "4a419c2c51b741a385bda57379935562": {
          "model_module": "@jupyter-widgets/controls",
          "model_name": "ProgressStyleModel",
          "model_module_version": "1.5.0",
          "state": {
            "_model_module": "@jupyter-widgets/controls",
            "_model_module_version": "1.5.0",
            "_model_name": "ProgressStyleModel",
            "_view_count": null,
            "_view_module": "@jupyter-widgets/base",
            "_view_module_version": "1.2.0",
            "_view_name": "StyleView",
            "bar_color": null,
            "description_width": ""
          }
        },
        "6f32a888792b4ddfbbe60bafb70040ea": {
          "model_module": "@jupyter-widgets/base",
          "model_name": "LayoutModel",
          "model_module_version": "1.2.0",
          "state": {
            "_model_module": "@jupyter-widgets/base",
            "_model_module_version": "1.2.0",
            "_model_name": "LayoutModel",
            "_view_count": null,
            "_view_module": "@jupyter-widgets/base",
            "_view_module_version": "1.2.0",
            "_view_name": "LayoutView",
            "align_content": null,
            "align_items": null,
            "align_self": null,
            "border": null,
            "bottom": null,
            "display": null,
            "flex": null,
            "flex_flow": null,
            "grid_area": null,
            "grid_auto_columns": null,
            "grid_auto_flow": null,
            "grid_auto_rows": null,
            "grid_column": null,
            "grid_gap": null,
            "grid_row": null,
            "grid_template_areas": null,
            "grid_template_columns": null,
            "grid_template_rows": null,
            "height": null,
            "justify_content": null,
            "justify_items": null,
            "left": null,
            "margin": null,
            "max_height": null,
            "max_width": null,
            "min_height": null,
            "min_width": null,
            "object_fit": null,
            "object_position": null,
            "order": null,
            "overflow": null,
            "overflow_x": null,
            "overflow_y": null,
            "padding": null,
            "right": null,
            "top": null,
            "visibility": null,
            "width": null
          }
        },
        "94ce21a221884e7cbd6fd221d3197a6d": {
          "model_module": "@jupyter-widgets/controls",
          "model_name": "DescriptionStyleModel",
          "model_module_version": "1.5.0",
          "state": {
            "_model_module": "@jupyter-widgets/controls",
            "_model_module_version": "1.5.0",
            "_model_name": "DescriptionStyleModel",
            "_view_count": null,
            "_view_module": "@jupyter-widgets/base",
            "_view_module_version": "1.2.0",
            "_view_name": "StyleView",
            "description_width": ""
          }
        }
      }
    }
  },
  "nbformat": 4,
  "nbformat_minor": 0
}