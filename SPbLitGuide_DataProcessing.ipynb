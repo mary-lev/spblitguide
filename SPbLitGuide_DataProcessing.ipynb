{
  "cells": [
    {
      "cell_type": "markdown",
      "metadata": {
        "id": "view-in-github",
        "colab_type": "text"
      },
      "source": [
        "<a href=\"https://colab.research.google.com/github/mary-lev/spblitguide/blob/main/SPbLitGuide_DataProcessing.ipynb\" target=\"_parent\"><img src=\"https://colab.research.google.com/assets/colab-badge.svg\" alt=\"Open In Colab\"/></a>"
      ]
    },
    {
      "cell_type": "markdown",
      "metadata": {
        "id": "LO9UXKTcDu27"
      },
      "source": [
        "# Data Extraction and Processing\n",
        "## Project Introduction\n",
        "This Jupyter notebook is part of a project focused on analyzing the literary scene in St. Petersburg through a dataset derived from **SPbLitGuide**, a newsletter compiled by Daria Sukhovey. The newsletter, starting in May 1999, provides a rich source of information on literary events, capturing the essence of St. Petersburg's cultural life."
      ]
    },
    {
      "cell_type": "code",
      "execution_count": 1,
      "metadata": {
        "colab": {
          "base_uri": "https://localhost:8080/"
        },
        "id": "0wXznzZsl4iH",
        "outputId": "0f184555-e733-4afd-e6e4-9f415ae42e4a"
      },
      "outputs": [
        {
          "output_type": "stream",
          "name": "stdout",
          "text": [
            "Mounted at /content/drive\n",
            "/content/drive/My Drive/data/litgid\n"
          ]
        }
      ],
      "source": [
        "import re\n",
        "import csv\n",
        "import pandas as pd\n",
        "from IPython.display import Code\n",
        "import xml.etree.ElementTree as ET\n",
        "from bs4 import BeautifulSoup, NavigableString\n",
        "from google.colab import drive\n",
        "drive.mount('/content/drive')\n",
        "%cd /content/drive/My Drive/data/litgid/"
      ]
    },
    {
      "cell_type": "markdown",
      "metadata": {
        "id": "w3r5xUFSDtGE"
      },
      "source": [
        "## Data Source\n",
        "The raw data for this project is sourced from the WordPress database containing issues of the SPbLitGuide newsletter. This data is initially structured in an XML format, with each post containing details such as event titles, dates, descriptions, and hyperlinks.\n",
        "\n",
        "### Sample Data Structure\n",
        "A typical post in the XML dataset looks like this:"
      ]
    },
    {
      "cell_type": "code",
      "execution_count": 2,
      "metadata": {
        "colab": {
          "base_uri": "https://localhost:8080/",
          "height": 265
        },
        "id": "h3pdimA3Asn2",
        "outputId": "3ce3c104-c7b1-4339-9b18-ac207dfe5dbc"
      },
      "outputs": [
        {
          "output_type": "execute_result",
          "data": {
            "text/plain": [
              "<post>\n",
              "\t\t<id>1</id>\n",
              "\t\t<Title>SPbLitGuide 15-03-1</Title>\n",
              "\t\t<Content><![CDATA[<b><i>05.03.15 четверг 19.00 Галерея \"АРТ-ЛИГА\" (<span class=\"js-extracted-address daria-action mail-message-map-link\" data-action=\"map-up.showAddress\" data-params=\"address=Пушкинская 10&amp;ids=2060000005087047874\">Пушкинская <span class=\"mail-message-map-nobreak\">10</span></span>, вход с <span class=\"js-extracted-address daria-action mail-message-map-link\" data-action=\"map-up.showAddress\" data-params=\"address=Лиговского, 53&amp;ids=2060000005087047874\">Лиговского, <span class=\"mail-message-map-nobreak\">53</span></span>, парадная налево, 7 этаж)</i></b>\n",
              "Большой поэтический вечер в самом начале весны! Дмитрий Артис, Борис Кутенков (Москва),Дмитрий Шабанов, Рахман Кусимов, Серафима Сапрыкина, Ася Анистратенко.\n",
              "[соб. инф.]\n",
              "\n",
              "<b><i>05.03.15 четверг 19.00 Библиотека Лермонтова (<span class=\"js-extracted-address daria-action mail-message-map-link\" data-action=\"map-up.showAddress\" data-params=\"address=Литейный пр., 19&amp;ids=2060000005087047874\">Литейный пр., <span class=\"mail-message-map-nobreak\">19</span></span>)</i></b>\n",
              "\"Наполеоновские войны и Кавказ - взглядом Ермолова\". Читает историк, публицист, главный редактор журнала «Звезда» - Яков Аркадьевич Гордин. Герой Наполеоновских войн, проконсул Кавказа, генерал от инфантерии и артиллерии Алексей Петрович Ермолов оставил обширную переписку. Письма Ермолова — неисчерпаемый источник сведений о его взглядах и планах, которые были осуществлены или остались лишь намерениями, они дают возможность приблизиться к пониманию масштабности фигуры их автора и проникнуть в психологический климат «ермоловской эпохи», помогают пролить свет на многие сюжеты истории. Эпистолярное наследие Ермолова является объектом многолетней исследовательской работы Я. А. Гордина. Яков Аркадьевич Гордин известен независимыми историческими исследованиями и специализируется на кризисных ситуациях русской политической истории XVIII—XIX веков; автор многих статей и ряда книг, в том числе «Ермолов», «Алексей Ермолов. Солдат и его империя», \"Гибель Пушкина\", \"Между рабством и свободой\", \"Дуэли и дуэлянты\", \"Мятеж реформаторов\". Историческая беллетристика с документальной основой и эссеистика на исторические темы – основные жанры творчества Я. А. Гордина с середины 1970-х гг. Яков Аркадьевич Гордин за многие годы литературного и просветительского труда внёс неоценимый вклад в развитие просветительской мысли.\n",
              "[лермонтовка]\n",
              "\n",
              "<b><i>05.03.15 четверг 19.30 Антикафе \"О'Лень\" (БЦ «Остров», <span class=\"js-extracted-address daria-action mail-message-map-link\" data-action=\"map-up.showAddress\" data-params=\"address=Средний пр В.О. 36/40&amp;ids=2060000005087047874\">Средний пр В.О. <span class=\"mail-message-map-nobreak\">36/40</span></span>, угол Среднего и 9й линии, 3 этаж ) тариф антикафе 2р./мин</i></b>\n",
              "Космическо-эзотерическо-п<wbr />оэтический вечер Мари Stell \"Трансцендентность\". Погружение в мир таинственных образов и чувственных переживаний, не поддающихся контролю форм"
            ],
            "text/html": [
              "<style>pre { line-height: 125%; }\n",
              "td.linenos .normal { color: inherit; background-color: transparent; padding-left: 5px; padding-right: 5px; }\n",
              "span.linenos { color: inherit; background-color: transparent; padding-left: 5px; padding-right: 5px; }\n",
              "td.linenos .special { color: #000000; background-color: #ffffc0; padding-left: 5px; padding-right: 5px; }\n",
              "span.linenos.special { color: #000000; background-color: #ffffc0; padding-left: 5px; padding-right: 5px; }\n",
              ".output_html .hll { background-color: #ffffcc }\n",
              ".output_html { background: #f8f8f8; }\n",
              ".output_html .c { color: #3D7B7B; font-style: italic } /* Comment */\n",
              ".output_html .err { border: 1px solid #FF0000 } /* Error */\n",
              ".output_html .k { color: #008000; font-weight: bold } /* Keyword */\n",
              ".output_html .o { color: #666666 } /* Operator */\n",
              ".output_html .ch { color: #3D7B7B; font-style: italic } /* Comment.Hashbang */\n",
              ".output_html .cm { color: #3D7B7B; font-style: italic } /* Comment.Multiline */\n",
              ".output_html .cp { color: #9C6500 } /* Comment.Preproc */\n",
              ".output_html .cpf { color: #3D7B7B; font-style: italic } /* Comment.PreprocFile */\n",
              ".output_html .c1 { color: #3D7B7B; font-style: italic } /* Comment.Single */\n",
              ".output_html .cs { color: #3D7B7B; font-style: italic } /* Comment.Special */\n",
              ".output_html .gd { color: #A00000 } /* Generic.Deleted */\n",
              ".output_html .ge { font-style: italic } /* Generic.Emph */\n",
              ".output_html .ges { font-weight: bold; font-style: italic } /* Generic.EmphStrong */\n",
              ".output_html .gr { color: #E40000 } /* Generic.Error */\n",
              ".output_html .gh { color: #000080; font-weight: bold } /* Generic.Heading */\n",
              ".output_html .gi { color: #008400 } /* Generic.Inserted */\n",
              ".output_html .go { color: #717171 } /* Generic.Output */\n",
              ".output_html .gp { color: #000080; font-weight: bold } /* Generic.Prompt */\n",
              ".output_html .gs { font-weight: bold } /* Generic.Strong */\n",
              ".output_html .gu { color: #800080; font-weight: bold } /* Generic.Subheading */\n",
              ".output_html .gt { color: #0044DD } /* Generic.Traceback */\n",
              ".output_html .kc { color: #008000; font-weight: bold } /* Keyword.Constant */\n",
              ".output_html .kd { color: #008000; font-weight: bold } /* Keyword.Declaration */\n",
              ".output_html .kn { color: #008000; font-weight: bold } /* Keyword.Namespace */\n",
              ".output_html .kp { color: #008000 } /* Keyword.Pseudo */\n",
              ".output_html .kr { color: #008000; font-weight: bold } /* Keyword.Reserved */\n",
              ".output_html .kt { color: #B00040 } /* Keyword.Type */\n",
              ".output_html .m { color: #666666 } /* Literal.Number */\n",
              ".output_html .s { color: #BA2121 } /* Literal.String */\n",
              ".output_html .na { color: #687822 } /* Name.Attribute */\n",
              ".output_html .nb { color: #008000 } /* Name.Builtin */\n",
              ".output_html .nc { color: #0000FF; font-weight: bold } /* Name.Class */\n",
              ".output_html .no { color: #880000 } /* Name.Constant */\n",
              ".output_html .nd { color: #AA22FF } /* Name.Decorator */\n",
              ".output_html .ni { color: #717171; font-weight: bold } /* Name.Entity */\n",
              ".output_html .ne { color: #CB3F38; font-weight: bold } /* Name.Exception */\n",
              ".output_html .nf { color: #0000FF } /* Name.Function */\n",
              ".output_html .nl { color: #767600 } /* Name.Label */\n",
              ".output_html .nn { color: #0000FF; font-weight: bold } /* Name.Namespace */\n",
              ".output_html .nt { color: #008000; font-weight: bold } /* Name.Tag */\n",
              ".output_html .nv { color: #19177C } /* Name.Variable */\n",
              ".output_html .ow { color: #AA22FF; font-weight: bold } /* Operator.Word */\n",
              ".output_html .w { color: #bbbbbb } /* Text.Whitespace */\n",
              ".output_html .mb { color: #666666 } /* Literal.Number.Bin */\n",
              ".output_html .mf { color: #666666 } /* Literal.Number.Float */\n",
              ".output_html .mh { color: #666666 } /* Literal.Number.Hex */\n",
              ".output_html .mi { color: #666666 } /* Literal.Number.Integer */\n",
              ".output_html .mo { color: #666666 } /* Literal.Number.Oct */\n",
              ".output_html .sa { color: #BA2121 } /* Literal.String.Affix */\n",
              ".output_html .sb { color: #BA2121 } /* Literal.String.Backtick */\n",
              ".output_html .sc { color: #BA2121 } /* Literal.String.Char */\n",
              ".output_html .dl { color: #BA2121 } /* Literal.String.Delimiter */\n",
              ".output_html .sd { color: #BA2121; font-style: italic } /* Literal.String.Doc */\n",
              ".output_html .s2 { color: #BA2121 } /* Literal.String.Double */\n",
              ".output_html .se { color: #AA5D1F; font-weight: bold } /* Literal.String.Escape */\n",
              ".output_html .sh { color: #BA2121 } /* Literal.String.Heredoc */\n",
              ".output_html .si { color: #A45A77; font-weight: bold } /* Literal.String.Interpol */\n",
              ".output_html .sx { color: #008000 } /* Literal.String.Other */\n",
              ".output_html .sr { color: #A45A77 } /* Literal.String.Regex */\n",
              ".output_html .s1 { color: #BA2121 } /* Literal.String.Single */\n",
              ".output_html .ss { color: #19177C } /* Literal.String.Symbol */\n",
              ".output_html .bp { color: #008000 } /* Name.Builtin.Pseudo */\n",
              ".output_html .fm { color: #0000FF } /* Name.Function.Magic */\n",
              ".output_html .vc { color: #19177C } /* Name.Variable.Class */\n",
              ".output_html .vg { color: #19177C } /* Name.Variable.Global */\n",
              ".output_html .vi { color: #19177C } /* Name.Variable.Instance */\n",
              ".output_html .vm { color: #19177C } /* Name.Variable.Magic */\n",
              ".output_html .il { color: #666666 } /* Literal.Number.Integer.Long */</style><div class=\"highlight\"><pre><span></span><span class=\"nt\">&lt;post&gt;</span>\n",
              "<span class=\"w\">\t\t</span><span class=\"nt\">&lt;id&gt;</span>1<span class=\"nt\">&lt;/id&gt;</span>\n",
              "<span class=\"w\">\t\t</span><span class=\"nt\">&lt;Title&gt;</span>SPbLitGuide<span class=\"w\"> </span>15-03-1<span class=\"nt\">&lt;/Title&gt;</span>\n",
              "<span class=\"w\">\t\t</span><span class=\"nt\">&lt;Content&gt;</span><span class=\"cp\">&lt;![CDATA[&lt;b&gt;</span><span class=\"nt\">&lt;i&gt;</span>05.03.15<span class=\"w\"> </span>четверг<span class=\"w\"> </span>19.00<span class=\"w\"> </span>Галерея<span class=\"w\"> </span>&quot;АРТ-ЛИГА&quot;<span class=\"w\"> </span>(<span class=\"nt\">&lt;span</span><span class=\"w\"> </span><span class=\"na\">class=</span><span class=\"s\">&quot;js-extracted-address daria-action mail-message-map-link&quot;</span><span class=\"w\"> </span><span class=\"na\">data-action=</span><span class=\"s\">&quot;map-up.showAddress&quot;</span><span class=\"w\"> </span><span class=\"na\">data-params=</span><span class=\"s\">&quot;address=Пушкинская 10&amp;amp;ids=2060000005087047874&quot;</span><span class=\"nt\">&gt;</span>Пушкинская<span class=\"w\"> </span><span class=\"nt\">&lt;span</span><span class=\"w\"> </span><span class=\"na\">class=</span><span class=\"s\">&quot;mail-message-map-nobreak&quot;</span><span class=\"nt\">&gt;</span>10<span class=\"nt\">&lt;/span&gt;&lt;/span&gt;</span>,<span class=\"w\"> </span>вход<span class=\"w\"> </span>с<span class=\"w\"> </span><span class=\"nt\">&lt;span</span><span class=\"w\"> </span><span class=\"na\">class=</span><span class=\"s\">&quot;js-extracted-address daria-action mail-message-map-link&quot;</span><span class=\"w\"> </span><span class=\"na\">data-action=</span><span class=\"s\">&quot;map-up.showAddress&quot;</span><span class=\"w\"> </span><span class=\"na\">data-params=</span><span class=\"s\">&quot;address=Лиговского, 53&amp;amp;ids=2060000005087047874&quot;</span><span class=\"nt\">&gt;</span>Лиговского,<span class=\"w\"> </span><span class=\"nt\">&lt;span</span><span class=\"w\"> </span><span class=\"na\">class=</span><span class=\"s\">&quot;mail-message-map-nobreak&quot;</span><span class=\"nt\">&gt;</span>53<span class=\"nt\">&lt;/span&gt;&lt;/span&gt;</span>,<span class=\"w\"> </span>парадная<span class=\"w\"> </span>налево,<span class=\"w\"> </span>7<span class=\"w\"> </span>этаж)<span class=\"nt\">&lt;/i&gt;&lt;/b&gt;</span>\n",
              "Большой<span class=\"w\"> </span>поэтический<span class=\"w\"> </span>вечер<span class=\"w\"> </span>в<span class=\"w\"> </span>самом<span class=\"w\"> </span>начале<span class=\"w\"> </span>весны!<span class=\"w\"> </span>Дмитрий<span class=\"w\"> </span>Артис,<span class=\"w\"> </span>Борис<span class=\"w\"> </span>Кутенков<span class=\"w\"> </span>(Москва),Дмитрий<span class=\"w\"> </span>Шабанов,<span class=\"w\"> </span>Рахман<span class=\"w\"> </span>Кусимов,<span class=\"w\"> </span>Серафима<span class=\"w\"> </span>Сапрыкина,<span class=\"w\"> </span>Ася<span class=\"w\"> </span>Анистратенко.\n",
              "[соб.<span class=\"w\"> </span>инф.]\n",
              "\n",
              "<span class=\"nt\">&lt;b&gt;&lt;i&gt;</span>05.03.15<span class=\"w\"> </span>четверг<span class=\"w\"> </span>19.00<span class=\"w\"> </span>Библиотека<span class=\"w\"> </span>Лермонтова<span class=\"w\"> </span>(<span class=\"nt\">&lt;span</span><span class=\"w\"> </span><span class=\"na\">class=</span><span class=\"s\">&quot;js-extracted-address daria-action mail-message-map-link&quot;</span><span class=\"w\"> </span><span class=\"na\">data-action=</span><span class=\"s\">&quot;map-up.showAddress&quot;</span><span class=\"w\"> </span><span class=\"na\">data-params=</span><span class=\"s\">&quot;address=Литейный пр., 19&amp;amp;ids=2060000005087047874&quot;</span><span class=\"nt\">&gt;</span>Литейный<span class=\"w\"> </span>пр.,<span class=\"w\"> </span><span class=\"nt\">&lt;span</span><span class=\"w\"> </span><span class=\"na\">class=</span><span class=\"s\">&quot;mail-message-map-nobreak&quot;</span><span class=\"nt\">&gt;</span>19<span class=\"nt\">&lt;/span&gt;&lt;/span&gt;</span>)<span class=\"nt\">&lt;/i&gt;&lt;/b&gt;</span>\n",
              "&quot;Наполеоновские<span class=\"w\"> </span>войны<span class=\"w\"> </span>и<span class=\"w\"> </span>Кавказ<span class=\"w\"> </span>-<span class=\"w\"> </span>взглядом<span class=\"w\"> </span>Ермолова&quot;.<span class=\"w\"> </span>Читает<span class=\"w\"> </span>историк,<span class=\"w\"> </span>публицист,<span class=\"w\"> </span>главный<span class=\"w\"> </span>редактор<span class=\"w\"> </span>журнала<span class=\"w\"> </span>«Звезда»<span class=\"w\"> </span>-<span class=\"w\"> </span>Яков<span class=\"w\"> </span>Аркадьевич<span class=\"w\"> </span>Гордин.<span class=\"w\"> </span>Герой<span class=\"w\"> </span>Наполеоновских<span class=\"w\"> </span>войн,<span class=\"w\"> </span>проконсул<span class=\"w\"> </span>Кавказа,<span class=\"w\"> </span>генерал<span class=\"w\"> </span>от<span class=\"w\"> </span>инфантерии<span class=\"w\"> </span>и<span class=\"w\"> </span>артиллерии<span class=\"w\"> </span>Алексей<span class=\"w\"> </span>Петрович<span class=\"w\"> </span>Ермолов<span class=\"w\"> </span>оставил<span class=\"w\"> </span>обширную<span class=\"w\"> </span>переписку.<span class=\"w\"> </span>Письма<span class=\"w\"> </span>Ермолова<span class=\"w\"> </span>—<span class=\"w\"> </span>неисчерпаемый<span class=\"w\"> </span>источник<span class=\"w\"> </span>сведений<span class=\"w\"> </span>о<span class=\"w\"> </span>его<span class=\"w\"> </span>взглядах<span class=\"w\"> </span>и<span class=\"w\"> </span>планах,<span class=\"w\"> </span>которые<span class=\"w\"> </span>были<span class=\"w\"> </span>осуществлены<span class=\"w\"> </span>или<span class=\"w\"> </span>остались<span class=\"w\"> </span>лишь<span class=\"w\"> </span>намерениями,<span class=\"w\"> </span>они<span class=\"w\"> </span>дают<span class=\"w\"> </span>возможность<span class=\"w\"> </span>приблизиться<span class=\"w\"> </span>к<span class=\"w\"> </span>пониманию<span class=\"w\"> </span>масштабности<span class=\"w\"> </span>фигуры<span class=\"w\"> </span>их<span class=\"w\"> </span>автора<span class=\"w\"> </span>и<span class=\"w\"> </span>проникнуть<span class=\"w\"> </span>в<span class=\"w\"> </span>психологический<span class=\"w\"> </span>климат<span class=\"w\"> </span>«ермоловской<span class=\"w\"> </span>эпохи»,<span class=\"w\"> </span>помогают<span class=\"w\"> </span>пролить<span class=\"w\"> </span>свет<span class=\"w\"> </span>на<span class=\"w\"> </span>многие<span class=\"w\"> </span>сюжеты<span class=\"w\"> </span>истории.<span class=\"w\"> </span>Эпистолярное<span class=\"w\"> </span>наследие<span class=\"w\"> </span>Ермолова<span class=\"w\"> </span>является<span class=\"w\"> </span>объектом<span class=\"w\"> </span>многолетней<span class=\"w\"> </span>исследовательской<span class=\"w\"> </span>работы<span class=\"w\"> </span>Я.<span class=\"w\"> </span>А.<span class=\"w\"> </span>Гордина.<span class=\"w\"> </span>Яков<span class=\"w\"> </span>Аркадьевич<span class=\"w\"> </span>Гордин<span class=\"w\"> </span>известен<span class=\"w\"> </span>независимыми<span class=\"w\"> </span>историческими<span class=\"w\"> </span>исследованиями<span class=\"w\"> </span>и<span class=\"w\"> </span>специализируется<span class=\"w\"> </span>на<span class=\"w\"> </span>кризисных<span class=\"w\"> </span>ситуациях<span class=\"w\"> </span>русской<span class=\"w\"> </span>политической<span class=\"w\"> </span>истории<span class=\"w\"> </span>XVIII—XIX<span class=\"w\"> </span>веков;<span class=\"w\"> </span>автор<span class=\"w\"> </span>многих<span class=\"w\"> </span>статей<span class=\"w\"> </span>и<span class=\"w\"> </span>ряда<span class=\"w\"> </span>книг,<span class=\"w\"> </span>в<span class=\"w\"> </span>том<span class=\"w\"> </span>числе<span class=\"w\"> </span>«Ермолов»,<span class=\"w\"> </span>«Алексей<span class=\"w\"> </span>Ермолов.<span class=\"w\"> </span>Солдат<span class=\"w\"> </span>и<span class=\"w\"> </span>его<span class=\"w\"> </span>империя»,<span class=\"w\"> </span>&quot;Гибель<span class=\"w\"> </span>Пушкина&quot;,<span class=\"w\"> </span>&quot;Между<span class=\"w\"> </span>рабством<span class=\"w\"> </span>и<span class=\"w\"> </span>свободой&quot;,<span class=\"w\"> </span>&quot;Дуэли<span class=\"w\"> </span>и<span class=\"w\"> </span>дуэлянты&quot;,<span class=\"w\"> </span>&quot;Мятеж<span class=\"w\"> </span>реформаторов&quot;.<span class=\"w\"> </span>Историческая<span class=\"w\"> </span>беллетристика<span class=\"w\"> </span>с<span class=\"w\"> </span>документальной<span class=\"w\"> </span>основой<span class=\"w\"> </span>и<span class=\"w\"> </span>эссеистика<span class=\"w\"> </span>на<span class=\"w\"> </span>исторические<span class=\"w\"> </span>темы<span class=\"w\"> </span>–<span class=\"w\"> </span>основные<span class=\"w\"> </span>жанры<span class=\"w\"> </span>творчества<span class=\"w\"> </span>Я.<span class=\"w\"> </span>А.<span class=\"w\"> </span>Гордина<span class=\"w\"> </span>с<span class=\"w\"> </span>середины<span class=\"w\"> </span>1970-х<span class=\"w\"> </span>гг.<span class=\"w\"> </span>Яков<span class=\"w\"> </span>Аркадьевич<span class=\"w\"> </span>Гордин<span class=\"w\"> </span>за<span class=\"w\"> </span>многие<span class=\"w\"> </span>годы<span class=\"w\"> </span>литературного<span class=\"w\"> </span>и<span class=\"w\"> </span>просветительского<span class=\"w\"> </span>труда<span class=\"w\"> </span>внёс<span class=\"w\"> </span>неоценимый<span class=\"w\"> </span>вклад<span class=\"w\"> </span>в<span class=\"w\"> </span>развитие<span class=\"w\"> </span>просветительской<span class=\"w\"> </span>мысли.\n",
              "[лермонтовка]\n",
              "\n",
              "<span class=\"nt\">&lt;b&gt;&lt;i&gt;</span>05.03.15<span class=\"w\"> </span>четверг<span class=\"w\"> </span>19.30<span class=\"w\"> </span>Антикафе<span class=\"w\"> </span>&quot;О&#39;Лень&quot;<span class=\"w\"> </span>(БЦ<span class=\"w\"> </span>«Остров»,<span class=\"w\"> </span><span class=\"nt\">&lt;span</span><span class=\"w\"> </span><span class=\"na\">class=</span><span class=\"s\">&quot;js-extracted-address daria-action mail-message-map-link&quot;</span><span class=\"w\"> </span><span class=\"na\">data-action=</span><span class=\"s\">&quot;map-up.showAddress&quot;</span><span class=\"w\"> </span><span class=\"na\">data-params=</span><span class=\"s\">&quot;address=Средний пр В.О. 36/40&amp;amp;ids=2060000005087047874&quot;</span><span class=\"nt\">&gt;</span>Средний<span class=\"w\"> </span>пр<span class=\"w\"> </span>В.О.<span class=\"w\"> </span><span class=\"nt\">&lt;span</span><span class=\"w\"> </span><span class=\"na\">class=</span><span class=\"s\">&quot;mail-message-map-nobreak&quot;</span><span class=\"nt\">&gt;</span>36/40<span class=\"nt\">&lt;/span&gt;&lt;/span&gt;</span>,<span class=\"w\"> </span>угол<span class=\"w\"> </span>Среднего<span class=\"w\"> </span>и<span class=\"w\"> </span>9й<span class=\"w\"> </span>линии,<span class=\"w\"> </span>3<span class=\"w\"> </span>этаж<span class=\"w\"> </span>)<span class=\"w\"> </span>тариф<span class=\"w\"> </span>антикафе<span class=\"w\"> </span>2р./мин<span class=\"nt\">&lt;/i&gt;&lt;/b&gt;</span>\n",
              "Космическо-эзотерическо-п<span class=\"nt\">&lt;wbr</span><span class=\"w\"> </span><span class=\"nt\">/&gt;</span>оэтический<span class=\"w\"> </span>вечер<span class=\"w\"> </span>Мари<span class=\"w\"> </span>Stell<span class=\"w\"> </span>&quot;Трансцендентность&quot;.<span class=\"w\"> </span>Погружение<span class=\"w\"> </span>в<span class=\"w\"> </span>мир<span class=\"w\"> </span>таинственных<span class=\"w\"> </span>образов<span class=\"w\"> </span>и<span class=\"w\"> </span>чувственных<span class=\"w\"> </span>переживаний,<span class=\"w\"> </span>не<span class=\"w\"> </span>поддающихся<span class=\"w\"> </span>контролю<span class=\"w\"> </span>форм\n",
              "</pre></div>\n"
            ],
            "text/latex": "\\begin{Verbatim}[commandchars=\\\\\\{\\}]\n\\PY{n+nt}{\\PYZlt{}post}\\PY{n+nt}{\\PYZgt{}}\n\\PY{+w}{\t\t}\\PY{n+nt}{\\PYZlt{}id}\\PY{n+nt}{\\PYZgt{}}1\\PY{n+nt}{\\PYZlt{}/id\\PYZgt{}}\n\\PY{+w}{\t\t}\\PY{n+nt}{\\PYZlt{}Title}\\PY{n+nt}{\\PYZgt{}}SPbLitGuide\\PY{+w}{ }15\\PYZhy{}03\\PYZhy{}1\\PY{n+nt}{\\PYZlt{}/Title\\PYZgt{}}\n\\PY{+w}{\t\t}\\PY{n+nt}{\\PYZlt{}Content}\\PY{n+nt}{\\PYZgt{}}\\PY{c+cp}{\\PYZlt{}![CDATA[\\PYZlt{}b\\PYZgt{}}\\PY{n+nt}{\\PYZlt{}i}\\PY{n+nt}{\\PYZgt{}}05.03.15\\PY{+w}{ }четверг\\PY{+w}{ }19.00\\PY{+w}{ }Галерея\\PY{+w}{ }\\PYZdq{}АРТ\\PYZhy{}ЛИГА\\PYZdq{}\\PY{+w}{ }(\\PY{n+nt}{\\PYZlt{}span}\\PY{+w}{ }\\PY{n+na}{class=}\\PY{l+s}{\\PYZdq{}js\\PYZhy{}extracted\\PYZhy{}address daria\\PYZhy{}action mail\\PYZhy{}message\\PYZhy{}map\\PYZhy{}link\\PYZdq{}}\\PY{+w}{ }\\PY{n+na}{data\\PYZhy{}action=}\\PY{l+s}{\\PYZdq{}map\\PYZhy{}up.showAddress\\PYZdq{}}\\PY{+w}{ }\\PY{n+na}{data\\PYZhy{}params=}\\PY{l+s}{\\PYZdq{}address=Пушкинская 10\\PYZam{}amp;ids=2060000005087047874\\PYZdq{}}\\PY{n+nt}{\\PYZgt{}}Пушкинская\\PY{+w}{ }\\PY{n+nt}{\\PYZlt{}span}\\PY{+w}{ }\\PY{n+na}{class=}\\PY{l+s}{\\PYZdq{}mail\\PYZhy{}message\\PYZhy{}map\\PYZhy{}nobreak\\PYZdq{}}\\PY{n+nt}{\\PYZgt{}}10\\PY{n+nt}{\\PYZlt{}/span\\PYZgt{}}\\PY{n+nt}{\\PYZlt{}/span\\PYZgt{}},\\PY{+w}{ }вход\\PY{+w}{ }с\\PY{+w}{ }\\PY{n+nt}{\\PYZlt{}span}\\PY{+w}{ }\\PY{n+na}{class=}\\PY{l+s}{\\PYZdq{}js\\PYZhy{}extracted\\PYZhy{}address daria\\PYZhy{}action mail\\PYZhy{}message\\PYZhy{}map\\PYZhy{}link\\PYZdq{}}\\PY{+w}{ }\\PY{n+na}{data\\PYZhy{}action=}\\PY{l+s}{\\PYZdq{}map\\PYZhy{}up.showAddress\\PYZdq{}}\\PY{+w}{ }\\PY{n+na}{data\\PYZhy{}params=}\\PY{l+s}{\\PYZdq{}address=Лиговского, 53\\PYZam{}amp;ids=2060000005087047874\\PYZdq{}}\\PY{n+nt}{\\PYZgt{}}Лиговского,\\PY{+w}{ }\\PY{n+nt}{\\PYZlt{}span}\\PY{+w}{ }\\PY{n+na}{class=}\\PY{l+s}{\\PYZdq{}mail\\PYZhy{}message\\PYZhy{}map\\PYZhy{}nobreak\\PYZdq{}}\\PY{n+nt}{\\PYZgt{}}53\\PY{n+nt}{\\PYZlt{}/span\\PYZgt{}}\\PY{n+nt}{\\PYZlt{}/span\\PYZgt{}},\\PY{+w}{ }парадная\\PY{+w}{ }налево,\\PY{+w}{ }7\\PY{+w}{ }этаж)\\PY{n+nt}{\\PYZlt{}/i\\PYZgt{}}\\PY{n+nt}{\\PYZlt{}/b\\PYZgt{}}\nБольшой\\PY{+w}{ }поэтический\\PY{+w}{ }вечер\\PY{+w}{ }в\\PY{+w}{ }самом\\PY{+w}{ }начале\\PY{+w}{ }весны!\\PY{+w}{ }Дмитрий\\PY{+w}{ }Артис,\\PY{+w}{ }Борис\\PY{+w}{ }Кутенков\\PY{+w}{ }(Москва),Дмитрий\\PY{+w}{ }Шабанов,\\PY{+w}{ }Рахман\\PY{+w}{ }Кусимов,\\PY{+w}{ }Серафима\\PY{+w}{ }Сапрыкина,\\PY{+w}{ }Ася\\PY{+w}{ }Анистратенко.\n[соб.\\PY{+w}{ }инф.]\n\n\\PY{n+nt}{\\PYZlt{}b}\\PY{n+nt}{\\PYZgt{}}\\PY{n+nt}{\\PYZlt{}i}\\PY{n+nt}{\\PYZgt{}}05.03.15\\PY{+w}{ }четверг\\PY{+w}{ }19.00\\PY{+w}{ }Библиотека\\PY{+w}{ }Лермонтова\\PY{+w}{ }(\\PY{n+nt}{\\PYZlt{}span}\\PY{+w}{ }\\PY{n+na}{class=}\\PY{l+s}{\\PYZdq{}js\\PYZhy{}extracted\\PYZhy{}address daria\\PYZhy{}action mail\\PYZhy{}message\\PYZhy{}map\\PYZhy{}link\\PYZdq{}}\\PY{+w}{ }\\PY{n+na}{data\\PYZhy{}action=}\\PY{l+s}{\\PYZdq{}map\\PYZhy{}up.showAddress\\PYZdq{}}\\PY{+w}{ }\\PY{n+na}{data\\PYZhy{}params=}\\PY{l+s}{\\PYZdq{}address=Литейный пр., 19\\PYZam{}amp;ids=2060000005087047874\\PYZdq{}}\\PY{n+nt}{\\PYZgt{}}Литейный\\PY{+w}{ }пр.,\\PY{+w}{ }\\PY{n+nt}{\\PYZlt{}span}\\PY{+w}{ }\\PY{n+na}{class=}\\PY{l+s}{\\PYZdq{}mail\\PYZhy{}message\\PYZhy{}map\\PYZhy{}nobreak\\PYZdq{}}\\PY{n+nt}{\\PYZgt{}}19\\PY{n+nt}{\\PYZlt{}/span\\PYZgt{}}\\PY{n+nt}{\\PYZlt{}/span\\PYZgt{}})\\PY{n+nt}{\\PYZlt{}/i\\PYZgt{}}\\PY{n+nt}{\\PYZlt{}/b\\PYZgt{}}\n\\PYZdq{}Наполеоновские\\PY{+w}{ }войны\\PY{+w}{ }и\\PY{+w}{ }Кавказ\\PY{+w}{ }\\PYZhy{}\\PY{+w}{ }взглядом\\PY{+w}{ }Ермолова\\PYZdq{}.\\PY{+w}{ }Читает\\PY{+w}{ }историк,\\PY{+w}{ }публицист,\\PY{+w}{ }главный\\PY{+w}{ }редактор\\PY{+w}{ }журнала\\PY{+w}{ }«Звезда»\\PY{+w}{ }\\PYZhy{}\\PY{+w}{ }Яков\\PY{+w}{ }Аркадьевич\\PY{+w}{ }Гордин.\\PY{+w}{ }Герой\\PY{+w}{ }Наполеоновских\\PY{+w}{ }войн,\\PY{+w}{ }проконсул\\PY{+w}{ }Кавказа,\\PY{+w}{ }генерал\\PY{+w}{ }от\\PY{+w}{ }инфантерии\\PY{+w}{ }и\\PY{+w}{ }артиллерии\\PY{+w}{ }Алексей\\PY{+w}{ }Петрович\\PY{+w}{ }Ермолов\\PY{+w}{ }оставил\\PY{+w}{ }обширную\\PY{+w}{ }переписку.\\PY{+w}{ }Письма\\PY{+w}{ }Ермолова\\PY{+w}{ }—\\PY{+w}{ }неисчерпаемый\\PY{+w}{ }источник\\PY{+w}{ }сведений\\PY{+w}{ }о\\PY{+w}{ }его\\PY{+w}{ }взглядах\\PY{+w}{ }и\\PY{+w}{ }планах,\\PY{+w}{ }которые\\PY{+w}{ }были\\PY{+w}{ }осуществлены\\PY{+w}{ }или\\PY{+w}{ }остались\\PY{+w}{ }лишь\\PY{+w}{ }намерениями,\\PY{+w}{ }они\\PY{+w}{ }дают\\PY{+w}{ }возможность\\PY{+w}{ }приблизиться\\PY{+w}{ }к\\PY{+w}{ }пониманию\\PY{+w}{ }масштабности\\PY{+w}{ }фигуры\\PY{+w}{ }их\\PY{+w}{ }автора\\PY{+w}{ }и\\PY{+w}{ }проникнуть\\PY{+w}{ }в\\PY{+w}{ }психологический\\PY{+w}{ }климат\\PY{+w}{ }«ермоловской\\PY{+w}{ }эпохи»,\\PY{+w}{ }помогают\\PY{+w}{ }пролить\\PY{+w}{ }свет\\PY{+w}{ }на\\PY{+w}{ }многие\\PY{+w}{ }сюжеты\\PY{+w}{ }истории.\\PY{+w}{ }Эпистолярное\\PY{+w}{ }наследие\\PY{+w}{ }Ермолова\\PY{+w}{ }является\\PY{+w}{ }объектом\\PY{+w}{ }многолетней\\PY{+w}{ }исследовательской\\PY{+w}{ }работы\\PY{+w}{ }Я.\\PY{+w}{ }А.\\PY{+w}{ }Гордина.\\PY{+w}{ }Яков\\PY{+w}{ }Аркадьевич\\PY{+w}{ }Гордин\\PY{+w}{ }известен\\PY{+w}{ }независимыми\\PY{+w}{ }историческими\\PY{+w}{ }исследованиями\\PY{+w}{ }и\\PY{+w}{ }специализируется\\PY{+w}{ }на\\PY{+w}{ }кризисных\\PY{+w}{ }ситуациях\\PY{+w}{ }русской\\PY{+w}{ }политической\\PY{+w}{ }истории\\PY{+w}{ }XVIII—XIX\\PY{+w}{ }веков;\\PY{+w}{ }автор\\PY{+w}{ }многих\\PY{+w}{ }статей\\PY{+w}{ }и\\PY{+w}{ }ряда\\PY{+w}{ }книг,\\PY{+w}{ }в\\PY{+w}{ }том\\PY{+w}{ }числе\\PY{+w}{ }«Ермолов»,\\PY{+w}{ }«Алексей\\PY{+w}{ }Ермолов.\\PY{+w}{ }Солдат\\PY{+w}{ }и\\PY{+w}{ }его\\PY{+w}{ }империя»,\\PY{+w}{ }\\PYZdq{}Гибель\\PY{+w}{ }Пушкина\\PYZdq{},\\PY{+w}{ }\\PYZdq{}Между\\PY{+w}{ }рабством\\PY{+w}{ }и\\PY{+w}{ }свободой\\PYZdq{},\\PY{+w}{ }\\PYZdq{}Дуэли\\PY{+w}{ }и\\PY{+w}{ }дуэлянты\\PYZdq{},\\PY{+w}{ }\\PYZdq{}Мятеж\\PY{+w}{ }реформаторов\\PYZdq{}.\\PY{+w}{ }Историческая\\PY{+w}{ }беллетристика\\PY{+w}{ }с\\PY{+w}{ }документальной\\PY{+w}{ }основой\\PY{+w}{ }и\\PY{+w}{ }эссеистика\\PY{+w}{ }на\\PY{+w}{ }исторические\\PY{+w}{ }темы\\PY{+w}{ }–\\PY{+w}{ }основные\\PY{+w}{ }жанры\\PY{+w}{ }творчества\\PY{+w}{ }Я.\\PY{+w}{ }А.\\PY{+w}{ }Гордина\\PY{+w}{ }с\\PY{+w}{ }середины\\PY{+w}{ }1970\\PYZhy{}х\\PY{+w}{ }гг.\\PY{+w}{ }Яков\\PY{+w}{ }Аркадьевич\\PY{+w}{ }Гордин\\PY{+w}{ }за\\PY{+w}{ }многие\\PY{+w}{ }годы\\PY{+w}{ }литературного\\PY{+w}{ }и\\PY{+w}{ }просветительского\\PY{+w}{ }труда\\PY{+w}{ }внёс\\PY{+w}{ }неоценимый\\PY{+w}{ }вклад\\PY{+w}{ }в\\PY{+w}{ }развитие\\PY{+w}{ }просветительской\\PY{+w}{ }мысли.\n[лермонтовка]\n\n\\PY{n+nt}{\\PYZlt{}b}\\PY{n+nt}{\\PYZgt{}}\\PY{n+nt}{\\PYZlt{}i}\\PY{n+nt}{\\PYZgt{}}05.03.15\\PY{+w}{ }четверг\\PY{+w}{ }19.30\\PY{+w}{ }Антикафе\\PY{+w}{ }\\PYZdq{}О\\PYZsq{}Лень\\PYZdq{}\\PY{+w}{ }(БЦ\\PY{+w}{ }«Остров»,\\PY{+w}{ }\\PY{n+nt}{\\PYZlt{}span}\\PY{+w}{ }\\PY{n+na}{class=}\\PY{l+s}{\\PYZdq{}js\\PYZhy{}extracted\\PYZhy{}address daria\\PYZhy{}action mail\\PYZhy{}message\\PYZhy{}map\\PYZhy{}link\\PYZdq{}}\\PY{+w}{ }\\PY{n+na}{data\\PYZhy{}action=}\\PY{l+s}{\\PYZdq{}map\\PYZhy{}up.showAddress\\PYZdq{}}\\PY{+w}{ }\\PY{n+na}{data\\PYZhy{}params=}\\PY{l+s}{\\PYZdq{}address=Средний пр В.О. 36/40\\PYZam{}amp;ids=2060000005087047874\\PYZdq{}}\\PY{n+nt}{\\PYZgt{}}Средний\\PY{+w}{ }пр\\PY{+w}{ }В.О.\\PY{+w}{ }\\PY{n+nt}{\\PYZlt{}span}\\PY{+w}{ }\\PY{n+na}{class=}\\PY{l+s}{\\PYZdq{}mail\\PYZhy{}message\\PYZhy{}map\\PYZhy{}nobreak\\PYZdq{}}\\PY{n+nt}{\\PYZgt{}}36/40\\PY{n+nt}{\\PYZlt{}/span\\PYZgt{}}\\PY{n+nt}{\\PYZlt{}/span\\PYZgt{}},\\PY{+w}{ }угол\\PY{+w}{ }Среднего\\PY{+w}{ }и\\PY{+w}{ }9й\\PY{+w}{ }линии,\\PY{+w}{ }3\\PY{+w}{ }этаж\\PY{+w}{ })\\PY{+w}{ }тариф\\PY{+w}{ }антикафе\\PY{+w}{ }2р./мин\\PY{n+nt}{\\PYZlt{}/i\\PYZgt{}}\\PY{n+nt}{\\PYZlt{}/b\\PYZgt{}}\nКосмическо\\PYZhy{}эзотерическо\\PYZhy{}п\\PY{n+nt}{\\PYZlt{}wbr}\\PY{+w}{ }\\PY{n+nt}{/\\PYZgt{}}оэтический\\PY{+w}{ }вечер\\PY{+w}{ }Мари\\PY{+w}{ }Stell\\PY{+w}{ }\\PYZdq{}Трансцендентность\\PYZdq{}.\\PY{+w}{ }Погружение\\PY{+w}{ }в\\PY{+w}{ }мир\\PY{+w}{ }таинственных\\PY{+w}{ }образов\\PY{+w}{ }и\\PY{+w}{ }чувственных\\PY{+w}{ }переживаний,\\PY{+w}{ }не\\PY{+w}{ }поддающихся\\PY{+w}{ }контролю\\PY{+w}{ }форм\n\\end{Verbatim}\n"
          },
          "metadata": {},
          "execution_count": 2
        }
      ],
      "source": [
        "post = \"post.html\"\n",
        "with open(post, \"r\") as f:\n",
        "  text = f.read()\n",
        "Code(text[:3000])"
      ]
    },
    {
      "cell_type": "markdown",
      "metadata": {
        "id": "MARnOjIgD1mM"
      },
      "source": [
        "## Data Processing Objectives\n",
        "\n",
        "The primary goal is to transform this rich yet unstructured dataset into a clean, structured format suitable for analysis. Key steps in this process include:\n",
        "\n",
        "- Parsing XML Data: Extracting relevant information from the XML structure.\n",
        "- Data Cleaning: Removing unnecessary HTML tags, handling missing values, and standardizing text.\n",
        "- Text Processing: Employing techniques like Regular Expressions and BeautifulSoup to parse and structure the content.\n",
        "- Named Entity Recognition: Using NLP models to identify key entities such as dates, names, and places.\n",
        "- Creating a Pandas DataFrame: Aggregating the cleaned data into a structured format for easy analysis and visualization."
      ]
    },
    {
      "cell_type": "code",
      "execution_count": 3,
      "metadata": {
        "colab": {
          "base_uri": "https://localhost:8080/"
        },
        "id": "LuuvcdbPAsn5",
        "outputId": "3a76d8e2-0efe-4643-bbd9-c7bebc7537ec"
      },
      "outputs": [
        {
          "output_type": "stream",
          "name": "stderr",
          "text": [
            "<ipython-input-3-112a424f8445>:31: MarkupResemblesLocatorWarning: The input looks more like a filename than markup. You may want to open this file and pass the filehandle into Beautiful Soup.\n",
            "  soup = BeautifulSoup(match, 'html.parser')\n"
          ]
        }
      ],
      "source": [
        "# Regular expression patterns\n",
        "date_pattern = re.compile(r'^\\d{2}\\.\\d{2}\\.\\d{2}', re.MULTILINE)\n",
        "date_full_pattern = re.compile(r'\\d{2}\\.\\d{2}\\.\\d{2} [а-яА-Я]+ \\d{2}\\.\\d{2}')\n",
        "record_pattern = re.compile(r'((?:<[^>]+>)*\\d{2}\\.\\d{2}\\.\\d{2}.*?)(?=\\n(?:<[^>]+>)*\\d{2}\\.\\d{2}\\.\\d{2}|\\Z)', re.DOTALL)\n",
        "info_source_pattern = re.compile(r'\\[(.*?)\\]')\n",
        "remove_places_pattern = re.compile(r'<b>МЕСТА</b>.*', re.DOTALL)\n",
        "\n",
        "# Path to your XML file\n",
        "xml_file = \"Export-2023-November-16-2231.xml\"\n",
        "\n",
        "# Parse the XML file\n",
        "tree = ET.parse(xml_file)\n",
        "root = tree.getroot()\n",
        "\n",
        "events = []\n",
        "count = 0\n",
        "\n",
        "# Iterate over the posts\n",
        "for post in root.findall('post'):\n",
        "    title = post.find(\"Title\").text\n",
        "    permalink = post.find(\"Permalink\").text\n",
        "    publication_date = post.find(\"Date\").text\n",
        "    content = post.find('Content').text.replace(\"<wbr />\", '').replace(\"</em></strong><strong><em>\", \"\")\n",
        "    content = remove_places_pattern.sub('', content)\n",
        "\n",
        "    # Find all matches of the record pattern in the content\n",
        "    matches = record_pattern.findall(content)\n",
        "\n",
        "    for match in matches:\n",
        "        # Process each match as a separate record\n",
        "        soup = BeautifulSoup(match, 'html.parser')\n",
        "        text = soup.get_text(strip=True)\n",
        "\n",
        "        # Check if the text starts with a date\n",
        "        if date_pattern.match(text):\n",
        "            info_source = \"\"\n",
        "\n",
        "            tag = soup.find_all(['b', 'strong'])\n",
        "            if tag:\n",
        "                event_data = tag[0].get_text(strip=True)\n",
        "                event_description = text.replace(event_data, \"\")\n",
        "            else:\n",
        "                try:\n",
        "                    event_data, event_description = text.split(\"\\n\", 1)\n",
        "                except:\n",
        "                    if date_full_pattern.match(text):\n",
        "                        print(text)\n",
        "                        count += 1\n",
        "\n",
        "            # Extract info source if present\n",
        "            info_source_match = info_source_pattern.search(text)\n",
        "            if info_source_match:\n",
        "                info_source = info_source_match.group(1)\n",
        "                event_description = info_source_pattern.sub('', event_description).strip()\n",
        "\n",
        "            events.append({\n",
        "                \"Event Data\": event_data.replace(\"\\n\", \"\"),\n",
        "                \"Event Description\": event_description.replace(\"\\n\", \"\"),\n",
        "                \"Info Source\": info_source,\n",
        "                \"Issue\": title,\n",
        "                \"Permalink\": permalink,\n",
        "                \"Publication Date\": publication_date,\n",
        "            })\n",
        "\n",
        "# Creating a DataFrame\n",
        "df_events = pd.DataFrame(events)\n",
        "\n",
        "df_events.to_csv(\"exported_from_2023_xml.csv\",\n",
        "                 sep='\\t',  # Tab as delimiter\n",
        "                 index=False,\n",
        "                 encoding='utf-8',\n",
        "                 quoting=csv.QUOTE_NONNUMERIC,\n",
        "                 escapechar='\\\\',\n",
        "                 )\n"
      ]
    },
    {
      "cell_type": "markdown",
      "metadata": {
        "id": "JoiL87eUFTxq"
      },
      "source": [
        "## Named Entity Recognition with DeepPavlov\n",
        "\n",
        "### Overview\n",
        "Named Entity Recognition (NER) is utilized in this project to identify and classify key information such as names, dates, and locations from the SPbLitGuide newsletter text.\n",
        "\n",
        "### Why DeepPavlov?\n",
        "DeepPavlov, an open-source NLP library, is chosen for its proficiency with the Russian language, essential for processing our dataset. It offers pre-trained models specifically designed for NER tasks, making it well-suited for extracting relevant entities from the newsletter content.\n",
        "\n",
        "### Implementation\n",
        "In this part of the notebook, we:\n",
        "- Load DeepPavlov's pre-trained NER model.\n",
        "- Apply the model to extract entities from the newsletter text.\n",
        "- The extracted entities (e.g., names, dates) are then structured for further analysis, contributing to a more comprehensive understanding of the literary events in St. Petersburg.\n",
        "\n",
        "This step is crucial for transforming the raw text data into a structured format, enabling more effective analysis and insight generation."
      ]
    },
    {
      "cell_type": "code",
      "execution_count": 4,
      "metadata": {
        "colab": {
          "base_uri": "https://localhost:8080/"
        },
        "id": "7_vBKgYYFYDM",
        "outputId": "c7de03de-4a5c-4564-8912-6b8d757ed11e"
      },
      "outputs": [
        {
          "output_type": "stream",
          "name": "stdout",
          "text": [
            "\u001b[2K     \u001b[90m━━━━━━━━━━━━━━━━━━━━━━━━━━━━━━━━━━━━━━━━\u001b[0m \u001b[32m489.2/489.2 kB\u001b[0m \u001b[31m7.4 MB/s\u001b[0m eta \u001b[36m0:00:00\u001b[0m\n",
            "\u001b[2K     \u001b[90m━━━━━━━━━━━━━━━━━━━━━━━━━━━━━━━━━━━━━━━━\u001b[0m \u001b[32m55.8/55.8 kB\u001b[0m \u001b[31m6.2 MB/s\u001b[0m eta \u001b[36m0:00:00\u001b[0m\n",
            "\u001b[2K     \u001b[90m━━━━━━━━━━━━━━━━━━━━━━━━━━━━━━━━━━━━━━━━\u001b[0m \u001b[32m222.4/222.4 kB\u001b[0m \u001b[31m21.1 MB/s\u001b[0m eta \u001b[36m0:00:00\u001b[0m\n",
            "\u001b[2K     \u001b[90m━━━━━━━━━━━━━━━━━━━━━━━━━━━━━━━━━━━━━━━━\u001b[0m \u001b[32m26.5/26.5 MB\u001b[0m \u001b[31m47.1 MB/s\u001b[0m eta \u001b[36m0:00:00\u001b[0m\n",
            "\u001b[2K     \u001b[90m━━━━━━━━━━━━━━━━━━━━━━━━━━━━━━━━━━━━━━━━\u001b[0m \u001b[32m78.5/78.5 kB\u001b[0m \u001b[31m7.5 MB/s\u001b[0m eta \u001b[36m0:00:00\u001b[0m\n",
            "\u001b[2K     \u001b[90m━━━━━━━━━━━━━━━━━━━━━━━━━━━━━━━━━━━━━━━━\u001b[0m \u001b[32m57.4/57.4 kB\u001b[0m \u001b[31m5.1 MB/s\u001b[0m eta \u001b[36m0:00:00\u001b[0m\n",
            "\u001b[2K     \u001b[90m━━━━━━━━━━━━━━━━━━━━━━━━━━━━━━━━━━━━━━━━\u001b[0m \u001b[32m34.4/34.4 MB\u001b[0m \u001b[31m15.9 MB/s\u001b[0m eta \u001b[36m0:00:00\u001b[0m\n",
            "\u001b[2K     \u001b[90m━━━━━━━━━━━━━━━━━━━━━━━━━━━━━━━━━━━━━━━━\u001b[0m \u001b[32m64.3/64.3 kB\u001b[0m \u001b[31m6.9 MB/s\u001b[0m eta \u001b[36m0:00:00\u001b[0m\n",
            "\u001b[2K     \u001b[90m━━━━━━━━━━━━━━━━━━━━━━━━━━━━━━━━━━━━━━━━\u001b[0m \u001b[32m58.3/58.3 kB\u001b[0m \u001b[31m6.9 MB/s\u001b[0m eta \u001b[36m0:00:00\u001b[0m\n",
            "\u001b[?25h\u001b[31mERROR: pip's dependency resolver does not currently take into account all the packages that are installed. This behaviour is the source of the following dependency conflicts.\n",
            "lida 0.0.10 requires kaleido, which is not installed.\n",
            "lida 0.0.10 requires python-multipart, which is not installed.\n",
            "bigframes 0.13.0 requires scikit-learn>=1.2.2, but you have scikit-learn 1.0.2 which is incompatible.\u001b[0m\u001b[31m\n",
            "\u001b[0mIgnoring transformers: markers 'python_version < \"3.8\"' don't match your environment\n",
            "Collecting transformers==4.30.0\n",
            "  Downloading transformers-4.30.0-py3-none-any.whl (7.2 MB)\n",
            "\u001b[2K     \u001b[90m━━━━━━━━━━━━━━━━━━━━━━━━━━━━━━━━━━━━━━━━\u001b[0m \u001b[32m7.2/7.2 MB\u001b[0m \u001b[31m47.0 MB/s\u001b[0m eta \u001b[36m0:00:00\u001b[0m\n",
            "\u001b[?25hRequirement already satisfied: filelock in /usr/local/lib/python3.10/dist-packages (from transformers==4.30.0) (3.9.1)\n",
            "Requirement already satisfied: huggingface-hub<1.0,>=0.14.1 in /usr/local/lib/python3.10/dist-packages (from transformers==4.30.0) (0.19.3)\n",
            "Requirement already satisfied: numpy>=1.17 in /usr/local/lib/python3.10/dist-packages (from transformers==4.30.0) (1.23.5)\n",
            "Requirement already satisfied: packaging>=20.0 in /usr/local/lib/python3.10/dist-packages (from transformers==4.30.0) (23.2)\n",
            "Requirement already satisfied: pyyaml>=5.1 in /usr/local/lib/python3.10/dist-packages (from transformers==4.30.0) (6.0.1)\n",
            "Requirement already satisfied: regex!=2019.12.17 in /usr/local/lib/python3.10/dist-packages (from transformers==4.30.0) (2023.6.3)\n",
            "Requirement already satisfied: requests in /usr/local/lib/python3.10/dist-packages (from transformers==4.30.0) (2.31.0)\n",
            "Collecting tokenizers!=0.11.3,<0.14,>=0.11.1 (from transformers==4.30.0)\n",
            "  Downloading tokenizers-0.13.3-cp310-cp310-manylinux_2_17_x86_64.manylinux2014_x86_64.whl (7.8 MB)\n",
            "\u001b[2K     \u001b[90m━━━━━━━━━━━━━━━━━━━━━━━━━━━━━━━━━━━━━━━━\u001b[0m \u001b[32m7.8/7.8 MB\u001b[0m \u001b[31m89.7 MB/s\u001b[0m eta \u001b[36m0:00:00\u001b[0m\n",
            "\u001b[?25hRequirement already satisfied: safetensors>=0.3.1 in /usr/local/lib/python3.10/dist-packages (from transformers==4.30.0) (0.4.0)\n",
            "Requirement already satisfied: tqdm>=4.27 in /usr/local/lib/python3.10/dist-packages (from transformers==4.30.0) (4.64.1)\n",
            "Requirement already satisfied: fsspec>=2023.5.0 in /usr/local/lib/python3.10/dist-packages (from huggingface-hub<1.0,>=0.14.1->transformers==4.30.0) (2023.6.0)\n",
            "Requirement already satisfied: typing-extensions>=3.7.4.3 in /usr/local/lib/python3.10/dist-packages (from huggingface-hub<1.0,>=0.14.1->transformers==4.30.0) (4.5.0)\n",
            "Requirement already satisfied: charset-normalizer<4,>=2 in /usr/local/lib/python3.10/dist-packages (from requests->transformers==4.30.0) (3.3.2)\n",
            "Requirement already satisfied: idna<4,>=2.5 in /usr/local/lib/python3.10/dist-packages (from requests->transformers==4.30.0) (3.4)\n",
            "Requirement already satisfied: urllib3<3,>=1.21.1 in /usr/local/lib/python3.10/dist-packages (from requests->transformers==4.30.0) (2.0.7)\n",
            "Requirement already satisfied: certifi>=2017.4.17 in /usr/local/lib/python3.10/dist-packages (from requests->transformers==4.30.0) (2023.7.22)\n",
            "Installing collected packages: tokenizers, transformers\n",
            "  Attempting uninstall: tokenizers\n",
            "    Found existing installation: tokenizers 0.15.0\n",
            "    Uninstalling tokenizers-0.15.0:\n",
            "      Successfully uninstalled tokenizers-0.15.0\n",
            "  Attempting uninstall: transformers\n",
            "    Found existing installation: transformers 4.35.2\n",
            "    Uninstalling transformers-4.35.2:\n",
            "      Successfully uninstalled transformers-4.35.2\n",
            "Successfully installed tokenizers-0.13.3 transformers-4.30.0\n",
            "Collecting torch<1.14.0,>=1.6.0\n",
            "  Downloading torch-1.13.1-cp310-cp310-manylinux1_x86_64.whl (887.5 MB)\n",
            "\u001b[2K     \u001b[90m━━━━━━━━━━━━━━━━━━━━━━━━━━━━━━━━━━━━━━━━\u001b[0m \u001b[32m887.5/887.5 MB\u001b[0m \u001b[31m1.4 MB/s\u001b[0m eta \u001b[36m0:00:00\u001b[0m\n",
            "\u001b[?25hRequirement already satisfied: typing-extensions in /usr/local/lib/python3.10/dist-packages (from torch<1.14.0,>=1.6.0) (4.5.0)\n",
            "Collecting nvidia-cuda-runtime-cu11==11.7.99 (from torch<1.14.0,>=1.6.0)\n",
            "  Downloading nvidia_cuda_runtime_cu11-11.7.99-py3-none-manylinux1_x86_64.whl (849 kB)\n",
            "\u001b[2K     \u001b[90m━━━━━━━━━━━━━━━━━━━━━━━━━━━━━━━━━━━━━━━━\u001b[0m \u001b[32m849.3/849.3 kB\u001b[0m \u001b[31m62.9 MB/s\u001b[0m eta \u001b[36m0:00:00\u001b[0m\n",
            "\u001b[?25hCollecting nvidia-cudnn-cu11==8.5.0.96 (from torch<1.14.0,>=1.6.0)\n",
            "  Downloading nvidia_cudnn_cu11-8.5.0.96-2-py3-none-manylinux1_x86_64.whl (557.1 MB)\n",
            "\u001b[2K     \u001b[90m━━━━━━━━━━━━━━━━━━━━━━━━━━━━━━━━━━━━━━━━\u001b[0m \u001b[32m557.1/557.1 MB\u001b[0m \u001b[31m1.9 MB/s\u001b[0m eta \u001b[36m0:00:00\u001b[0m\n",
            "\u001b[?25hCollecting nvidia-cublas-cu11==11.10.3.66 (from torch<1.14.0,>=1.6.0)\n",
            "  Downloading nvidia_cublas_cu11-11.10.3.66-py3-none-manylinux1_x86_64.whl (317.1 MB)\n",
            "\u001b[2K     \u001b[90m━━━━━━━━━━━━━━━━━━━━━━━━━━━━━━━━━━━━━━━━\u001b[0m \u001b[32m317.1/317.1 MB\u001b[0m \u001b[31m2.9 MB/s\u001b[0m eta \u001b[36m0:00:00\u001b[0m\n",
            "\u001b[?25hCollecting nvidia-cuda-nvrtc-cu11==11.7.99 (from torch<1.14.0,>=1.6.0)\n",
            "  Downloading nvidia_cuda_nvrtc_cu11-11.7.99-2-py3-none-manylinux1_x86_64.whl (21.0 MB)\n",
            "\u001b[2K     \u001b[90m━━━━━━━━━━━━━━━━━━━━━━━━━━━━━━━━━━━━━━━━\u001b[0m \u001b[32m21.0/21.0 MB\u001b[0m \u001b[31m51.2 MB/s\u001b[0m eta \u001b[36m0:00:00\u001b[0m\n",
            "\u001b[?25hRequirement already satisfied: setuptools in /usr/local/lib/python3.10/dist-packages (from nvidia-cublas-cu11==11.10.3.66->torch<1.14.0,>=1.6.0) (67.7.2)\n",
            "Requirement already satisfied: wheel in /usr/local/lib/python3.10/dist-packages (from nvidia-cublas-cu11==11.10.3.66->torch<1.14.0,>=1.6.0) (0.41.3)\n",
            "Installing collected packages: nvidia-cuda-runtime-cu11, nvidia-cuda-nvrtc-cu11, nvidia-cublas-cu11, nvidia-cudnn-cu11, torch\n",
            "  Attempting uninstall: torch\n",
            "    Found existing installation: torch 2.1.0+cu118\n",
            "    Uninstalling torch-2.1.0+cu118:\n",
            "      Successfully uninstalled torch-2.1.0+cu118\n",
            "\u001b[31mERROR: pip's dependency resolver does not currently take into account all the packages that are installed. This behaviour is the source of the following dependency conflicts.\n",
            "torchaudio 2.1.0+cu118 requires torch==2.1.0, but you have torch 1.13.1 which is incompatible.\n",
            "torchdata 0.7.0 requires torch==2.1.0, but you have torch 1.13.1 which is incompatible.\n",
            "torchtext 0.16.0 requires torch==2.1.0, but you have torch 1.13.1 which is incompatible.\n",
            "torchvision 0.16.0+cu118 requires torch==2.1.0, but you have torch 1.13.1 which is incompatible.\u001b[0m\u001b[31m\n",
            "\u001b[0mSuccessfully installed nvidia-cublas-cu11-11.10.3.66 nvidia-cuda-nvrtc-cu11-11.7.99 nvidia-cuda-runtime-cu11-11.7.99 nvidia-cudnn-cu11-8.5.0.96 torch-1.13.1\n",
            "Collecting pytorch-crf==0.7.*\n",
            "  Downloading pytorch_crf-0.7.2-py3-none-any.whl (9.5 kB)\n",
            "Installing collected packages: pytorch-crf\n",
            "Successfully installed pytorch-crf-0.7.2\n"
          ]
        }
      ],
      "source": [
        "!pip install -q deeppavlov\n",
        "!python -m deeppavlov install ner_ontonotes_bert"
      ]
    },
    {
      "cell_type": "code",
      "execution_count": 5,
      "metadata": {
        "colab": {
          "base_uri": "https://localhost:8080/",
          "height": 405,
          "referenced_widgets": [
            "417ceefd71514a8baf61cff085a67ad9",
            "1c162a9502f54f7d92f6da7b7c79418d",
            "a2a1339d32c44a7c9d88ab23d58c0883",
            "f46c506e6a74477998eb6659ad067446",
            "8e9e045b6c5844e4a77c4aa40be55c52",
            "d3f935a05b004b67b34c4f07be83bf74",
            "f2ea75cb78c446e0ab53b04f8cb65ad4",
            "b44c19b3802447d183b3307b024dc6d4",
            "df1f2dcfb89242a2b93ad68a2fd6f128",
            "abbe6b00d6774953a1569af3527257eb",
            "0caf99588bc94a14935c22a89ec5376a",
            "9bb49114e9c9484e949b908198e0b96e",
            "f0c7e6a4eae84838ad193a2b23e2431f",
            "9061d6249a354ed48ec0a35fd9f0a704",
            "69ae3e85797246b6bdbb5e088bfc1215",
            "37cc3454395540448380a8675f3e4329",
            "4ad5879563d345fcbb06996aa5fe84d6",
            "45762a0de3eb463a9b1e1f155798bcb9",
            "95938ffaa8df41218f6d68c12847c09a",
            "d31fd94250d24394b17b712d5dcb5a15",
            "91e87d8667ab47a5bb79bfd1562c24ab",
            "a80d29edae6c43efbd8c86bed4393110",
            "43656adc4b594ee394b07f3793304b7e",
            "c78e0d8babac4628bc2dd6e2e165c48b",
            "5cefc97387a34d878e7a9bfc61282b1f",
            "b92d305326484d738268fe4bb67e011e",
            "868c50e48a084b49ba8defc1a14be7db",
            "e6699dee65174e8bad84e4317498afc7",
            "e8afc1a561ac47659b8d737e6957a6a9",
            "ebdcca4538ec49b68ad81eefd0e6e12e",
            "f01aac77ff644512bd2567f93aa6114d",
            "7279a24ce8264a74824fa849674d7681",
            "558c968fa16447b9ad80eb66de15493d",
            "c8d8321cdd3d48799d82b171f4b50c3f",
            "35598ad2121e4334b87e58de5ebea955",
            "5c662e657dd9469da164c9ce7f1b1d7b",
            "bb025b355566408cbe44929621a1e24c",
            "71e0de89295d45dba256fe5c327fe95f",
            "f442bab4ad7c490dacf34882e16d68ec",
            "19e95f91ad794f1ca94fe9e146750570",
            "f4f508f8fa194106a9cef8def18c6c38",
            "5ca83505491e43a2a4fd0bf098d1d306",
            "6476df7d6e36432ebf19b3d45caccef6",
            "98fee911cb9246269e98c7a72b70ebf6",
            "2d3380f6b5be4ec4a20f04cba499e913",
            "ae34348a9d984a8db340e7f40ffeb186",
            "1916d951129d46f286d36a372a4b32e2",
            "adbeddc7ef49489eb81a6cb421a55364",
            "dbfecd70afe341ed8cb45957a3feb80d",
            "f1c5c06c60d34796b1bb131f1585bc14",
            "1eedda9798a541788120ac83e95da887",
            "90041643d21d4f338320886c7dee9a60",
            "acfd4b6af5854e8192203acad87022e7",
            "4f9080eb13b344258829a5d5886c8c98",
            "eb36f957f16d432c9934ae63b8a2d1d2"
          ]
        },
        "id": "E_87moSvF8v3",
        "outputId": "caa8b2d2-8f21-47a0-8ae0-18a83f8bd910"
      },
      "outputs": [
        {
          "output_type": "stream",
          "name": "stderr",
          "text": [
            "2023-11-19 18:46:13.525 INFO in 'deeppavlov.core.data.utils'['utils'] at line 95: Downloading from http://files.deeppavlov.ai/v1/ner/ner_ontonotes_bert_torch_crf.tar.gz to /root/.deeppavlov/models/ner_ontonotes_bert_torch_crf.tar.gz\n",
            "INFO:deeppavlov.core.data.utils:Downloading from http://files.deeppavlov.ai/v1/ner/ner_ontonotes_bert_torch_crf.tar.gz to /root/.deeppavlov/models/ner_ontonotes_bert_torch_crf.tar.gz\n",
            "100%|██████████| 1.13G/1.13G [00:39<00:00, 28.4MB/s]\n",
            "2023-11-19 18:46:54.450 INFO in 'deeppavlov.core.data.utils'['utils'] at line 276: Extracting /root/.deeppavlov/models/ner_ontonotes_bert_torch_crf.tar.gz archive into /root/.deeppavlov/models/ner_ontonotes_bert_torch_crf\n",
            "INFO:deeppavlov.core.data.utils:Extracting /root/.deeppavlov/models/ner_ontonotes_bert_torch_crf.tar.gz archive into /root/.deeppavlov/models/ner_ontonotes_bert_torch_crf\n"
          ]
        },
        {
          "output_type": "display_data",
          "data": {
            "text/plain": [
              "tokenizer_config.json:   0%|          | 0.00/29.0 [00:00<?, ?B/s]"
            ],
            "application/vnd.jupyter.widget-view+json": {
              "version_major": 2,
              "version_minor": 0,
              "model_id": "417ceefd71514a8baf61cff085a67ad9"
            }
          },
          "metadata": {}
        },
        {
          "output_type": "display_data",
          "data": {
            "text/plain": [
              "config.json:   0%|          | 0.00/570 [00:00<?, ?B/s]"
            ],
            "application/vnd.jupyter.widget-view+json": {
              "version_major": 2,
              "version_minor": 0,
              "model_id": "9bb49114e9c9484e949b908198e0b96e"
            }
          },
          "metadata": {}
        },
        {
          "output_type": "display_data",
          "data": {
            "text/plain": [
              "vocab.txt:   0%|          | 0.00/213k [00:00<?, ?B/s]"
            ],
            "application/vnd.jupyter.widget-view+json": {
              "version_major": 2,
              "version_minor": 0,
              "model_id": "43656adc4b594ee394b07f3793304b7e"
            }
          },
          "metadata": {}
        },
        {
          "output_type": "display_data",
          "data": {
            "text/plain": [
              "tokenizer.json:   0%|          | 0.00/436k [00:00<?, ?B/s]"
            ],
            "application/vnd.jupyter.widget-view+json": {
              "version_major": 2,
              "version_minor": 0,
              "model_id": "c8d8321cdd3d48799d82b171f4b50c3f"
            }
          },
          "metadata": {}
        },
        {
          "output_type": "display_data",
          "data": {
            "text/plain": [
              "model.safetensors:   0%|          | 0.00/436M [00:00<?, ?B/s]"
            ],
            "application/vnd.jupyter.widget-view+json": {
              "version_major": 2,
              "version_minor": 0,
              "model_id": "2d3380f6b5be4ec4a20f04cba499e913"
            }
          },
          "metadata": {}
        },
        {
          "output_type": "stream",
          "name": "stderr",
          "text": [
            "Some weights of the model checkpoint at bert-base-cased were not used when initializing BertForTokenClassification: ['cls.seq_relationship.weight', 'cls.predictions.transform.LayerNorm.weight', 'cls.seq_relationship.bias', 'cls.predictions.transform.LayerNorm.bias', 'cls.predictions.bias', 'cls.predictions.transform.dense.bias', 'cls.predictions.transform.dense.weight']\n",
            "- This IS expected if you are initializing BertForTokenClassification from the checkpoint of a model trained on another task or with another architecture (e.g. initializing a BertForSequenceClassification model from a BertForPreTraining model).\n",
            "- This IS NOT expected if you are initializing BertForTokenClassification from the checkpoint of a model that you expect to be exactly identical (initializing a BertForSequenceClassification model from a BertForSequenceClassification model).\n",
            "Some weights of BertForTokenClassification were not initialized from the model checkpoint at bert-base-cased and are newly initialized: ['classifier.bias', 'classifier.weight']\n",
            "You should probably TRAIN this model on a down-stream task to be able to use it for predictions and inference.\n",
            "2023-11-19 18:47:27.5 WARNING in 'deeppavlov.core.models.torch_model'['torch_model'] at line 96: Unable to place component TorchTransformersSequenceTagger on GPU, since no CUDA GPUs are available. Using CPU.\n",
            "WARNING:deeppavlov.core.models.torch_model:Unable to place component TorchTransformersSequenceTagger on GPU, since no CUDA GPUs are available. Using CPU.\n"
          ]
        }
      ],
      "source": [
        "from deeppavlov import build_model\n",
        "\n",
        "ner_model = build_model('ner_ontonotes_bert', download=True, install=True)"
      ]
    },
    {
      "cell_type": "code",
      "execution_count": 6,
      "metadata": {
        "colab": {
          "base_uri": "https://localhost:8080/"
        },
        "id": "L1Z6XcXNGw-B",
        "outputId": "f94493e8-0bd5-4866-e276-02f94665ca16"
      },
      "outputs": [
        {
          "output_type": "stream",
          "name": "stdout",
          "text": [
            "Collecting ipymarkup\n",
            "  Downloading ipymarkup-0.9.0-py3-none-any.whl (14 kB)\n",
            "Collecting intervaltree>=3 (from ipymarkup)\n",
            "  Downloading intervaltree-3.1.0.tar.gz (32 kB)\n",
            "  Preparing metadata (setup.py) ... \u001b[?25l\u001b[?25hdone\n",
            "Requirement already satisfied: sortedcontainers<3.0,>=2.0 in /usr/local/lib/python3.10/dist-packages (from intervaltree>=3->ipymarkup) (2.4.0)\n",
            "Building wheels for collected packages: intervaltree\n",
            "  Building wheel for intervaltree (setup.py) ... \u001b[?25l\u001b[?25hdone\n",
            "  Created wheel for intervaltree: filename=intervaltree-3.1.0-py2.py3-none-any.whl size=26097 sha256=70c5afc74479152a9deb08a8e5454f86e382c7546e9e5d905ea1cd0989ce69ee\n",
            "  Stored in directory: /root/.cache/pip/wheels/fa/80/8c/43488a924a046b733b64de3fac99252674c892a4c3801c0a61\n",
            "Successfully built intervaltree\n",
            "Installing collected packages: intervaltree, ipymarkup\n",
            "Successfully installed intervaltree-3.1.0 ipymarkup-0.9.0\n"
          ]
        }
      ],
      "source": [
        "!pip install ipymarkup\n",
        "from ipymarkup import show_box_markup\n",
        "from ipymarkup.palette import palette, BLUE, RED, GREEN\n",
        "df_events = pd.read_csv(\"exported_from_2023_xml.csv\",sep='\\t')"
      ]
    },
    {
      "cell_type": "code",
      "execution_count": 7,
      "metadata": {
        "id": "J2O_KG-0Hg-t",
        "colab": {
          "base_uri": "https://localhost:8080/"
        },
        "outputId": "f5bb3a41-710f-41ff-8d74-d8fae085fb7b"
      },
      "outputs": [
        {
          "output_type": "stream",
          "name": "stdout",
          "text": [
            "Большой поэтический вечер в самом начале весны! Дмитрий Артис, Борис Кутенков (Москва),Дмитрий Шабанов, Рахман Кусимов, Серафима Сапрыкина, Ася Анистратенко.\n"
          ]
        },
        {
          "output_type": "stream",
          "name": "stderr",
          "text": [
            "/usr/local/lib/python3.10/dist-packages/torchcrf/__init__.py:305: UserWarning: where received a uint8 condition tensor. This behavior is deprecated and will be removed in a future version of PyTorch. Use a boolean condition instead. (Triggered internally at ../aten/src/ATen/native/TensorCompare.cpp:413.)\n",
            "  score = torch.where(mask[i].unsqueeze(1), next_score, score)\n"
          ]
        },
        {
          "output_type": "stream",
          "name": "stdout",
          "text": [
            "[[['Большой', 'поэтический', 'вечер', 'в', 'самом', 'начале', 'весны', '!', 'Дмитрий', 'Артис', ',', 'Борис', 'Кутенков', '(', 'Москва', ')', ',', 'Дмитрий', 'Шабанов', ',', 'Рахман', 'Кусимов', ',', 'Серафима', 'Сапрыкина', ',', 'Ася', 'Анистратенко', '.']], [['O', 'O', 'O', 'O', 'O', 'O', 'O', 'O', 'B-PERSON', 'I-PERSON', 'O', 'B-PERSON', 'I-PERSON', 'O', 'B-GPE', 'O', 'O', 'B-PERSON', 'I-PERSON', 'O', 'B-PERSON', 'I-PERSON', 'O', 'B-PERSON', 'I-PERSON', 'O', 'B-PERSON', 'I-PERSON', 'O']]]\n",
            "\"Наполеоновские войны и Кавказ - взглядом Ермолова\". Читает историк, публицист, главный редактор журнала «Звезда» - Яков Аркадьевич Гордин. Герой Наполеоновских войн, проконсул Кавказа, генерал от инфантерии и артиллерии Алексей Петрович Ермолов оставил обширную переписку. Письма Ермолова — неисчерпаемый источник сведений о его взглядах и планах, которые были осуществлены или остались лишь намерениями, они дают возможность приблизиться к пониманию масштабности фигуры их автора и проникнуть в психологический климат «ермоловской эпохи», помогают пролить свет на многие сюжеты истории. Эпистолярное наследие Ермолова является объектом многолетней исследовательской работы Я. А. Гордина. Яков Аркадьевич Гордин известен независимыми историческими исследованиями и специализируется на кризисных ситуациях русской политической истории XVIII—XIX веков; автор многих статей и ряда книг, в том числе «Ермолов», «Алексей Ермолов. Солдат и его империя», \"Гибель Пушкина\", \"Между рабством и свободой\", \"Дуэли и дуэлянты\", \"Мятеж реформаторов\". Историческая беллетристика с документальной основой и эссеистика на исторические темы – основные жанры творчества Я. А. Гордина с середины 1970-х гг. Яков Аркадьевич Гордин за многие годы литературного и просветительского труда внёс неоценимый вклад в развитие просветительской мысли.\n",
            "Космическо-эзотерическо-поэтический вечер Мари Stell \"Трансцендентность\". Погружение в мир таинственных образов и чувственных переживаний, не поддающихся контролю формы. Поток сознания автора, захватывающий и уносящий в глубины внутреннего космоса.\n",
            "[[['Космическо', '-', 'эзотерическо', '-', 'поэтический', 'вечер', 'Мари', 'Stell', '\"', 'Трансцендентность', '\"', '.', 'Погружение', 'в', 'мир', 'таинственных', 'образов', 'и', 'чувственных', 'переживаний', ',', 'не', 'поддающихся', 'контролю', 'формы.', 'Поток', 'сознания', 'автора', ',', 'захватывающий', 'и', 'уносящий', 'в', 'глубины', 'внутреннего', 'космоса', '.']], [['O', 'O', 'O', 'O', 'O', 'O', 'O', 'O', 'O', 'O', 'O', 'O', 'O', 'O', 'O', 'O', 'O', 'O', 'O', 'O', 'O', 'O', 'O', 'O', 'O', 'O', 'O', 'O', 'O', 'O', 'O', 'O', 'O', 'O', 'O', 'O', 'O']]]\n",
            "«Литературный Петербург Тараса Шевченко». Тарас Григорьевич Шевченко, национальный украинский поэт, художник, прозаик и этнограф. В рамках Года литературы, приглашаем на встречу с писателями Станиславом Венгловским, Олегом Варенником и др. В программе вечера: Презентация книг: «Тарас Шевченко в Санкт-Петербурге», «Служили России» Станислава Венгловского; «Последняя любовь Т. Шевченко» Олега Вареника; Выступление чтецов Владимира Дорошенко, Светланы Ахмедовой, Елены Захарченко и др. Выступление фольклорного ансамбля «Славянка» худ. рук. Е. Захарченко; Выступления профессоров В. Ю. Тегзы, Т. М. Смирновой, поэта-песенника Н. В. Жигло, представителя «Украинцы Москвы» Н. Н. Лындюка; Выставка графики Е. Планиной по произведениям Т. Г. Шевченко.\n",
            "\"Грибоедов и Лермонтов\". В рамках проекта «М. Ю. Лермонтов: наследие» состоится литературный вечер с прозаиком, драматургом, эссеистом Б. А. Голлером «Грибоедов и Лермонтов» и приурочен к 220-летию со дня рождения А. С. Грибоедов. Литературное наследие Грибоедова по объему не столь обширно, однако это не уменьшает заслуг писателя. Комедия «Горе от ума» является важнейшим произведением в российской драматургии. Вряд ли можно найти театр в России, в репертуаре которого не значится «Горе от ума» А. С. Грибоедова. Лермонтова с Грибоедовым связывает многое. Его произведение «Горе от ума» было драматургической школой «Маскарада» Лермонтова. Ещё более важно то, что их связывала общая дружба с Александром Одоевским, который стал связующим звеном между двумя художниками слова. В заключение вечера музыкальным подарком для всех пришедших будет концерт в исполнении молодых петербургских музыкантов.\n",
            "6 марта накануне Женского дня, или Праздника Весны и Любви, в арт-салоне Невский,24 выступит поэт и музыкант Елена Афонина со своей сольной песенно-стиховой программой, куда войдут композиции из ее нового альбома «Хайдеггер» (релиз – май 2015) и стихи из альбома The Sun и Long Love. Лена выступит вместе с музыкантами Пашей Тулановым (гитара) и Катей Филиппович (скрипка). Вы услышите разные по стилю и настроению композиции - от электронных импровизаций и брит-попа до французского шансона и ритмов буги-вуги 60-х. Концерты Лены – это всегда уютная лирическая атмосфера и возможность получить прекрасные светлые эмоции.\n",
            "[[['6', 'марта', 'накануне', 'Женского', 'дня', ',', 'или', 'Праздника', 'Весны', 'и', 'Любви', ',', 'в', 'арт', '-', 'салоне', 'Невский', ',', '24', 'выступит', 'поэт', 'и', 'музыкант', 'Елена', 'Афонина', 'со', 'своей', 'сольной', 'песенно', '-', 'стиховой', 'программой', ',', 'куда', 'войдут', 'композиции', 'из', 'ее', 'нового', 'альбома', '«', 'Хайдеггер', '»', '(', 'релиз', '–', 'май', '2015', ')', 'и', 'стихи', 'из', 'альбома', 'The', 'Sun', 'и', 'Long', 'Love.', 'Лена', 'выступит', 'вместе', 'с', 'музыкантами', 'Пашей', 'Тулановым', '(', 'гитара', ')', 'и', 'Катей', 'Филиппович', '(', 'скрипка', ')', '.', 'Вы', 'услышите', 'разные', 'по', 'стилю', 'и', 'настроению', 'композиции', '-', 'от', 'электронных', 'импровизаций', 'и', 'брит', '-', 'попа', 'до', 'французского', 'шансона', 'и', 'ритмов', 'буги', '-', 'вуги', '60', '-', 'х.', 'Концерты', 'Лены', '–', 'это', 'всегда', 'уютная', 'лирическая', 'атмосфера', 'и', 'возможность', 'получить', 'прекрасные', 'светлые', 'эмоции', '.']], [['B-CARDINAL', 'O', 'O', 'O', 'O', 'O', 'O', 'O', 'O', 'O', 'O', 'O', 'O', 'O', 'O', 'O', 'O', 'O', 'B-CARDINAL', 'O', 'O', 'O', 'O', 'O', 'O', 'O', 'O', 'O', 'O', 'O', 'O', 'O', 'O', 'O', 'O', 'O', 'O', 'O', 'O', 'O', 'O', 'O', 'O', 'O', 'O', 'O', 'O', 'O', 'O', 'O', 'O', 'O', 'O', 'B-WORK_OF_ART', 'I-WORK_OF_ART', 'I-WORK_OF_ART', 'I-WORK_OF_ART', 'I-WORK_OF_ART', 'O', 'O', 'O', 'O', 'O', 'O', 'O', 'O', 'O', 'O', 'O', 'O', 'O', 'O', 'O', 'O', 'O', 'O', 'O', 'O', 'O', 'O', 'O', 'O', 'O', 'O', 'O', 'O', 'O', 'O', 'O', 'O', 'O', 'O', 'O', 'O', 'O', 'O', 'O', 'O', 'O', 'O', 'O', 'O', 'O', 'O', 'O', 'O', 'O', 'O', 'O', 'O', 'O', 'O', 'O', 'O', 'O', 'O', 'O']]]\n",
            "Концент Гриши Полухутенко.\n",
            "[[['Концент', 'Гриши', 'Полухутенко', '.']], [['B-PERSON', 'I-PERSON', 'O', 'O']]]\n",
            "Никита Елисеев родился в семье ленинградских, петербургских артистов, заслуженного артиста России Льва Елисеева и Маргариты Батаевой. В 1981 году окончил исторический факультет Ленинградского педагогического института им. А. И. Герцена. С 1983 года работает библиографом в Российской национальной библиотеке в Санкт-Петербурге. Как литературный критик и публицист печатается с 1991 года в журналах «Знамя», «Новый мир», «Звезда», «Вопросы литературы», «Новая русская книга», «Критическая масса», «Новое литературное обозрение», «Октябрь», «Нева», «Вестник Европы», «Арион», «Питерbook», «Эксперт Северо-Запад», «Век XX и мир», «Сеанс», в газете «Первое сентября», в сетевом издании «Русский журнал». В 2002 году вышел сборник эссе и критических статей «Предостережение пишущим». Член редколлегии издательства «Сеанс». Академик Академии русской современной словесности. Лауреат премии журнала «Новый мир» за 1998 год.\n",
            "Михаил ЕЛИЗАРОВ в FISH FABRIQUE NOUVELLE. Свой жанр писатель Елизаров называет «бард-панк-шансоном». «Что это такое, я и сам толком не понимаю. Во главе — текст, и его сопровождает простой, легко запоминающийся мотив. И всем вместе должно быть весело. Тут речь ни в коем случае не идет о юморе. Я пытаюсь вытащить потустороннюю изнанку веселья». \"Нос\", \"Русский Букер\", \"Национальный Бестселлер\", литературная премия Андрея Белого... Книги Елизарова получают самые престижные награды, их переводят на другие языки. Михаил Елизаров не только один из самых талантливых современных авторов, но и прекрасный музыкант. Саркастичные тексты, лиричные или разудалые мелодии, оперный баритон. «Честно говоря, на концерте Михаила Елизарова я была в первый раз, но понравилось мне на концерте прямо сразу. Как только входишь в тесный зал Фишки, и видишь все эти простые, светлые лица, то на душе сразу становится тепло. Казалось, что мы и не в клубе вовсе, а где-нибудь на скромной квартире одно из друзей Михаила.При этом все громко подпевают, не боясь соседей, пьют вино и постоянно гогочут. Впрочем, не смеяться на концерте достаточно трудно, все его песни полны жизненной иронией, при этом стиль исполнения песен бардовский, местами очень романтичный. Именно сочетание манеры исполнения и смысла текстов веселит всех окружающих. Содержание текстов песен просты – они о жизни человека, которому все надоело, ему не нравится его жизнь, а изменить что-то не хватает сил. Короче говоря, про большую часть населения нашей страны»\n",
            "Каждая женщина имеет свою историю, а истории самых знаменитых женщин иногда сохраняются на протяжении веков и обрастают легендами. Одни женщины оставили неизгладимый след в истории человечества, другие же до сих пор остаются эталоном красоты. Вечером 8 марта очень разные, но от того еще более прекрасные девушки соберутся, чтобы поделиться своими историями - поэтическими и музыкальными. Каждая участница выберет образ, подходящий к её творчеству/стилю/настроению/неожиданному порыву. Клеопатра или Шахерезада, Мерилин или Одри, Жанна Д'Арк или Королева Марго? - кто из них выйдет на сцену в этот вечер? Пока это останется тайной. Мы не любители половой дискриминации, поэтому желающие мужчины, конечно же, тоже могут поучаствовать и поздравить собравшихся девушек своим выступлением.\n"
          ]
        }
      ],
      "source": [
        "for id, event in df_events[:10].iterrows():\n",
        "  print(event[\"Event Description\"])\n",
        "  try:\n",
        "    print(ner_model([event[\"Event Description\"]]))\n",
        "  except RuntimeError:\n",
        "    continue"
      ]
    },
    {
      "cell_type": "code",
      "source": [
        "def create_spans(text, tokens, labels):\n",
        "    \"\"\"\n",
        "    Create spans of named entities from tokenized text and NER labels.\n",
        "\n",
        "    Args:\n",
        "        text (str): Original text.\n",
        "        tokens (List[str]): List of tokens.\n",
        "        labels (List[str]): Corresponding list of NER labels.\n",
        "\n",
        "    Returns:\n",
        "        List[Tuple[int, int, str]]: List of tuples (start, end, entity_type).\n",
        "    \"\"\"\n",
        "    spans = []\n",
        "    current_entity = None\n",
        "    start, end = None, None\n",
        "\n",
        "    # Calculate the start position of each token\n",
        "    positions = []\n",
        "    current_pos = 0\n",
        "    for token in tokens:\n",
        "        current_pos = text.find(token, current_pos)\n",
        "        positions.append(current_pos)\n",
        "        current_pos += len(token)\n",
        "\n",
        "    for i, (token, label) in enumerate(zip(tokens, labels)):\n",
        "        if label.startswith('B-'):\n",
        "            # Save previous entity if it exists\n",
        "            if current_entity is not None:\n",
        "                spans.append((start, positions[i], current_entity))\n",
        "\n",
        "            current_entity = label.split('-')[1]  # Get entity type\n",
        "            start = positions[i]\n",
        "\n",
        "        elif label.startswith('I-') and current_entity is not None:\n",
        "            # Continue the current entity\n",
        "            continue\n",
        "        else:\n",
        "            # End of the current entity\n",
        "            if current_entity is not None:\n",
        "                end = positions[i] if i < len(positions) else len(text)\n",
        "                spans.append((start, end, current_entity))\n",
        "                current_entity = None\n",
        "\n",
        "    return spans\n",
        "\n"
      ],
      "metadata": {
        "colab": {
          "base_uri": "https://localhost:8080/"
        },
        "id": "WQuBoY6uWSfz",
        "outputId": "63419d30-d36b-46e1-ee5e-0dca147ea449"
      },
      "execution_count": 8,
      "outputs": [
        {
          "output_type": "stream",
          "name": "stdout",
          "text": [
            "[(48, 61, 'PERSON'), (63, 78, 'PERSON'), (79, 85, 'GPE'), (87, 102, 'PERSON'), (104, 118, 'PERSON'), (120, 138, 'PERSON'), (140, 156, 'PERSON')]\n"
          ]
        }
      ]
    },
    {
      "cell_type": "code",
      "source": [
        "# Example usage\n",
        "text = \"Большой поэтический вечер в самом начале весны! Дмитрий Артис, Борис Кутенков (Москва),Дмитрий Шабанов, Рахман Кусимов, Серафима Сапрыкина, Ася Анистратенко.\"\n",
        "tokens = ['Большой', 'поэтический', 'вечер', 'в', 'самом', 'начале', 'весны', '!', 'Дмитрий', 'Артис', ',', 'Борис', 'Кутенков', '(', 'Москва', ')', ',', 'Дмитрий', 'Шабанов', ',', 'Рахман', 'Кусимов', ',', 'Серафима', 'Сапрыкина', ',', 'Ася', 'Анистратенко', '.']\n",
        "labels = ['O', 'O', 'O', 'O', 'O', 'O', 'O', 'O', 'B-PERSON', 'I-PERSON', 'O', 'B-PERSON', 'I-PERSON', 'O', 'B-GPE', 'O', 'O', 'B-PERSON', 'I-PERSON', 'O', 'B-PERSON', 'I-PERSON', 'O', 'B-PERSON', 'I-PERSON', 'O', 'B-PERSON', 'I-PERSON', 'O']\n",
        "\n",
        "spans = create_spans(text, tokens, labels)\n",
        "print(spans)"
      ],
      "metadata": {
        "colab": {
          "base_uri": "https://localhost:8080/"
        },
        "id": "d8ZPs1tZ6o2C",
        "outputId": "e1c95d8c-99d8-4c49-ba57-c218a673fb14"
      },
      "execution_count": 12,
      "outputs": [
        {
          "output_type": "stream",
          "name": "stdout",
          "text": [
            "[(48, 61, 'PERSON'), (63, 78, 'PERSON'), (79, 85, 'GPE'), (87, 102, 'PERSON'), (104, 118, 'PERSON'), (120, 138, 'PERSON'), (140, 156, 'PERSON')]\n"
          ]
        }
      ]
    },
    {
      "cell_type": "code",
      "source": [
        "show_box_markup(text, spans, palette=palette(BLUE))\n",
        ""
      ],
      "metadata": {
        "colab": {
          "base_uri": "https://localhost:8080/",
          "height": 52
        },
        "id": "wYqkqy4DZhSE",
        "outputId": "90521a25-7203-45f7-aa00-171febcbf6aa"
      },
      "execution_count": 9,
      "outputs": [
        {
          "output_type": "display_data",
          "data": {
            "text/plain": [
              "<IPython.core.display.HTML object>"
            ],
            "text/html": [
              "<div class=\"tex2jax_ignore\" style=\"white-space: pre-wrap\">Большой поэтический вечер в самом начале весны! <span style=\"padding: 2px; border-radius: 4px; border: 1px solid #bbdefb; background: #e3f2fd\">Дмитрий Артис<span style=\"vertical-align: middle; margin-left: 2px; font-size: 0.7em; color: #64b5f6;\">PERSON</span></span>, <span style=\"padding: 2px; border-radius: 4px; border: 1px solid #bbdefb; background: #e3f2fd\">Борис Кутенков <span style=\"vertical-align: middle; margin-left: 2px; font-size: 0.7em; color: #64b5f6;\">PERSON</span></span>(<span style=\"padding: 2px; border-radius: 4px; border: 1px solid #bbdefb; background: #e3f2fd\">Москва<span style=\"vertical-align: middle; margin-left: 2px; font-size: 0.7em; color: #64b5f6;\">GPE</span></span>),<span style=\"padding: 2px; border-radius: 4px; border: 1px solid #bbdefb; background: #e3f2fd\">Дмитрий Шабанов<span style=\"vertical-align: middle; margin-left: 2px; font-size: 0.7em; color: #64b5f6;\">PERSON</span></span>, <span style=\"padding: 2px; border-radius: 4px; border: 1px solid #bbdefb; background: #e3f2fd\">Рахман Кусимов<span style=\"vertical-align: middle; margin-left: 2px; font-size: 0.7em; color: #64b5f6;\">PERSON</span></span>, <span style=\"padding: 2px; border-radius: 4px; border: 1px solid #bbdefb; background: #e3f2fd\">Серафима Сапрыкина<span style=\"vertical-align: middle; margin-left: 2px; font-size: 0.7em; color: #64b5f6;\">PERSON</span></span>, <span style=\"padding: 2px; border-radius: 4px; border: 1px solid #bbdefb; background: #e3f2fd\">Ася Анистратенко<span style=\"vertical-align: middle; margin-left: 2px; font-size: 0.7em; color: #64b5f6;\">PERSON</span></span>.</div>"
            ]
          },
          "metadata": {}
        }
      ]
    },
    {
      "cell_type": "code",
      "source": [
        "text = 'публичная лекция цикла «Петербургский текст в пространстве современной литературы: Евгений Водолозкин, лауреат премии “Большая книга” (2013)». Читает кандидат филологических наук, доцент Санкт-Петербургского Гуманитарного университета профсоюзов Мария Дмитриевна АНДРИАНОВА.'\n",
        "ner = ner_model([text])\n",
        "tokens = ner[0][0]\n",
        "ner_labels = ner[1][0]\n",
        "ner_spans = create_spans(text, tokens, ner_labels)\n",
        "show_box_markup(text, ner_spans, palette=palette(BLUE))"
      ],
      "metadata": {
        "colab": {
          "base_uri": "https://localhost:8080/",
          "height": 52
        },
        "id": "83GYK7X_ZqoX",
        "outputId": "080d0a2a-de8e-45b1-b48c-5760b0d323c5"
      },
      "execution_count": 35,
      "outputs": [
        {
          "output_type": "display_data",
          "data": {
            "text/plain": [
              "<IPython.core.display.HTML object>"
            ],
            "text/html": [
              "<div class=\"tex2jax_ignore\" style=\"white-space: pre-wrap\">публичная лекция цикла «Петербургский текст в пространстве современной литературы: Евгений Водолозкин, лауреат премии “Большая книга” (<span style=\"padding: 2px; border-radius: 4px; border: 1px solid #bbdefb; background: #e3f2fd\">2013<span style=\"vertical-align: middle; margin-left: 2px; font-size: 0.7em; color: #64b5f6;\">DATE</span></span>)». Читает кандидат филологических наук, доцент Санкт-Петербургского Гуманитарного университета профсоюзов Мария Дмитриевна АНДРИАНОВА.</div>"
            ]
          },
          "metadata": {}
        }
      ]
    },
    {
      "cell_type": "markdown",
      "source": [
        "## Named Entity Recognition with ChatGPT-4\n",
        "\n",
        "In this section, we explore the application of ChatGPT-4, a sophisticated language model developed by OpenAI, for Named Entity Recognition (NER) tasks.\n",
        "\n",
        "ChatGPT-4 is known for its advanced text understanding and generation capabilities, especially in handling complex language structures. This makes it well-suited for accurately identifying and categorizing named entities within our text data.\n",
        "\n",
        "### Implementation Process\n",
        "- **Model Utilization**: We leverage ChatGPT-4 for its cutting-edge NLP technology to perform NER on the SPbLitGuide newsletter content.\n",
        "- **Entity Extraction**: The model processes the text to identify various entities, including names of individuals, locations, and dates relevant to the literary events.\n",
        "- **Data Structuring**: The entities identified by ChatGPT-4 are then organized and integrated into our dataset, enhancing the depth and quality of our analysis.\n",
        "\n",
        "This approach with ChatGPT-4 offers an alternative NER method, complementing the analysis and providing a broader perspective on the dataset's informational content.\n",
        "\n",
        "\n"
      ],
      "metadata": {
        "id": "GDXVYAT-seKM"
      }
    },
    {
      "cell_type": "code",
      "source": [
        "!pip install openai\n",
        "import openai\n",
        "import ast"
      ],
      "metadata": {
        "colab": {
          "base_uri": "https://localhost:8080/"
        },
        "id": "SMZU1A7wdh1r",
        "outputId": "735fd026-93a8-4ffd-f728-41b92dc56c2d"
      },
      "execution_count": 11,
      "outputs": [
        {
          "output_type": "stream",
          "name": "stdout",
          "text": [
            "Collecting openai\n",
            "  Downloading openai-1.3.3-py3-none-any.whl (220 kB)\n",
            "\u001b[?25l     \u001b[90m━━━━━━━━━━━━━━━━━━━━━━━━━━━━━━━━━━━━━━━━\u001b[0m \u001b[32m0.0/220.3 kB\u001b[0m \u001b[31m?\u001b[0m eta \u001b[36m-:--:--\u001b[0m\r\u001b[2K     \u001b[91m━━━━━━━━━━━━━━━━━━━━━━━━━━\u001b[0m\u001b[90m╺\u001b[0m\u001b[90m━━━━━━━━━━━━━\u001b[0m \u001b[32m143.4/220.3 kB\u001b[0m \u001b[31m4.3 MB/s\u001b[0m eta \u001b[36m0:00:01\u001b[0m\r\u001b[2K     \u001b[90m━━━━━━━━━━━━━━━━━━━━━━━━━━━━━━━━━━━━━━━━\u001b[0m \u001b[32m220.3/220.3 kB\u001b[0m \u001b[31m4.5 MB/s\u001b[0m eta \u001b[36m0:00:00\u001b[0m\n",
            "\u001b[?25hRequirement already satisfied: anyio<4,>=3.5.0 in /usr/local/lib/python3.10/dist-packages (from openai) (3.7.1)\n",
            "Requirement already satisfied: distro<2,>=1.7.0 in /usr/lib/python3/dist-packages (from openai) (1.7.0)\n",
            "Collecting httpx<1,>=0.23.0 (from openai)\n",
            "  Downloading httpx-0.25.1-py3-none-any.whl (75 kB)\n",
            "\u001b[2K     \u001b[90m━━━━━━━━━━━━━━━━━━━━━━━━━━━━━━━━━━━━━━━━\u001b[0m \u001b[32m75.0/75.0 kB\u001b[0m \u001b[31m9.9 MB/s\u001b[0m eta \u001b[36m0:00:00\u001b[0m\n",
            "\u001b[?25hRequirement already satisfied: pydantic<3,>=1.9.0 in /usr/local/lib/python3.10/dist-packages (from openai) (1.10.13)\n",
            "Requirement already satisfied: tqdm>4 in /usr/local/lib/python3.10/dist-packages (from openai) (4.64.1)\n",
            "Requirement already satisfied: typing-extensions<5,>=4.5 in /usr/local/lib/python3.10/dist-packages (from openai) (4.5.0)\n",
            "Requirement already satisfied: idna>=2.8 in /usr/local/lib/python3.10/dist-packages (from anyio<4,>=3.5.0->openai) (3.4)\n",
            "Requirement already satisfied: sniffio>=1.1 in /usr/local/lib/python3.10/dist-packages (from anyio<4,>=3.5.0->openai) (1.3.0)\n",
            "Requirement already satisfied: exceptiongroup in /usr/local/lib/python3.10/dist-packages (from anyio<4,>=3.5.0->openai) (1.1.3)\n",
            "Requirement already satisfied: certifi in /usr/local/lib/python3.10/dist-packages (from httpx<1,>=0.23.0->openai) (2023.7.22)\n",
            "Collecting httpcore (from httpx<1,>=0.23.0->openai)\n",
            "  Downloading httpcore-1.0.2-py3-none-any.whl (76 kB)\n",
            "\u001b[2K     \u001b[90m━━━━━━━━━━━━━━━━━━━━━━━━━━━━━━━━━━━━━━━━\u001b[0m \u001b[32m76.9/76.9 kB\u001b[0m \u001b[31m9.7 MB/s\u001b[0m eta \u001b[36m0:00:00\u001b[0m\n",
            "\u001b[?25hRequirement already satisfied: h11<0.15,>=0.13 in /usr/local/lib/python3.10/dist-packages (from httpcore->httpx<1,>=0.23.0->openai) (0.14.0)\n",
            "Installing collected packages: httpcore, httpx, openai\n",
            "\u001b[31mERROR: pip's dependency resolver does not currently take into account all the packages that are installed. This behaviour is the source of the following dependency conflicts.\n",
            "llmx 0.0.15a0 requires cohere, which is not installed.\n",
            "llmx 0.0.15a0 requires tiktoken, which is not installed.\u001b[0m\u001b[31m\n",
            "\u001b[0mSuccessfully installed httpcore-1.0.2 httpx-0.25.1 openai-1.3.3\n"
          ]
        }
      ]
    },
    {
      "cell_type": "code",
      "source": [
        "with open(\"prompt1.txt\", \"r\") as f:\n",
        "  prompt = f.read()"
      ],
      "metadata": {
        "id": "vR1XhNUX-QDL"
      },
      "execution_count": 45,
      "outputs": []
    },
    {
      "cell_type": "code",
      "source": [
        "from google.colab import userdata\n",
        "def extract_persons(text, tokens):\n",
        "    openai.api_key = userdata.get(\"OPENAI_KEY\")\n",
        "\n",
        "    response = openai.chat.completions.create(\n",
        "        model=\"gpt-4\",\n",
        "        #model=\"gpt-3.5-turbo\",\n",
        "        #model=\"gpt-4-1106-preview\",\n",
        "        messages=[\n",
        "            {\n",
        "            \"role\": \"system\",\n",
        "               \"content\": f\"{prompt}. This is the text to process: {event}. This is the text tokenized: {tokens}\"\n",
        "            },\n",
        "        ],\n",
        "        temperature=1,\n",
        "        max_tokens=1000,\n",
        "        top_p=1,\n",
        "        frequency_penalty=0,\n",
        "        presence_penalty=0\n",
        "    )\n",
        "\n",
        "    return (response.choices[0].message.content)"
      ],
      "metadata": {
        "id": "Ya6023OLszTF"
      },
      "execution_count": 18,
      "outputs": []
    },
    {
      "cell_type": "code",
      "source": [
        "# here we use the tokens that we got from DeepPavlov NER model to align the tokenisation and be sure that we can correctly compare the obtained results\n",
        "result = extract_persons(text, tokens)\n",
        "gpt_labels = ast.literal_eval(result)\n",
        "print(gpt_labels)"
      ],
      "metadata": {
        "colab": {
          "base_uri": "https://localhost:8080/"
        },
        "id": "HRNbq5B71CJU",
        "outputId": "1ffcfc5f-d69f-45ec-940b-1e2843774d8c"
      },
      "execution_count": 47,
      "outputs": [
        {
          "output_type": "stream",
          "name": "stdout",
          "text": [
            "['O', 'O', 'O', 'O', 'O', 'O', 'O', 'O', 'O', 'O', 'B-PERSON', 'I-PERSON', 'O', 'O', 'O', 'O', 'O', 'O', 'O', 'O', 'O', 'O', 'O', 'O', 'O', 'O', 'O', 'O', 'O', 'O', 'B-ORG', 'I-ORG', 'I-ORG', 'I-ORG', 'I-ORG', 'I-ORG', 'B-PERSON', 'I-PERSON', 'I-PERSON', 'O']\n"
          ]
        }
      ]
    },
    {
      "cell_type": "code",
      "source": [
        "text"
      ],
      "metadata": {
        "colab": {
          "base_uri": "https://localhost:8080/",
          "height": 53
        },
        "id": "9EALOg4P-ukE",
        "outputId": "bd624c60-f27c-42f9-b618-4dfbfcd9defd"
      },
      "execution_count": 42,
      "outputs": [
        {
          "output_type": "execute_result",
          "data": {
            "text/plain": [
              "'публичная лекция цикла «Петербургский текст в пространстве современной литературы: Евгений Водолозкин, лауреат премии “Большая книга” (2013)». Читает кандидат филологических наук, доцент Санкт-Петербургского Гуманитарного университета профсоюзов Мария Дмитриевна АНДРИАНОВА.'"
            ],
            "application/vnd.google.colaboratory.intrinsic+json": {
              "type": "string"
            }
          },
          "metadata": {},
          "execution_count": 42
        }
      ]
    },
    {
      "cell_type": "code",
      "source": [
        "ner_spans = create_spans(text, tokens, ner_labels)\n",
        "show_box_markup(text, ner_spans, palette=palette(BLUE))\n",
        "print(\"-------------------------\")\n",
        "spans = create_spans(text, tokens, gpt_labels)\n",
        "show_box_markup(text, spans, palette=palette(BLUE))"
      ],
      "metadata": {
        "colab": {
          "base_uri": "https://localhost:8080/",
          "height": 104
        },
        "id": "S6X89k6luMb8",
        "outputId": "2be8bca9-f7e7-44ec-d6c7-39234e0b6bfe"
      },
      "execution_count": 54,
      "outputs": [
        {
          "output_type": "display_data",
          "data": {
            "text/plain": [
              "<IPython.core.display.HTML object>"
            ],
            "text/html": [
              "<div class=\"tex2jax_ignore\" style=\"white-space: pre-wrap\">публичная лекция цикла «Петербургский текст в пространстве современной литературы: Евгений Водолозкин, лауреат премии “Большая книга” (<span style=\"padding: 2px; border-radius: 4px; border: 1px solid #bbdefb; background: #e3f2fd\">2013<span style=\"vertical-align: middle; margin-left: 2px; font-size: 0.7em; color: #64b5f6;\">DATE</span></span>)». Читает кандидат филологических наук, доцент Санкт-Петербургского Гуманитарного университета профсоюзов Мария Дмитриевна АНДРИАНОВА.</div>"
            ]
          },
          "metadata": {}
        },
        {
          "output_type": "stream",
          "name": "stdout",
          "text": [
            "-------------------------\n"
          ]
        },
        {
          "output_type": "display_data",
          "data": {
            "text/plain": [
              "<IPython.core.display.HTML object>"
            ],
            "text/html": [
              "<div class=\"tex2jax_ignore\" style=\"white-space: pre-wrap\">публичная лекция цикла «Петербургский текст в пространстве современной литературы: <span style=\"padding: 2px; border-radius: 4px; border: 1px solid #bbdefb; background: #e3f2fd\">Евгений Водолозкин<span style=\"vertical-align: middle; margin-left: 2px; font-size: 0.7em; color: #64b5f6;\">PERSON</span></span>, лауреат премии “Большая книга” (2013)». Читает кандидат филологических наук, доцент <span style=\"padding: 2px; border-radius: 4px; border: 1px solid #bbdefb; background: #e3f2fd\">Санкт-Петербургского Гуманитарного университета профсоюзов <span style=\"vertical-align: middle; margin-left: 2px; font-size: 0.7em; color: #64b5f6;\">ORG</span></span><span style=\"padding: 2px; border-radius: 4px; border: 1px solid #bbdefb; background: #e3f2fd\">Мария Дмитриевна АНДРИАНОВА<span style=\"vertical-align: middle; margin-left: 2px; font-size: 0.7em; color: #64b5f6;\">PERSON</span></span>.</div>"
            ]
          },
          "metadata": {}
        }
      ]
    },
    {
      "cell_type": "code",
      "source": [],
      "metadata": {
        "id": "mgWE2URvw_o2"
      },
      "execution_count": null,
      "outputs": []
    }
  ],
  "metadata": {
    "colab": {
      "provenance": [],
      "toc_visible": true,
      "include_colab_link": true
    },
    "kernelspec": {
      "display_name": "Python 3",
      "name": "python3"
    },
    "language_info": {
      "codemirror_mode": {
        "name": "ipython",
        "version": 3
      },
      "file_extension": ".py",
      "mimetype": "text/x-python",
      "name": "python",
      "nbconvert_exporter": "python",
      "pygments_lexer": "ipython3",
      "version": "3.10.12"
    },
    "widgets": {
      "application/vnd.jupyter.widget-state+json": {
        "417ceefd71514a8baf61cff085a67ad9": {
          "model_module": "@jupyter-widgets/controls",
          "model_name": "HBoxModel",
          "model_module_version": "1.5.0",
          "state": {
            "_dom_classes": [],
            "_model_module": "@jupyter-widgets/controls",
            "_model_module_version": "1.5.0",
            "_model_name": "HBoxModel",
            "_view_count": null,
            "_view_module": "@jupyter-widgets/controls",
            "_view_module_version": "1.5.0",
            "_view_name": "HBoxView",
            "box_style": "",
            "children": [
              "IPY_MODEL_1c162a9502f54f7d92f6da7b7c79418d",
              "IPY_MODEL_a2a1339d32c44a7c9d88ab23d58c0883",
              "IPY_MODEL_f46c506e6a74477998eb6659ad067446"
            ],
            "layout": "IPY_MODEL_8e9e045b6c5844e4a77c4aa40be55c52"
          }
        },
        "1c162a9502f54f7d92f6da7b7c79418d": {
          "model_module": "@jupyter-widgets/controls",
          "model_name": "HTMLModel",
          "model_module_version": "1.5.0",
          "state": {
            "_dom_classes": [],
            "_model_module": "@jupyter-widgets/controls",
            "_model_module_version": "1.5.0",
            "_model_name": "HTMLModel",
            "_view_count": null,
            "_view_module": "@jupyter-widgets/controls",
            "_view_module_version": "1.5.0",
            "_view_name": "HTMLView",
            "description": "",
            "description_tooltip": null,
            "layout": "IPY_MODEL_d3f935a05b004b67b34c4f07be83bf74",
            "placeholder": "​",
            "style": "IPY_MODEL_f2ea75cb78c446e0ab53b04f8cb65ad4",
            "value": "tokenizer_config.json: 100%"
          }
        },
        "a2a1339d32c44a7c9d88ab23d58c0883": {
          "model_module": "@jupyter-widgets/controls",
          "model_name": "FloatProgressModel",
          "model_module_version": "1.5.0",
          "state": {
            "_dom_classes": [],
            "_model_module": "@jupyter-widgets/controls",
            "_model_module_version": "1.5.0",
            "_model_name": "FloatProgressModel",
            "_view_count": null,
            "_view_module": "@jupyter-widgets/controls",
            "_view_module_version": "1.5.0",
            "_view_name": "ProgressView",
            "bar_style": "success",
            "description": "",
            "description_tooltip": null,
            "layout": "IPY_MODEL_b44c19b3802447d183b3307b024dc6d4",
            "max": 29,
            "min": 0,
            "orientation": "horizontal",
            "style": "IPY_MODEL_df1f2dcfb89242a2b93ad68a2fd6f128",
            "value": 29
          }
        },
        "f46c506e6a74477998eb6659ad067446": {
          "model_module": "@jupyter-widgets/controls",
          "model_name": "HTMLModel",
          "model_module_version": "1.5.0",
          "state": {
            "_dom_classes": [],
            "_model_module": "@jupyter-widgets/controls",
            "_model_module_version": "1.5.0",
            "_model_name": "HTMLModel",
            "_view_count": null,
            "_view_module": "@jupyter-widgets/controls",
            "_view_module_version": "1.5.0",
            "_view_name": "HTMLView",
            "description": "",
            "description_tooltip": null,
            "layout": "IPY_MODEL_abbe6b00d6774953a1569af3527257eb",
            "placeholder": "​",
            "style": "IPY_MODEL_0caf99588bc94a14935c22a89ec5376a",
            "value": " 29.0/29.0 [00:00&lt;00:00, 1.15kB/s]"
          }
        },
        "8e9e045b6c5844e4a77c4aa40be55c52": {
          "model_module": "@jupyter-widgets/base",
          "model_name": "LayoutModel",
          "model_module_version": "1.2.0",
          "state": {
            "_model_module": "@jupyter-widgets/base",
            "_model_module_version": "1.2.0",
            "_model_name": "LayoutModel",
            "_view_count": null,
            "_view_module": "@jupyter-widgets/base",
            "_view_module_version": "1.2.0",
            "_view_name": "LayoutView",
            "align_content": null,
            "align_items": null,
            "align_self": null,
            "border": null,
            "bottom": null,
            "display": null,
            "flex": null,
            "flex_flow": null,
            "grid_area": null,
            "grid_auto_columns": null,
            "grid_auto_flow": null,
            "grid_auto_rows": null,
            "grid_column": null,
            "grid_gap": null,
            "grid_row": null,
            "grid_template_areas": null,
            "grid_template_columns": null,
            "grid_template_rows": null,
            "height": null,
            "justify_content": null,
            "justify_items": null,
            "left": null,
            "margin": null,
            "max_height": null,
            "max_width": null,
            "min_height": null,
            "min_width": null,
            "object_fit": null,
            "object_position": null,
            "order": null,
            "overflow": null,
            "overflow_x": null,
            "overflow_y": null,
            "padding": null,
            "right": null,
            "top": null,
            "visibility": null,
            "width": null
          }
        },
        "d3f935a05b004b67b34c4f07be83bf74": {
          "model_module": "@jupyter-widgets/base",
          "model_name": "LayoutModel",
          "model_module_version": "1.2.0",
          "state": {
            "_model_module": "@jupyter-widgets/base",
            "_model_module_version": "1.2.0",
            "_model_name": "LayoutModel",
            "_view_count": null,
            "_view_module": "@jupyter-widgets/base",
            "_view_module_version": "1.2.0",
            "_view_name": "LayoutView",
            "align_content": null,
            "align_items": null,
            "align_self": null,
            "border": null,
            "bottom": null,
            "display": null,
            "flex": null,
            "flex_flow": null,
            "grid_area": null,
            "grid_auto_columns": null,
            "grid_auto_flow": null,
            "grid_auto_rows": null,
            "grid_column": null,
            "grid_gap": null,
            "grid_row": null,
            "grid_template_areas": null,
            "grid_template_columns": null,
            "grid_template_rows": null,
            "height": null,
            "justify_content": null,
            "justify_items": null,
            "left": null,
            "margin": null,
            "max_height": null,
            "max_width": null,
            "min_height": null,
            "min_width": null,
            "object_fit": null,
            "object_position": null,
            "order": null,
            "overflow": null,
            "overflow_x": null,
            "overflow_y": null,
            "padding": null,
            "right": null,
            "top": null,
            "visibility": null,
            "width": null
          }
        },
        "f2ea75cb78c446e0ab53b04f8cb65ad4": {
          "model_module": "@jupyter-widgets/controls",
          "model_name": "DescriptionStyleModel",
          "model_module_version": "1.5.0",
          "state": {
            "_model_module": "@jupyter-widgets/controls",
            "_model_module_version": "1.5.0",
            "_model_name": "DescriptionStyleModel",
            "_view_count": null,
            "_view_module": "@jupyter-widgets/base",
            "_view_module_version": "1.2.0",
            "_view_name": "StyleView",
            "description_width": ""
          }
        },
        "b44c19b3802447d183b3307b024dc6d4": {
          "model_module": "@jupyter-widgets/base",
          "model_name": "LayoutModel",
          "model_module_version": "1.2.0",
          "state": {
            "_model_module": "@jupyter-widgets/base",
            "_model_module_version": "1.2.0",
            "_model_name": "LayoutModel",
            "_view_count": null,
            "_view_module": "@jupyter-widgets/base",
            "_view_module_version": "1.2.0",
            "_view_name": "LayoutView",
            "align_content": null,
            "align_items": null,
            "align_self": null,
            "border": null,
            "bottom": null,
            "display": null,
            "flex": null,
            "flex_flow": null,
            "grid_area": null,
            "grid_auto_columns": null,
            "grid_auto_flow": null,
            "grid_auto_rows": null,
            "grid_column": null,
            "grid_gap": null,
            "grid_row": null,
            "grid_template_areas": null,
            "grid_template_columns": null,
            "grid_template_rows": null,
            "height": null,
            "justify_content": null,
            "justify_items": null,
            "left": null,
            "margin": null,
            "max_height": null,
            "max_width": null,
            "min_height": null,
            "min_width": null,
            "object_fit": null,
            "object_position": null,
            "order": null,
            "overflow": null,
            "overflow_x": null,
            "overflow_y": null,
            "padding": null,
            "right": null,
            "top": null,
            "visibility": null,
            "width": null
          }
        },
        "df1f2dcfb89242a2b93ad68a2fd6f128": {
          "model_module": "@jupyter-widgets/controls",
          "model_name": "ProgressStyleModel",
          "model_module_version": "1.5.0",
          "state": {
            "_model_module": "@jupyter-widgets/controls",
            "_model_module_version": "1.5.0",
            "_model_name": "ProgressStyleModel",
            "_view_count": null,
            "_view_module": "@jupyter-widgets/base",
            "_view_module_version": "1.2.0",
            "_view_name": "StyleView",
            "bar_color": null,
            "description_width": ""
          }
        },
        "abbe6b00d6774953a1569af3527257eb": {
          "model_module": "@jupyter-widgets/base",
          "model_name": "LayoutModel",
          "model_module_version": "1.2.0",
          "state": {
            "_model_module": "@jupyter-widgets/base",
            "_model_module_version": "1.2.0",
            "_model_name": "LayoutModel",
            "_view_count": null,
            "_view_module": "@jupyter-widgets/base",
            "_view_module_version": "1.2.0",
            "_view_name": "LayoutView",
            "align_content": null,
            "align_items": null,
            "align_self": null,
            "border": null,
            "bottom": null,
            "display": null,
            "flex": null,
            "flex_flow": null,
            "grid_area": null,
            "grid_auto_columns": null,
            "grid_auto_flow": null,
            "grid_auto_rows": null,
            "grid_column": null,
            "grid_gap": null,
            "grid_row": null,
            "grid_template_areas": null,
            "grid_template_columns": null,
            "grid_template_rows": null,
            "height": null,
            "justify_content": null,
            "justify_items": null,
            "left": null,
            "margin": null,
            "max_height": null,
            "max_width": null,
            "min_height": null,
            "min_width": null,
            "object_fit": null,
            "object_position": null,
            "order": null,
            "overflow": null,
            "overflow_x": null,
            "overflow_y": null,
            "padding": null,
            "right": null,
            "top": null,
            "visibility": null,
            "width": null
          }
        },
        "0caf99588bc94a14935c22a89ec5376a": {
          "model_module": "@jupyter-widgets/controls",
          "model_name": "DescriptionStyleModel",
          "model_module_version": "1.5.0",
          "state": {
            "_model_module": "@jupyter-widgets/controls",
            "_model_module_version": "1.5.0",
            "_model_name": "DescriptionStyleModel",
            "_view_count": null,
            "_view_module": "@jupyter-widgets/base",
            "_view_module_version": "1.2.0",
            "_view_name": "StyleView",
            "description_width": ""
          }
        },
        "9bb49114e9c9484e949b908198e0b96e": {
          "model_module": "@jupyter-widgets/controls",
          "model_name": "HBoxModel",
          "model_module_version": "1.5.0",
          "state": {
            "_dom_classes": [],
            "_model_module": "@jupyter-widgets/controls",
            "_model_module_version": "1.5.0",
            "_model_name": "HBoxModel",
            "_view_count": null,
            "_view_module": "@jupyter-widgets/controls",
            "_view_module_version": "1.5.0",
            "_view_name": "HBoxView",
            "box_style": "",
            "children": [
              "IPY_MODEL_f0c7e6a4eae84838ad193a2b23e2431f",
              "IPY_MODEL_9061d6249a354ed48ec0a35fd9f0a704",
              "IPY_MODEL_69ae3e85797246b6bdbb5e088bfc1215"
            ],
            "layout": "IPY_MODEL_37cc3454395540448380a8675f3e4329"
          }
        },
        "f0c7e6a4eae84838ad193a2b23e2431f": {
          "model_module": "@jupyter-widgets/controls",
          "model_name": "HTMLModel",
          "model_module_version": "1.5.0",
          "state": {
            "_dom_classes": [],
            "_model_module": "@jupyter-widgets/controls",
            "_model_module_version": "1.5.0",
            "_model_name": "HTMLModel",
            "_view_count": null,
            "_view_module": "@jupyter-widgets/controls",
            "_view_module_version": "1.5.0",
            "_view_name": "HTMLView",
            "description": "",
            "description_tooltip": null,
            "layout": "IPY_MODEL_4ad5879563d345fcbb06996aa5fe84d6",
            "placeholder": "​",
            "style": "IPY_MODEL_45762a0de3eb463a9b1e1f155798bcb9",
            "value": "config.json: 100%"
          }
        },
        "9061d6249a354ed48ec0a35fd9f0a704": {
          "model_module": "@jupyter-widgets/controls",
          "model_name": "FloatProgressModel",
          "model_module_version": "1.5.0",
          "state": {
            "_dom_classes": [],
            "_model_module": "@jupyter-widgets/controls",
            "_model_module_version": "1.5.0",
            "_model_name": "FloatProgressModel",
            "_view_count": null,
            "_view_module": "@jupyter-widgets/controls",
            "_view_module_version": "1.5.0",
            "_view_name": "ProgressView",
            "bar_style": "success",
            "description": "",
            "description_tooltip": null,
            "layout": "IPY_MODEL_95938ffaa8df41218f6d68c12847c09a",
            "max": 570,
            "min": 0,
            "orientation": "horizontal",
            "style": "IPY_MODEL_d31fd94250d24394b17b712d5dcb5a15",
            "value": 570
          }
        },
        "69ae3e85797246b6bdbb5e088bfc1215": {
          "model_module": "@jupyter-widgets/controls",
          "model_name": "HTMLModel",
          "model_module_version": "1.5.0",
          "state": {
            "_dom_classes": [],
            "_model_module": "@jupyter-widgets/controls",
            "_model_module_version": "1.5.0",
            "_model_name": "HTMLModel",
            "_view_count": null,
            "_view_module": "@jupyter-widgets/controls",
            "_view_module_version": "1.5.0",
            "_view_name": "HTMLView",
            "description": "",
            "description_tooltip": null,
            "layout": "IPY_MODEL_91e87d8667ab47a5bb79bfd1562c24ab",
            "placeholder": "​",
            "style": "IPY_MODEL_a80d29edae6c43efbd8c86bed4393110",
            "value": " 570/570 [00:00&lt;00:00, 33.5kB/s]"
          }
        },
        "37cc3454395540448380a8675f3e4329": {
          "model_module": "@jupyter-widgets/base",
          "model_name": "LayoutModel",
          "model_module_version": "1.2.0",
          "state": {
            "_model_module": "@jupyter-widgets/base",
            "_model_module_version": "1.2.0",
            "_model_name": "LayoutModel",
            "_view_count": null,
            "_view_module": "@jupyter-widgets/base",
            "_view_module_version": "1.2.0",
            "_view_name": "LayoutView",
            "align_content": null,
            "align_items": null,
            "align_self": null,
            "border": null,
            "bottom": null,
            "display": null,
            "flex": null,
            "flex_flow": null,
            "grid_area": null,
            "grid_auto_columns": null,
            "grid_auto_flow": null,
            "grid_auto_rows": null,
            "grid_column": null,
            "grid_gap": null,
            "grid_row": null,
            "grid_template_areas": null,
            "grid_template_columns": null,
            "grid_template_rows": null,
            "height": null,
            "justify_content": null,
            "justify_items": null,
            "left": null,
            "margin": null,
            "max_height": null,
            "max_width": null,
            "min_height": null,
            "min_width": null,
            "object_fit": null,
            "object_position": null,
            "order": null,
            "overflow": null,
            "overflow_x": null,
            "overflow_y": null,
            "padding": null,
            "right": null,
            "top": null,
            "visibility": null,
            "width": null
          }
        },
        "4ad5879563d345fcbb06996aa5fe84d6": {
          "model_module": "@jupyter-widgets/base",
          "model_name": "LayoutModel",
          "model_module_version": "1.2.0",
          "state": {
            "_model_module": "@jupyter-widgets/base",
            "_model_module_version": "1.2.0",
            "_model_name": "LayoutModel",
            "_view_count": null,
            "_view_module": "@jupyter-widgets/base",
            "_view_module_version": "1.2.0",
            "_view_name": "LayoutView",
            "align_content": null,
            "align_items": null,
            "align_self": null,
            "border": null,
            "bottom": null,
            "display": null,
            "flex": null,
            "flex_flow": null,
            "grid_area": null,
            "grid_auto_columns": null,
            "grid_auto_flow": null,
            "grid_auto_rows": null,
            "grid_column": null,
            "grid_gap": null,
            "grid_row": null,
            "grid_template_areas": null,
            "grid_template_columns": null,
            "grid_template_rows": null,
            "height": null,
            "justify_content": null,
            "justify_items": null,
            "left": null,
            "margin": null,
            "max_height": null,
            "max_width": null,
            "min_height": null,
            "min_width": null,
            "object_fit": null,
            "object_position": null,
            "order": null,
            "overflow": null,
            "overflow_x": null,
            "overflow_y": null,
            "padding": null,
            "right": null,
            "top": null,
            "visibility": null,
            "width": null
          }
        },
        "45762a0de3eb463a9b1e1f155798bcb9": {
          "model_module": "@jupyter-widgets/controls",
          "model_name": "DescriptionStyleModel",
          "model_module_version": "1.5.0",
          "state": {
            "_model_module": "@jupyter-widgets/controls",
            "_model_module_version": "1.5.0",
            "_model_name": "DescriptionStyleModel",
            "_view_count": null,
            "_view_module": "@jupyter-widgets/base",
            "_view_module_version": "1.2.0",
            "_view_name": "StyleView",
            "description_width": ""
          }
        },
        "95938ffaa8df41218f6d68c12847c09a": {
          "model_module": "@jupyter-widgets/base",
          "model_name": "LayoutModel",
          "model_module_version": "1.2.0",
          "state": {
            "_model_module": "@jupyter-widgets/base",
            "_model_module_version": "1.2.0",
            "_model_name": "LayoutModel",
            "_view_count": null,
            "_view_module": "@jupyter-widgets/base",
            "_view_module_version": "1.2.0",
            "_view_name": "LayoutView",
            "align_content": null,
            "align_items": null,
            "align_self": null,
            "border": null,
            "bottom": null,
            "display": null,
            "flex": null,
            "flex_flow": null,
            "grid_area": null,
            "grid_auto_columns": null,
            "grid_auto_flow": null,
            "grid_auto_rows": null,
            "grid_column": null,
            "grid_gap": null,
            "grid_row": null,
            "grid_template_areas": null,
            "grid_template_columns": null,
            "grid_template_rows": null,
            "height": null,
            "justify_content": null,
            "justify_items": null,
            "left": null,
            "margin": null,
            "max_height": null,
            "max_width": null,
            "min_height": null,
            "min_width": null,
            "object_fit": null,
            "object_position": null,
            "order": null,
            "overflow": null,
            "overflow_x": null,
            "overflow_y": null,
            "padding": null,
            "right": null,
            "top": null,
            "visibility": null,
            "width": null
          }
        },
        "d31fd94250d24394b17b712d5dcb5a15": {
          "model_module": "@jupyter-widgets/controls",
          "model_name": "ProgressStyleModel",
          "model_module_version": "1.5.0",
          "state": {
            "_model_module": "@jupyter-widgets/controls",
            "_model_module_version": "1.5.0",
            "_model_name": "ProgressStyleModel",
            "_view_count": null,
            "_view_module": "@jupyter-widgets/base",
            "_view_module_version": "1.2.0",
            "_view_name": "StyleView",
            "bar_color": null,
            "description_width": ""
          }
        },
        "91e87d8667ab47a5bb79bfd1562c24ab": {
          "model_module": "@jupyter-widgets/base",
          "model_name": "LayoutModel",
          "model_module_version": "1.2.0",
          "state": {
            "_model_module": "@jupyter-widgets/base",
            "_model_module_version": "1.2.0",
            "_model_name": "LayoutModel",
            "_view_count": null,
            "_view_module": "@jupyter-widgets/base",
            "_view_module_version": "1.2.0",
            "_view_name": "LayoutView",
            "align_content": null,
            "align_items": null,
            "align_self": null,
            "border": null,
            "bottom": null,
            "display": null,
            "flex": null,
            "flex_flow": null,
            "grid_area": null,
            "grid_auto_columns": null,
            "grid_auto_flow": null,
            "grid_auto_rows": null,
            "grid_column": null,
            "grid_gap": null,
            "grid_row": null,
            "grid_template_areas": null,
            "grid_template_columns": null,
            "grid_template_rows": null,
            "height": null,
            "justify_content": null,
            "justify_items": null,
            "left": null,
            "margin": null,
            "max_height": null,
            "max_width": null,
            "min_height": null,
            "min_width": null,
            "object_fit": null,
            "object_position": null,
            "order": null,
            "overflow": null,
            "overflow_x": null,
            "overflow_y": null,
            "padding": null,
            "right": null,
            "top": null,
            "visibility": null,
            "width": null
          }
        },
        "a80d29edae6c43efbd8c86bed4393110": {
          "model_module": "@jupyter-widgets/controls",
          "model_name": "DescriptionStyleModel",
          "model_module_version": "1.5.0",
          "state": {
            "_model_module": "@jupyter-widgets/controls",
            "_model_module_version": "1.5.0",
            "_model_name": "DescriptionStyleModel",
            "_view_count": null,
            "_view_module": "@jupyter-widgets/base",
            "_view_module_version": "1.2.0",
            "_view_name": "StyleView",
            "description_width": ""
          }
        },
        "43656adc4b594ee394b07f3793304b7e": {
          "model_module": "@jupyter-widgets/controls",
          "model_name": "HBoxModel",
          "model_module_version": "1.5.0",
          "state": {
            "_dom_classes": [],
            "_model_module": "@jupyter-widgets/controls",
            "_model_module_version": "1.5.0",
            "_model_name": "HBoxModel",
            "_view_count": null,
            "_view_module": "@jupyter-widgets/controls",
            "_view_module_version": "1.5.0",
            "_view_name": "HBoxView",
            "box_style": "",
            "children": [
              "IPY_MODEL_c78e0d8babac4628bc2dd6e2e165c48b",
              "IPY_MODEL_5cefc97387a34d878e7a9bfc61282b1f",
              "IPY_MODEL_b92d305326484d738268fe4bb67e011e"
            ],
            "layout": "IPY_MODEL_868c50e48a084b49ba8defc1a14be7db"
          }
        },
        "c78e0d8babac4628bc2dd6e2e165c48b": {
          "model_module": "@jupyter-widgets/controls",
          "model_name": "HTMLModel",
          "model_module_version": "1.5.0",
          "state": {
            "_dom_classes": [],
            "_model_module": "@jupyter-widgets/controls",
            "_model_module_version": "1.5.0",
            "_model_name": "HTMLModel",
            "_view_count": null,
            "_view_module": "@jupyter-widgets/controls",
            "_view_module_version": "1.5.0",
            "_view_name": "HTMLView",
            "description": "",
            "description_tooltip": null,
            "layout": "IPY_MODEL_e6699dee65174e8bad84e4317498afc7",
            "placeholder": "​",
            "style": "IPY_MODEL_e8afc1a561ac47659b8d737e6957a6a9",
            "value": "vocab.txt: 100%"
          }
        },
        "5cefc97387a34d878e7a9bfc61282b1f": {
          "model_module": "@jupyter-widgets/controls",
          "model_name": "FloatProgressModel",
          "model_module_version": "1.5.0",
          "state": {
            "_dom_classes": [],
            "_model_module": "@jupyter-widgets/controls",
            "_model_module_version": "1.5.0",
            "_model_name": "FloatProgressModel",
            "_view_count": null,
            "_view_module": "@jupyter-widgets/controls",
            "_view_module_version": "1.5.0",
            "_view_name": "ProgressView",
            "bar_style": "success",
            "description": "",
            "description_tooltip": null,
            "layout": "IPY_MODEL_ebdcca4538ec49b68ad81eefd0e6e12e",
            "max": 213450,
            "min": 0,
            "orientation": "horizontal",
            "style": "IPY_MODEL_f01aac77ff644512bd2567f93aa6114d",
            "value": 213450
          }
        },
        "b92d305326484d738268fe4bb67e011e": {
          "model_module": "@jupyter-widgets/controls",
          "model_name": "HTMLModel",
          "model_module_version": "1.5.0",
          "state": {
            "_dom_classes": [],
            "_model_module": "@jupyter-widgets/controls",
            "_model_module_version": "1.5.0",
            "_model_name": "HTMLModel",
            "_view_count": null,
            "_view_module": "@jupyter-widgets/controls",
            "_view_module_version": "1.5.0",
            "_view_name": "HTMLView",
            "description": "",
            "description_tooltip": null,
            "layout": "IPY_MODEL_7279a24ce8264a74824fa849674d7681",
            "placeholder": "​",
            "style": "IPY_MODEL_558c968fa16447b9ad80eb66de15493d",
            "value": " 213k/213k [00:00&lt;00:00, 3.54MB/s]"
          }
        },
        "868c50e48a084b49ba8defc1a14be7db": {
          "model_module": "@jupyter-widgets/base",
          "model_name": "LayoutModel",
          "model_module_version": "1.2.0",
          "state": {
            "_model_module": "@jupyter-widgets/base",
            "_model_module_version": "1.2.0",
            "_model_name": "LayoutModel",
            "_view_count": null,
            "_view_module": "@jupyter-widgets/base",
            "_view_module_version": "1.2.0",
            "_view_name": "LayoutView",
            "align_content": null,
            "align_items": null,
            "align_self": null,
            "border": null,
            "bottom": null,
            "display": null,
            "flex": null,
            "flex_flow": null,
            "grid_area": null,
            "grid_auto_columns": null,
            "grid_auto_flow": null,
            "grid_auto_rows": null,
            "grid_column": null,
            "grid_gap": null,
            "grid_row": null,
            "grid_template_areas": null,
            "grid_template_columns": null,
            "grid_template_rows": null,
            "height": null,
            "justify_content": null,
            "justify_items": null,
            "left": null,
            "margin": null,
            "max_height": null,
            "max_width": null,
            "min_height": null,
            "min_width": null,
            "object_fit": null,
            "object_position": null,
            "order": null,
            "overflow": null,
            "overflow_x": null,
            "overflow_y": null,
            "padding": null,
            "right": null,
            "top": null,
            "visibility": null,
            "width": null
          }
        },
        "e6699dee65174e8bad84e4317498afc7": {
          "model_module": "@jupyter-widgets/base",
          "model_name": "LayoutModel",
          "model_module_version": "1.2.0",
          "state": {
            "_model_module": "@jupyter-widgets/base",
            "_model_module_version": "1.2.0",
            "_model_name": "LayoutModel",
            "_view_count": null,
            "_view_module": "@jupyter-widgets/base",
            "_view_module_version": "1.2.0",
            "_view_name": "LayoutView",
            "align_content": null,
            "align_items": null,
            "align_self": null,
            "border": null,
            "bottom": null,
            "display": null,
            "flex": null,
            "flex_flow": null,
            "grid_area": null,
            "grid_auto_columns": null,
            "grid_auto_flow": null,
            "grid_auto_rows": null,
            "grid_column": null,
            "grid_gap": null,
            "grid_row": null,
            "grid_template_areas": null,
            "grid_template_columns": null,
            "grid_template_rows": null,
            "height": null,
            "justify_content": null,
            "justify_items": null,
            "left": null,
            "margin": null,
            "max_height": null,
            "max_width": null,
            "min_height": null,
            "min_width": null,
            "object_fit": null,
            "object_position": null,
            "order": null,
            "overflow": null,
            "overflow_x": null,
            "overflow_y": null,
            "padding": null,
            "right": null,
            "top": null,
            "visibility": null,
            "width": null
          }
        },
        "e8afc1a561ac47659b8d737e6957a6a9": {
          "model_module": "@jupyter-widgets/controls",
          "model_name": "DescriptionStyleModel",
          "model_module_version": "1.5.0",
          "state": {
            "_model_module": "@jupyter-widgets/controls",
            "_model_module_version": "1.5.0",
            "_model_name": "DescriptionStyleModel",
            "_view_count": null,
            "_view_module": "@jupyter-widgets/base",
            "_view_module_version": "1.2.0",
            "_view_name": "StyleView",
            "description_width": ""
          }
        },
        "ebdcca4538ec49b68ad81eefd0e6e12e": {
          "model_module": "@jupyter-widgets/base",
          "model_name": "LayoutModel",
          "model_module_version": "1.2.0",
          "state": {
            "_model_module": "@jupyter-widgets/base",
            "_model_module_version": "1.2.0",
            "_model_name": "LayoutModel",
            "_view_count": null,
            "_view_module": "@jupyter-widgets/base",
            "_view_module_version": "1.2.0",
            "_view_name": "LayoutView",
            "align_content": null,
            "align_items": null,
            "align_self": null,
            "border": null,
            "bottom": null,
            "display": null,
            "flex": null,
            "flex_flow": null,
            "grid_area": null,
            "grid_auto_columns": null,
            "grid_auto_flow": null,
            "grid_auto_rows": null,
            "grid_column": null,
            "grid_gap": null,
            "grid_row": null,
            "grid_template_areas": null,
            "grid_template_columns": null,
            "grid_template_rows": null,
            "height": null,
            "justify_content": null,
            "justify_items": null,
            "left": null,
            "margin": null,
            "max_height": null,
            "max_width": null,
            "min_height": null,
            "min_width": null,
            "object_fit": null,
            "object_position": null,
            "order": null,
            "overflow": null,
            "overflow_x": null,
            "overflow_y": null,
            "padding": null,
            "right": null,
            "top": null,
            "visibility": null,
            "width": null
          }
        },
        "f01aac77ff644512bd2567f93aa6114d": {
          "model_module": "@jupyter-widgets/controls",
          "model_name": "ProgressStyleModel",
          "model_module_version": "1.5.0",
          "state": {
            "_model_module": "@jupyter-widgets/controls",
            "_model_module_version": "1.5.0",
            "_model_name": "ProgressStyleModel",
            "_view_count": null,
            "_view_module": "@jupyter-widgets/base",
            "_view_module_version": "1.2.0",
            "_view_name": "StyleView",
            "bar_color": null,
            "description_width": ""
          }
        },
        "7279a24ce8264a74824fa849674d7681": {
          "model_module": "@jupyter-widgets/base",
          "model_name": "LayoutModel",
          "model_module_version": "1.2.0",
          "state": {
            "_model_module": "@jupyter-widgets/base",
            "_model_module_version": "1.2.0",
            "_model_name": "LayoutModel",
            "_view_count": null,
            "_view_module": "@jupyter-widgets/base",
            "_view_module_version": "1.2.0",
            "_view_name": "LayoutView",
            "align_content": null,
            "align_items": null,
            "align_self": null,
            "border": null,
            "bottom": null,
            "display": null,
            "flex": null,
            "flex_flow": null,
            "grid_area": null,
            "grid_auto_columns": null,
            "grid_auto_flow": null,
            "grid_auto_rows": null,
            "grid_column": null,
            "grid_gap": null,
            "grid_row": null,
            "grid_template_areas": null,
            "grid_template_columns": null,
            "grid_template_rows": null,
            "height": null,
            "justify_content": null,
            "justify_items": null,
            "left": null,
            "margin": null,
            "max_height": null,
            "max_width": null,
            "min_height": null,
            "min_width": null,
            "object_fit": null,
            "object_position": null,
            "order": null,
            "overflow": null,
            "overflow_x": null,
            "overflow_y": null,
            "padding": null,
            "right": null,
            "top": null,
            "visibility": null,
            "width": null
          }
        },
        "558c968fa16447b9ad80eb66de15493d": {
          "model_module": "@jupyter-widgets/controls",
          "model_name": "DescriptionStyleModel",
          "model_module_version": "1.5.0",
          "state": {
            "_model_module": "@jupyter-widgets/controls",
            "_model_module_version": "1.5.0",
            "_model_name": "DescriptionStyleModel",
            "_view_count": null,
            "_view_module": "@jupyter-widgets/base",
            "_view_module_version": "1.2.0",
            "_view_name": "StyleView",
            "description_width": ""
          }
        },
        "c8d8321cdd3d48799d82b171f4b50c3f": {
          "model_module": "@jupyter-widgets/controls",
          "model_name": "HBoxModel",
          "model_module_version": "1.5.0",
          "state": {
            "_dom_classes": [],
            "_model_module": "@jupyter-widgets/controls",
            "_model_module_version": "1.5.0",
            "_model_name": "HBoxModel",
            "_view_count": null,
            "_view_module": "@jupyter-widgets/controls",
            "_view_module_version": "1.5.0",
            "_view_name": "HBoxView",
            "box_style": "",
            "children": [
              "IPY_MODEL_35598ad2121e4334b87e58de5ebea955",
              "IPY_MODEL_5c662e657dd9469da164c9ce7f1b1d7b",
              "IPY_MODEL_bb025b355566408cbe44929621a1e24c"
            ],
            "layout": "IPY_MODEL_71e0de89295d45dba256fe5c327fe95f"
          }
        },
        "35598ad2121e4334b87e58de5ebea955": {
          "model_module": "@jupyter-widgets/controls",
          "model_name": "HTMLModel",
          "model_module_version": "1.5.0",
          "state": {
            "_dom_classes": [],
            "_model_module": "@jupyter-widgets/controls",
            "_model_module_version": "1.5.0",
            "_model_name": "HTMLModel",
            "_view_count": null,
            "_view_module": "@jupyter-widgets/controls",
            "_view_module_version": "1.5.0",
            "_view_name": "HTMLView",
            "description": "",
            "description_tooltip": null,
            "layout": "IPY_MODEL_f442bab4ad7c490dacf34882e16d68ec",
            "placeholder": "​",
            "style": "IPY_MODEL_19e95f91ad794f1ca94fe9e146750570",
            "value": "tokenizer.json: 100%"
          }
        },
        "5c662e657dd9469da164c9ce7f1b1d7b": {
          "model_module": "@jupyter-widgets/controls",
          "model_name": "FloatProgressModel",
          "model_module_version": "1.5.0",
          "state": {
            "_dom_classes": [],
            "_model_module": "@jupyter-widgets/controls",
            "_model_module_version": "1.5.0",
            "_model_name": "FloatProgressModel",
            "_view_count": null,
            "_view_module": "@jupyter-widgets/controls",
            "_view_module_version": "1.5.0",
            "_view_name": "ProgressView",
            "bar_style": "success",
            "description": "",
            "description_tooltip": null,
            "layout": "IPY_MODEL_f4f508f8fa194106a9cef8def18c6c38",
            "max": 435797,
            "min": 0,
            "orientation": "horizontal",
            "style": "IPY_MODEL_5ca83505491e43a2a4fd0bf098d1d306",
            "value": 435797
          }
        },
        "bb025b355566408cbe44929621a1e24c": {
          "model_module": "@jupyter-widgets/controls",
          "model_name": "HTMLModel",
          "model_module_version": "1.5.0",
          "state": {
            "_dom_classes": [],
            "_model_module": "@jupyter-widgets/controls",
            "_model_module_version": "1.5.0",
            "_model_name": "HTMLModel",
            "_view_count": null,
            "_view_module": "@jupyter-widgets/controls",
            "_view_module_version": "1.5.0",
            "_view_name": "HTMLView",
            "description": "",
            "description_tooltip": null,
            "layout": "IPY_MODEL_6476df7d6e36432ebf19b3d45caccef6",
            "placeholder": "​",
            "style": "IPY_MODEL_98fee911cb9246269e98c7a72b70ebf6",
            "value": " 436k/436k [00:00&lt;00:00, 8.12MB/s]"
          }
        },
        "71e0de89295d45dba256fe5c327fe95f": {
          "model_module": "@jupyter-widgets/base",
          "model_name": "LayoutModel",
          "model_module_version": "1.2.0",
          "state": {
            "_model_module": "@jupyter-widgets/base",
            "_model_module_version": "1.2.0",
            "_model_name": "LayoutModel",
            "_view_count": null,
            "_view_module": "@jupyter-widgets/base",
            "_view_module_version": "1.2.0",
            "_view_name": "LayoutView",
            "align_content": null,
            "align_items": null,
            "align_self": null,
            "border": null,
            "bottom": null,
            "display": null,
            "flex": null,
            "flex_flow": null,
            "grid_area": null,
            "grid_auto_columns": null,
            "grid_auto_flow": null,
            "grid_auto_rows": null,
            "grid_column": null,
            "grid_gap": null,
            "grid_row": null,
            "grid_template_areas": null,
            "grid_template_columns": null,
            "grid_template_rows": null,
            "height": null,
            "justify_content": null,
            "justify_items": null,
            "left": null,
            "margin": null,
            "max_height": null,
            "max_width": null,
            "min_height": null,
            "min_width": null,
            "object_fit": null,
            "object_position": null,
            "order": null,
            "overflow": null,
            "overflow_x": null,
            "overflow_y": null,
            "padding": null,
            "right": null,
            "top": null,
            "visibility": null,
            "width": null
          }
        },
        "f442bab4ad7c490dacf34882e16d68ec": {
          "model_module": "@jupyter-widgets/base",
          "model_name": "LayoutModel",
          "model_module_version": "1.2.0",
          "state": {
            "_model_module": "@jupyter-widgets/base",
            "_model_module_version": "1.2.0",
            "_model_name": "LayoutModel",
            "_view_count": null,
            "_view_module": "@jupyter-widgets/base",
            "_view_module_version": "1.2.0",
            "_view_name": "LayoutView",
            "align_content": null,
            "align_items": null,
            "align_self": null,
            "border": null,
            "bottom": null,
            "display": null,
            "flex": null,
            "flex_flow": null,
            "grid_area": null,
            "grid_auto_columns": null,
            "grid_auto_flow": null,
            "grid_auto_rows": null,
            "grid_column": null,
            "grid_gap": null,
            "grid_row": null,
            "grid_template_areas": null,
            "grid_template_columns": null,
            "grid_template_rows": null,
            "height": null,
            "justify_content": null,
            "justify_items": null,
            "left": null,
            "margin": null,
            "max_height": null,
            "max_width": null,
            "min_height": null,
            "min_width": null,
            "object_fit": null,
            "object_position": null,
            "order": null,
            "overflow": null,
            "overflow_x": null,
            "overflow_y": null,
            "padding": null,
            "right": null,
            "top": null,
            "visibility": null,
            "width": null
          }
        },
        "19e95f91ad794f1ca94fe9e146750570": {
          "model_module": "@jupyter-widgets/controls",
          "model_name": "DescriptionStyleModel",
          "model_module_version": "1.5.0",
          "state": {
            "_model_module": "@jupyter-widgets/controls",
            "_model_module_version": "1.5.0",
            "_model_name": "DescriptionStyleModel",
            "_view_count": null,
            "_view_module": "@jupyter-widgets/base",
            "_view_module_version": "1.2.0",
            "_view_name": "StyleView",
            "description_width": ""
          }
        },
        "f4f508f8fa194106a9cef8def18c6c38": {
          "model_module": "@jupyter-widgets/base",
          "model_name": "LayoutModel",
          "model_module_version": "1.2.0",
          "state": {
            "_model_module": "@jupyter-widgets/base",
            "_model_module_version": "1.2.0",
            "_model_name": "LayoutModel",
            "_view_count": null,
            "_view_module": "@jupyter-widgets/base",
            "_view_module_version": "1.2.0",
            "_view_name": "LayoutView",
            "align_content": null,
            "align_items": null,
            "align_self": null,
            "border": null,
            "bottom": null,
            "display": null,
            "flex": null,
            "flex_flow": null,
            "grid_area": null,
            "grid_auto_columns": null,
            "grid_auto_flow": null,
            "grid_auto_rows": null,
            "grid_column": null,
            "grid_gap": null,
            "grid_row": null,
            "grid_template_areas": null,
            "grid_template_columns": null,
            "grid_template_rows": null,
            "height": null,
            "justify_content": null,
            "justify_items": null,
            "left": null,
            "margin": null,
            "max_height": null,
            "max_width": null,
            "min_height": null,
            "min_width": null,
            "object_fit": null,
            "object_position": null,
            "order": null,
            "overflow": null,
            "overflow_x": null,
            "overflow_y": null,
            "padding": null,
            "right": null,
            "top": null,
            "visibility": null,
            "width": null
          }
        },
        "5ca83505491e43a2a4fd0bf098d1d306": {
          "model_module": "@jupyter-widgets/controls",
          "model_name": "ProgressStyleModel",
          "model_module_version": "1.5.0",
          "state": {
            "_model_module": "@jupyter-widgets/controls",
            "_model_module_version": "1.5.0",
            "_model_name": "ProgressStyleModel",
            "_view_count": null,
            "_view_module": "@jupyter-widgets/base",
            "_view_module_version": "1.2.0",
            "_view_name": "StyleView",
            "bar_color": null,
            "description_width": ""
          }
        },
        "6476df7d6e36432ebf19b3d45caccef6": {
          "model_module": "@jupyter-widgets/base",
          "model_name": "LayoutModel",
          "model_module_version": "1.2.0",
          "state": {
            "_model_module": "@jupyter-widgets/base",
            "_model_module_version": "1.2.0",
            "_model_name": "LayoutModel",
            "_view_count": null,
            "_view_module": "@jupyter-widgets/base",
            "_view_module_version": "1.2.0",
            "_view_name": "LayoutView",
            "align_content": null,
            "align_items": null,
            "align_self": null,
            "border": null,
            "bottom": null,
            "display": null,
            "flex": null,
            "flex_flow": null,
            "grid_area": null,
            "grid_auto_columns": null,
            "grid_auto_flow": null,
            "grid_auto_rows": null,
            "grid_column": null,
            "grid_gap": null,
            "grid_row": null,
            "grid_template_areas": null,
            "grid_template_columns": null,
            "grid_template_rows": null,
            "height": null,
            "justify_content": null,
            "justify_items": null,
            "left": null,
            "margin": null,
            "max_height": null,
            "max_width": null,
            "min_height": null,
            "min_width": null,
            "object_fit": null,
            "object_position": null,
            "order": null,
            "overflow": null,
            "overflow_x": null,
            "overflow_y": null,
            "padding": null,
            "right": null,
            "top": null,
            "visibility": null,
            "width": null
          }
        },
        "98fee911cb9246269e98c7a72b70ebf6": {
          "model_module": "@jupyter-widgets/controls",
          "model_name": "DescriptionStyleModel",
          "model_module_version": "1.5.0",
          "state": {
            "_model_module": "@jupyter-widgets/controls",
            "_model_module_version": "1.5.0",
            "_model_name": "DescriptionStyleModel",
            "_view_count": null,
            "_view_module": "@jupyter-widgets/base",
            "_view_module_version": "1.2.0",
            "_view_name": "StyleView",
            "description_width": ""
          }
        },
        "2d3380f6b5be4ec4a20f04cba499e913": {
          "model_module": "@jupyter-widgets/controls",
          "model_name": "HBoxModel",
          "model_module_version": "1.5.0",
          "state": {
            "_dom_classes": [],
            "_model_module": "@jupyter-widgets/controls",
            "_model_module_version": "1.5.0",
            "_model_name": "HBoxModel",
            "_view_count": null,
            "_view_module": "@jupyter-widgets/controls",
            "_view_module_version": "1.5.0",
            "_view_name": "HBoxView",
            "box_style": "",
            "children": [
              "IPY_MODEL_ae34348a9d984a8db340e7f40ffeb186",
              "IPY_MODEL_1916d951129d46f286d36a372a4b32e2",
              "IPY_MODEL_adbeddc7ef49489eb81a6cb421a55364"
            ],
            "layout": "IPY_MODEL_dbfecd70afe341ed8cb45957a3feb80d"
          }
        },
        "ae34348a9d984a8db340e7f40ffeb186": {
          "model_module": "@jupyter-widgets/controls",
          "model_name": "HTMLModel",
          "model_module_version": "1.5.0",
          "state": {
            "_dom_classes": [],
            "_model_module": "@jupyter-widgets/controls",
            "_model_module_version": "1.5.0",
            "_model_name": "HTMLModel",
            "_view_count": null,
            "_view_module": "@jupyter-widgets/controls",
            "_view_module_version": "1.5.0",
            "_view_name": "HTMLView",
            "description": "",
            "description_tooltip": null,
            "layout": "IPY_MODEL_f1c5c06c60d34796b1bb131f1585bc14",
            "placeholder": "​",
            "style": "IPY_MODEL_1eedda9798a541788120ac83e95da887",
            "value": "model.safetensors: 100%"
          }
        },
        "1916d951129d46f286d36a372a4b32e2": {
          "model_module": "@jupyter-widgets/controls",
          "model_name": "FloatProgressModel",
          "model_module_version": "1.5.0",
          "state": {
            "_dom_classes": [],
            "_model_module": "@jupyter-widgets/controls",
            "_model_module_version": "1.5.0",
            "_model_name": "FloatProgressModel",
            "_view_count": null,
            "_view_module": "@jupyter-widgets/controls",
            "_view_module_version": "1.5.0",
            "_view_name": "ProgressView",
            "bar_style": "success",
            "description": "",
            "description_tooltip": null,
            "layout": "IPY_MODEL_90041643d21d4f338320886c7dee9a60",
            "max": 435755784,
            "min": 0,
            "orientation": "horizontal",
            "style": "IPY_MODEL_acfd4b6af5854e8192203acad87022e7",
            "value": 435755784
          }
        },
        "adbeddc7ef49489eb81a6cb421a55364": {
          "model_module": "@jupyter-widgets/controls",
          "model_name": "HTMLModel",
          "model_module_version": "1.5.0",
          "state": {
            "_dom_classes": [],
            "_model_module": "@jupyter-widgets/controls",
            "_model_module_version": "1.5.0",
            "_model_name": "HTMLModel",
            "_view_count": null,
            "_view_module": "@jupyter-widgets/controls",
            "_view_module_version": "1.5.0",
            "_view_name": "HTMLView",
            "description": "",
            "description_tooltip": null,
            "layout": "IPY_MODEL_4f9080eb13b344258829a5d5886c8c98",
            "placeholder": "​",
            "style": "IPY_MODEL_eb36f957f16d432c9934ae63b8a2d1d2",
            "value": " 436M/436M [00:02&lt;00:00, 153MB/s]"
          }
        },
        "dbfecd70afe341ed8cb45957a3feb80d": {
          "model_module": "@jupyter-widgets/base",
          "model_name": "LayoutModel",
          "model_module_version": "1.2.0",
          "state": {
            "_model_module": "@jupyter-widgets/base",
            "_model_module_version": "1.2.0",
            "_model_name": "LayoutModel",
            "_view_count": null,
            "_view_module": "@jupyter-widgets/base",
            "_view_module_version": "1.2.0",
            "_view_name": "LayoutView",
            "align_content": null,
            "align_items": null,
            "align_self": null,
            "border": null,
            "bottom": null,
            "display": null,
            "flex": null,
            "flex_flow": null,
            "grid_area": null,
            "grid_auto_columns": null,
            "grid_auto_flow": null,
            "grid_auto_rows": null,
            "grid_column": null,
            "grid_gap": null,
            "grid_row": null,
            "grid_template_areas": null,
            "grid_template_columns": null,
            "grid_template_rows": null,
            "height": null,
            "justify_content": null,
            "justify_items": null,
            "left": null,
            "margin": null,
            "max_height": null,
            "max_width": null,
            "min_height": null,
            "min_width": null,
            "object_fit": null,
            "object_position": null,
            "order": null,
            "overflow": null,
            "overflow_x": null,
            "overflow_y": null,
            "padding": null,
            "right": null,
            "top": null,
            "visibility": null,
            "width": null
          }
        },
        "f1c5c06c60d34796b1bb131f1585bc14": {
          "model_module": "@jupyter-widgets/base",
          "model_name": "LayoutModel",
          "model_module_version": "1.2.0",
          "state": {
            "_model_module": "@jupyter-widgets/base",
            "_model_module_version": "1.2.0",
            "_model_name": "LayoutModel",
            "_view_count": null,
            "_view_module": "@jupyter-widgets/base",
            "_view_module_version": "1.2.0",
            "_view_name": "LayoutView",
            "align_content": null,
            "align_items": null,
            "align_self": null,
            "border": null,
            "bottom": null,
            "display": null,
            "flex": null,
            "flex_flow": null,
            "grid_area": null,
            "grid_auto_columns": null,
            "grid_auto_flow": null,
            "grid_auto_rows": null,
            "grid_column": null,
            "grid_gap": null,
            "grid_row": null,
            "grid_template_areas": null,
            "grid_template_columns": null,
            "grid_template_rows": null,
            "height": null,
            "justify_content": null,
            "justify_items": null,
            "left": null,
            "margin": null,
            "max_height": null,
            "max_width": null,
            "min_height": null,
            "min_width": null,
            "object_fit": null,
            "object_position": null,
            "order": null,
            "overflow": null,
            "overflow_x": null,
            "overflow_y": null,
            "padding": null,
            "right": null,
            "top": null,
            "visibility": null,
            "width": null
          }
        },
        "1eedda9798a541788120ac83e95da887": {
          "model_module": "@jupyter-widgets/controls",
          "model_name": "DescriptionStyleModel",
          "model_module_version": "1.5.0",
          "state": {
            "_model_module": "@jupyter-widgets/controls",
            "_model_module_version": "1.5.0",
            "_model_name": "DescriptionStyleModel",
            "_view_count": null,
            "_view_module": "@jupyter-widgets/base",
            "_view_module_version": "1.2.0",
            "_view_name": "StyleView",
            "description_width": ""
          }
        },
        "90041643d21d4f338320886c7dee9a60": {
          "model_module": "@jupyter-widgets/base",
          "model_name": "LayoutModel",
          "model_module_version": "1.2.0",
          "state": {
            "_model_module": "@jupyter-widgets/base",
            "_model_module_version": "1.2.0",
            "_model_name": "LayoutModel",
            "_view_count": null,
            "_view_module": "@jupyter-widgets/base",
            "_view_module_version": "1.2.0",
            "_view_name": "LayoutView",
            "align_content": null,
            "align_items": null,
            "align_self": null,
            "border": null,
            "bottom": null,
            "display": null,
            "flex": null,
            "flex_flow": null,
            "grid_area": null,
            "grid_auto_columns": null,
            "grid_auto_flow": null,
            "grid_auto_rows": null,
            "grid_column": null,
            "grid_gap": null,
            "grid_row": null,
            "grid_template_areas": null,
            "grid_template_columns": null,
            "grid_template_rows": null,
            "height": null,
            "justify_content": null,
            "justify_items": null,
            "left": null,
            "margin": null,
            "max_height": null,
            "max_width": null,
            "min_height": null,
            "min_width": null,
            "object_fit": null,
            "object_position": null,
            "order": null,
            "overflow": null,
            "overflow_x": null,
            "overflow_y": null,
            "padding": null,
            "right": null,
            "top": null,
            "visibility": null,
            "width": null
          }
        },
        "acfd4b6af5854e8192203acad87022e7": {
          "model_module": "@jupyter-widgets/controls",
          "model_name": "ProgressStyleModel",
          "model_module_version": "1.5.0",
          "state": {
            "_model_module": "@jupyter-widgets/controls",
            "_model_module_version": "1.5.0",
            "_model_name": "ProgressStyleModel",
            "_view_count": null,
            "_view_module": "@jupyter-widgets/base",
            "_view_module_version": "1.2.0",
            "_view_name": "StyleView",
            "bar_color": null,
            "description_width": ""
          }
        },
        "4f9080eb13b344258829a5d5886c8c98": {
          "model_module": "@jupyter-widgets/base",
          "model_name": "LayoutModel",
          "model_module_version": "1.2.0",
          "state": {
            "_model_module": "@jupyter-widgets/base",
            "_model_module_version": "1.2.0",
            "_model_name": "LayoutModel",
            "_view_count": null,
            "_view_module": "@jupyter-widgets/base",
            "_view_module_version": "1.2.0",
            "_view_name": "LayoutView",
            "align_content": null,
            "align_items": null,
            "align_self": null,
            "border": null,
            "bottom": null,
            "display": null,
            "flex": null,
            "flex_flow": null,
            "grid_area": null,
            "grid_auto_columns": null,
            "grid_auto_flow": null,
            "grid_auto_rows": null,
            "grid_column": null,
            "grid_gap": null,
            "grid_row": null,
            "grid_template_areas": null,
            "grid_template_columns": null,
            "grid_template_rows": null,
            "height": null,
            "justify_content": null,
            "justify_items": null,
            "left": null,
            "margin": null,
            "max_height": null,
            "max_width": null,
            "min_height": null,
            "min_width": null,
            "object_fit": null,
            "object_position": null,
            "order": null,
            "overflow": null,
            "overflow_x": null,
            "overflow_y": null,
            "padding": null,
            "right": null,
            "top": null,
            "visibility": null,
            "width": null
          }
        },
        "eb36f957f16d432c9934ae63b8a2d1d2": {
          "model_module": "@jupyter-widgets/controls",
          "model_name": "DescriptionStyleModel",
          "model_module_version": "1.5.0",
          "state": {
            "_model_module": "@jupyter-widgets/controls",
            "_model_module_version": "1.5.0",
            "_model_name": "DescriptionStyleModel",
            "_view_count": null,
            "_view_module": "@jupyter-widgets/base",
            "_view_module_version": "1.2.0",
            "_view_name": "StyleView",
            "description_width": ""
          }
        }
      }
    }
  },
  "nbformat": 4,
  "nbformat_minor": 0
}